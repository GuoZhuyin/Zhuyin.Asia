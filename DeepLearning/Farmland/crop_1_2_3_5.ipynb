{
  "cells": [
    {
      "cell_type": "markdown",
      "metadata": {
        "id": "view-in-github",
        "colab_type": "text"
      },
      "source": [
        "<a href=\"https://colab.research.google.com/github/GuoZhuyin/zhuyinasia/blob/main/DeepLearning/Farmland/crop_1_2_3_5.ipynb\" target=\"_parent\"><img src=\"https://colab.research.google.com/assets/colab-badge.svg\" alt=\"Open In Colab\"/></a>"
      ]
    },
    {
      "cell_type": "code",
      "execution_count": null,
      "id": "fIxkvaWYBAfa",
      "metadata": {
        "id": "fIxkvaWYBAfa"
      },
      "outputs": [],
      "source": [
        "import torch\n",
        "import os #檔案處理用\n",
        "import sys\n",
        "from PIL import Image #照片處理用\n",
        "import glob #抓取路徑下檔案名稱"
      ]
    },
    {
      "cell_type": "code",
      "execution_count": null,
      "id": "Q3mauENSi_NP",
      "metadata": {
        "colab": {
          "base_uri": "https://localhost:8080/"
        },
        "id": "Q3mauENSi_NP",
        "outputId": "6c72de50-e206-44f3-f7ea-23bd2fa66891"
      },
      "outputs": [
        {
          "name": "stdout",
          "output_type": "stream",
          "text": [
            "9\n"
          ]
        }
      ],
      "source": [
        "folders=['bareland','carrot',  'garlic', 'peanut', 'pineapple', 'pumpkin', 'rice', 'soybean', 'tomato']\n",
        "print(len(folders)) #總共有14個資料夾\n",
        " #['banana','bareland', 'carrot', 'corn', 'dragonfruit', 'garlic', 'guava', 'peanut', 'pineapple', 'pumpkin', 'rice', 'soybean', 'sugarcane', 'tomato']"
      ]
    },
    {
      "cell_type": "markdown",
      "id": "b942a4fe",
      "metadata": {
        "id": "b942a4fe"
      },
      "source": [
        "輸入的資料夾位置"
      ]
    },
    {
      "cell_type": "code",
      "execution_count": null,
      "id": "8x5wP7EVkTDW",
      "metadata": {
        "id": "8x5wP7EVkTDW"
      },
      "outputs": [],
      "source": [
        "mydir = \"farmlandtrain_image\""
      ]
    },
    {
      "cell_type": "markdown",
      "id": "033724df",
      "metadata": {
        "id": "033724df"
      },
      "source": [
        "截圖完暫時放入的資料夾"
      ]
    },
    {
      "cell_type": "code",
      "execution_count": null,
      "id": "wPOwDGI0kOTB",
      "metadata": {
        "id": "wPOwDGI0kOTB"
      },
      "outputs": [],
      "source": [
        "if not os.path.isdir(mydir):\n",
        "    os.mkdir(mydir) #如果samples資料夾不在則進行創建"
      ]
    },
    {
      "cell_type": "code",
      "execution_count": null,
      "id": "QLqRiFnWjRcX",
      "metadata": {
        "id": "QLqRiFnWjRcX"
      },
      "outputs": [],
      "source": [
        "for sub in folders:\n",
        "    subpath=os.path.join(mydir, sub) #迴圈在samples裡面進行資料夾建立\n",
        "    if not os.path.isdir(subpath):\n",
        "      os.mkdir(subpath) #如果子目錄不在則進行創建"
      ]
    },
    {
      "cell_type": "code",
      "execution_count": null,
      "id": "p7F-4jQlvHtO",
      "metadata": {
        "id": "p7F-4jQlvHtO"
      },
      "outputs": [],
      "source": [
        "new_width = 512\n",
        "new_height = 512\n",
        "for f in folders:\n",
        "    subpath=os.path.join(f, \"*\")\n",
        "    files = glob.glob(subpath)\n",
        "    print(f\"Categroy:{f}\")\n",
        "    for fname in files:\n",
        "      print(fname)"
      ]
    },
    {
      "cell_type": "code",
      "execution_count": null,
      "id": "cq2TMpLEktKf",
      "metadata": {
        "id": "cq2TMpLEktKf"
      },
      "outputs": [],
      "source": [
        "import glob\n",
        "from PIL import Image \n",
        "new_width = 512\n",
        "new_height = 512\n",
        "#新圖片設為512*512\n",
        "for f in folders:\n",
        "    subpath=os.path.join(f, \"*\")\n",
        "    files = glob.glob(subpath)\n",
        "    print(f\"Categroy:{f}\")\n",
        "    for fname in files:\n",
        "        \n",
        "        im = Image.open(fname)\n",
        "        width, height = im.size   # Get dimensions\n",
        "\n",
        "        left = width*1/2 - new_width/2 \n",
        "        top = height*3/5 - new_height/2 #左上\n",
        "        right = width*1/2 + new_width/2\n",
        "        bottom = height*3/5 + new_height/2 #右下\n",
        "\n",
        "        # Crop the center of the image\n",
        "        im = im.crop((left, top, right, bottom))\n",
        "        \n",
        "        fname2 = os.path.join(mydir, fname)\n",
        "        im.save(fname2)\n",
        "\n",
        "'''\n",
        "假設(4000*2000)取中間(1/2)的512*512 座標位置則是(x1,y1,x2,y2)\n",
        "(\"(2000-(512/2))\",\"(1000+(512/2))\",\"(2000+(512/2))\",\"(1000-(512/2))\")\n",
        "'''"
      ]
    }
  ],
  "metadata": {
    "accelerator": "GPU",
    "colab": {
      "collapsed_sections": [],
      "name": "crop-1-2-3-5.ipynb",
      "provenance": [],
      "include_colab_link": true
    },
    "kernelspec": {
      "display_name": "Python 3 (ipykernel)",
      "language": "python",
      "name": "python3"
    },
    "language_info": {
      "codemirror_mode": {
        "name": "ipython",
        "version": 3
      },
      "file_extension": ".py",
      "mimetype": "text/x-python",
      "name": "python",
      "nbconvert_exporter": "python",
      "pygments_lexer": "ipython3",
      "version": "3.9.7"
    }
  },
  "nbformat": 4,
  "nbformat_minor": 5
}