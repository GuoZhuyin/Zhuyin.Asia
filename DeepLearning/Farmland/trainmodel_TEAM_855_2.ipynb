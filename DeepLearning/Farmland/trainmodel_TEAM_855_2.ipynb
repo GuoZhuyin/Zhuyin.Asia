{
  "cells": [
    {
      "cell_type": "markdown",
      "metadata": {
        "id": "view-in-github",
        "colab_type": "text"
      },
      "source": [
        "<a href=\"https://colab.research.google.com/github/GuoZhuyin/zhuyinasia/blob/main/DeepLearning/trainmodel_TEAM_855_2.ipynb\" target=\"_parent\"><img src=\"https://colab.research.google.com/assets/colab-badge.svg\" alt=\"Open In Colab\"/></a>"
      ]
    },
    {
      "cell_type": "markdown",
      "metadata": {
        "id": "UpEHKKWxoCUt"
      },
      "source": [
        "## 訓練模型"
      ],
      "id": "UpEHKKWxoCUt"
    },
    {
      "cell_type": "code",
      "execution_count": null,
      "metadata": {
        "id": "3fdHmMiJN6bK"
      },
      "outputs": [],
      "source": [
        "import PIL\n",
        "import os\n",
        "import pandas as pd\n",
        "import numpy as np\n",
        "import matplotlib.pyplot as plt\n",
        "%matplotlib inline\n",
        "import torch\n",
        "import torchvision\n",
        "from torch import nn\n",
        "from torch.utils.data import Dataset, DataLoader\n",
        "from torchvision import datasets, transforms\n",
        "from torchvision.transforms import ToTensor\n",
        "print(\"PyTorch Version: \",torch.__version__)\n",
        "print(\"Torchvision Version: \",torchvision.__version__)"
      ],
      "id": "3fdHmMiJN6bK"
    },
    {
      "cell_type": "code",
      "execution_count": null,
      "metadata": {
        "id": "sP867bmdbhZ4"
      },
      "outputs": [],
      "source": [
        "num_classes = 17"
      ],
      "id": "sP867bmdbhZ4"
    },
    {
      "cell_type": "code",
      "execution_count": null,
      "metadata": {
        "id": "MwqJQGHXKkxn"
      },
      "outputs": [],
      "source": [
        "from torchvision import models\n",
        "model = models.inception_v3(pretrained=False)\n",
        "model.aux_logits = False\n",
        "model.fc =  nn.Linear(model.fc.in_features, num_classes) #調整輸出類別\n",
        "# model = nn.DataParallel(model) #cuda使用"
      ],
      "id": "MwqJQGHXKkxn"
    },
    {
      "cell_type": "markdown",
      "metadata": {
        "id": "53e537QqoCU4"
      },
      "source": [
        "model=models.efficientnet_b0(pretrained=False, num_classes=num_classes)\n",
        "\n",
        "model=models.efficientnet_b2(pretrained=False, num_classes=num_classes)"
      ],
      "id": "53e537QqoCU4"
    },
    {
      "cell_type": "code",
      "execution_count": null,
      "metadata": {
        "id": "Gxqgem08oCU5"
      },
      "outputs": [],
      "source": [
        "model.load_state_dict(torch.load('../model/fbl_pt1-E60.pth')) #transfer learning"
      ],
      "id": "Gxqgem08oCU5"
    },
    {
      "cell_type": "markdown",
      "metadata": {
        "id": "WSqbQC1KoCU5"
      },
      "source": [
        "輸入的模型參數"
      ],
      "id": "WSqbQC1KoCU5"
    },
    {
      "cell_type": "code",
      "execution_count": null,
      "metadata": {
        "id": "kglg-3qagAKM"
      },
      "outputs": [],
      "source": [
        "train_transform = transforms.Compose([\n",
        "    transforms.RandomResizedCrop(299),\n",
        "    transforms.ToTensor(), # ToTensor : [0, 255] -> [0, 1]\n",
        "    transforms.Normalize(mean=[0.485, 0.456, 0.406],\n",
        "                   std=[0.229, 0.224, 0.225])\n",
        "])"
      ],
      "id": "kglg-3qagAKM"
    },
    {
      "cell_type": "code",
      "execution_count": null,
      "metadata": {
        "id": "TAhIzFYxa7z1"
      },
      "outputs": [],
      "source": [
        "# import torchvision.models as models\n",
        "# num_classes = 17\n",
        "# model=models.efficientnet_b0(pretrained=False, num_classes=num_classes)\n",
        "# model.cuda()"
      ],
      "id": "TAhIzFYxa7z1"
    },
    {
      "cell_type": "code",
      "execution_count": null,
      "metadata": {
        "id": "IxQYic8NNYB9"
      },
      "outputs": [],
      "source": [
        "# train_transform = transforms.Compose([\n",
        "#     #transforms.RandomResizedCrop(224),\n",
        "#     #transforms.RandomHorizontalFlip(),\n",
        "#     transforms.ToTensor(), # ToTensor : [0, 255] -> [0, 1]\n",
        "#     transforms.Normalize(mean=[0.485, 0.456, 0.406],\n",
        "#                          std=[0.229, 0.224, 0.225])\n",
        "# ])"
      ],
      "id": "IxQYic8NNYB9"
    },
    {
      "cell_type": "code",
      "execution_count": null,
      "metadata": {
        "id": "AuHA8YuUxnzd"
      },
      "outputs": [],
      "source": [
        "train_data = datasets.ImageFolder('farmlandtrain_imageV2', train_transform)"
      ],
      "id": "AuHA8YuUxnzd"
    },
    {
      "cell_type": "markdown",
      "metadata": {
        "id": "5cVrGNHboCU9"
      },
      "source": [
        "train_data = datasets.ImageFolder('farmlandtrain_imageV3', train_transform)\n",
        "\n",
        "train_data = datasets.ImageFolder('farmlandtrain_imageV4', train_transform)"
      ],
      "id": "5cVrGNHboCU9"
    },
    {
      "cell_type": "code",
      "execution_count": null,
      "metadata": {
        "id": "fZdBE5JZxqi5"
      },
      "outputs": [],
      "source": [
        "num_classes=len(train_data.classes)\n",
        "print(num_classes)"
      ],
      "id": "fZdBE5JZxqi5"
    },
    {
      "cell_type": "code",
      "execution_count": null,
      "metadata": {
        "id": "NfKUkITsxtC_"
      },
      "outputs": [],
      "source": [
        "train_data.class_to_idx"
      ],
      "id": "NfKUkITsxtC_"
    },
    {
      "cell_type": "code",
      "execution_count": null,
      "metadata": {
        "id": "LMmAHz5MyC9i"
      },
      "outputs": [],
      "source": [
        "batch_size = 64 #GPU batch\n",
        "train_loader = DataLoader(train_data,batch_size=batch_size, shuffle=True)"
      ],
      "id": "LMmAHz5MyC9i"
    },
    {
      "cell_type": "code",
      "execution_count": null,
      "metadata": {
        "id": "wvsR51PPyGq9"
      },
      "outputs": [],
      "source": [
        "def imshow(img, title):\n",
        "    img = torchvision.utils.make_grid(img, normalize=True)\n",
        "    npimg = img.numpy()\n",
        "    fig = plt.figure(figsize = (5, 15))\n",
        "    plt.imshow(np.transpose(npimg,(1,2,0)))\n",
        "    plt.title(title)\n",
        "    plt.axis('off')\n",
        "    plt.show()"
      ],
      "id": "wvsR51PPyGq9"
    },
    {
      "cell_type": "code",
      "execution_count": null,
      "metadata": {
        "id": "mOWRpbD5yOc6"
      },
      "outputs": [],
      "source": [
        "dataiter = iter(train_loader)\n",
        "images, labels = dataiter.next()\n",
        "imshow(images, [train_data.classes[i] for i in labels])"
      ],
      "id": "mOWRpbD5yOc6"
    },
    {
      "cell_type": "code",
      "execution_count": null,
      "metadata": {
        "id": "WWbnqbh1pjoz"
      },
      "outputs": [],
      "source": [
        "model.training"
      ],
      "id": "WWbnqbh1pjoz"
    },
    {
      "cell_type": "code",
      "execution_count": null,
      "metadata": {
        "id": "GiSpgErzyfw8"
      },
      "outputs": [],
      "source": [
        "model = model.cuda()"
      ],
      "id": "GiSpgErzyfw8"
    },
    {
      "cell_type": "code",
      "execution_count": null,
      "metadata": {
        "id": "_wztROHELFIr"
      },
      "outputs": [],
      "source": [
        "# loss = nn.CrossEntropyLoss()\n",
        "# optimizer = torch.optim.RMSprop(filter(lambda p: p.requires_grad, model.parameters()), lr=0.001)"
      ],
      "id": "_wztROHELFIr"
    },
    {
      "cell_type": "code",
      "execution_count": null,
      "metadata": {
        "id": "5hkcz5Ib8u5c"
      },
      "outputs": [],
      "source": [
        "loss = nn.CrossEntropyLoss()\n",
        "optimizer = torch.optim.SGD(model.parameters(), lr=0.001, momentum=0.9)"
      ],
      "id": "5hkcz5Ib8u5c"
    },
    {
      "cell_type": "code",
      "execution_count": null,
      "metadata": {
        "id": "-uqmRCyJyjCC"
      },
      "outputs": [],
      "source": [
        "num_epochs = 60 #迴圈"
      ],
      "id": "-uqmRCyJyjCC"
    },
    {
      "cell_type": "code",
      "execution_count": null,
      "metadata": {
        "id": "Q6vX1CQiysAg"
      },
      "outputs": [],
      "source": [
        "for epoch in range(num_epochs):\n",
        "    total_batch = len(train_data)//batch_size\n",
        "    for i, (batch_images, batch_labels) in enumerate(train_loader):\n",
        "        # Zero your gradients for every batch!\n",
        "        optimizer.zero_grad() #每次進行優化器前梯度歸零\n",
        "        inputs = batch_images.cuda()\n",
        "        labels = batch_labels.cuda()\n",
        "        # Make predictions for this batch\n",
        "        outputs  = model(inputs)\n",
        "        \n",
        "        # Compute the loss and its gradients\n",
        "        cost = loss(outputs , labels)\n",
        "        cost.backward()\n",
        "        # Adjust learning weights\n",
        "        optimizer.step()\n",
        "\n",
        "        if (i+1) % 100 == 0:\n",
        "            print(f'Epoch [{epoch+1}/{num_epochs}], lter [{i+1}/{total_batch}] Loss: {cost.item():.4f}')"
      ],
      "id": "Q6vX1CQiysAg"
    },
    {
      "cell_type": "code",
      "execution_count": null,
      "metadata": {
        "id": "MVg8mq4cy5V5"
      },
      "outputs": [],
      "source": [
        "torch.save(model.state_dict(), 'InV3_TEAM_855_5.0.pth') #model name"
      ],
      "id": "MVg8mq4cy5V5"
    },
    {
      "cell_type": "markdown",
      "metadata": {
        "id": "QRZCl4WxoCVB"
      },
      "source": [
        "模型儲存名稱為InV3_TEAM_855_5.0.pth"
      ],
      "id": "QRZCl4WxoCVB"
    }
  ],
  "metadata": {
    "accelerator": "GPU",
    "colab": {
      "collapsed_sections": [],
      "name": "trainmodel_TEAM_855_2.ipynb",
      "provenance": [],
      "include_colab_link": true
    },
    "interpreter": {
      "hash": "4ee1c1679946c91852c6f8ef3a3b3cf7654edaf483e97fc3d4719e469b9bc885"
    },
    "kernelspec": {
      "display_name": "Python 3.8.3 ('base')",
      "language": "python",
      "name": "python3"
    },
    "language_info": {
      "codemirror_mode": {
        "name": "ipython",
        "version": 3
      },
      "file_extension": ".py",
      "mimetype": "text/x-python",
      "name": "python",
      "nbconvert_exporter": "python",
      "pygments_lexer": "ipython3",
      "version": "3.8.3"
    }
  },
  "nbformat": 4,
  "nbformat_minor": 5
}
