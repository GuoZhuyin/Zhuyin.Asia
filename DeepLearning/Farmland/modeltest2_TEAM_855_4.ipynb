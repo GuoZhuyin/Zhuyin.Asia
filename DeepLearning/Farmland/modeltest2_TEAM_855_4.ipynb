{
  "cells": [
    {
      "cell_type": "markdown",
      "metadata": {
        "id": "view-in-github",
        "colab_type": "text"
      },
      "source": [
        "<a href=\"https://colab.research.google.com/github/GuoZhuyin/zhuyinasia/blob/main/DeepLearning/modeltest2_TEAM_855_4.ipynb\" target=\"_parent\"><img src=\"https://colab.research.google.com/assets/colab-badge.svg\" alt=\"Open In Colab\"/></a>"
      ]
    },
    {
      "cell_type": "markdown",
      "metadata": {
        "id": "23rD3Vfbotrb"
      },
      "source": [
        "## 隨機挑選訓練集進行測試判斷模型準確率"
      ],
      "id": "23rD3Vfbotrb"
    },
    {
      "cell_type": "code",
      "execution_count": null,
      "metadata": {
        "id": "C5Cet59rQD62"
      },
      "outputs": [],
      "source": [
        "import PIL\n",
        "import os\n",
        "import pandas as pd\n",
        "import numpy as np\n",
        "import matplotlib.pyplot as plt\n",
        "%matplotlib inline\n",
        "import torch\n",
        "import torchvision\n",
        "from torch import nn\n",
        "from torch.utils.data import Dataset, DataLoader\n",
        "from torchvision import datasets, transforms\n",
        "from torchvision.transforms import ToTensor\n",
        "print(\"PyTorch Version: \",torch.__version__)\n",
        "print(\"Torchvision Version: \",torchvision.__version__)"
      ],
      "id": "C5Cet59rQD62"
    },
    {
      "cell_type": "code",
      "execution_count": null,
      "metadata": {
        "id": "w5b1gq5NLjmp"
      },
      "outputs": [],
      "source": [
        "classes=['banana', 'bareland', 'carrot', 'corn', 'dragonfruit', 'garlic', 'guava', 'peanut', 'pineapple', 'pumpkin', 'rice', 'soybean', 'sugarcane', 'tomato', 'building', 'mountain', 'sky']\n",
        "num_classes = len(classes)\n",
        "print(num_classes)"
      ],
      "id": "w5b1gq5NLjmp"
    },
    {
      "cell_type": "code",
      "execution_count": null,
      "metadata": {
        "id": "h1u3nkoQLcof"
      },
      "outputs": [],
      "source": [
        "from torchvision import models\n",
        "#model = models.inception_v3(pretrained=False)\n",
        "model = torch.hub.load('pytorch/vision:v0.10.0', 'inception_v3', pretrained=False)\n",
        "model.aux_logits = False\n",
        "model.fc =  nn.Linear(model.fc.in_features, num_classes)\n",
        "model = nn.DataParallel(model) #cuda設定"
      ],
      "id": "h1u3nkoQLcof"
    },
    {
      "cell_type": "code",
      "execution_count": null,
      "metadata": {
        "id": "XNMnRPMVL4uN"
      },
      "outputs": [],
      "source": [
        "model.load_state_dict(torch.load('../model/InV3_TEAM_855_5.0.pth'))"
      ],
      "id": "XNMnRPMVL4uN"
    },
    {
      "cell_type": "markdown",
      "metadata": {
        "id": "uoKzpgHkotrm"
      },
      "source": [
        "輸入的模型參數"
      ],
      "id": "uoKzpgHkotrm"
    },
    {
      "cell_type": "code",
      "execution_count": null,
      "metadata": {
        "id": "dXFQNFmHL9D9"
      },
      "outputs": [],
      "source": [
        "model.eval()"
      ],
      "id": "dXFQNFmHL9D9"
    },
    {
      "cell_type": "code",
      "execution_count": null,
      "metadata": {
        "id": "Pc2iq0kCL-ep"
      },
      "outputs": [],
      "source": [
        "model = model.cuda()"
      ],
      "id": "Pc2iq0kCL-ep"
    },
    {
      "cell_type": "code",
      "execution_count": null,
      "metadata": {
        "id": "GAlllALwSTZL"
      },
      "outputs": [],
      "source": [
        "test_transform = transforms.Compose([\n",
        "    transforms.Resize((299, 299)),\n",
        "    transforms.ToTensor(), # ToTensor : [0, 255] -> [0, 1]\n",
        "    transforms.Normalize(mean=[0.485, 0.456, 0.406],\n",
        "                         std=[0.229, 0.224, 0.225])\n",
        "])"
      ],
      "id": "GAlllALwSTZL"
    },
    {
      "cell_type": "code",
      "execution_count": null,
      "metadata": {
        "id": "orVgSHTxR-LH"
      },
      "outputs": [],
      "source": [
        "class MyDatasetFromImage(Dataset):\n",
        "    \"\"\"FarmLand single dataset.\"\"\"\n",
        "\n",
        "    def __init__(self, image, transform=None):\n",
        "        \"\"\"\n",
        "        Args:\n",
        "            image (Image): singe image.\n",
        "            transform (callable, optional): Optional transform to be applied\n",
        "                on a sample.\n",
        "        \"\"\"\n",
        "        self.image = image\n",
        "        self.transform = transform\n",
        "        self.boxes=list()\n",
        "\n",
        "        count = 0\n",
        "        width, height = image.size   # Get dimensions\n",
        "        new_width = 512\n",
        "        new_height = 512\n",
        "        stride = 32\n",
        "        for startx in range(width//3, width*2//3-new_width, stride):\n",
        "          for starty in range(height//2, height*3//4-new_height, stride):\n",
        "              left = startx\n",
        "              top = starty\n",
        "              right = startx + new_width\n",
        "              bottom = starty + new_height\n",
        "              self.boxes.append((left, top, right, bottom))\n",
        "    def __len__(self):\n",
        "        return len(self.boxes)\n",
        "\n",
        "    def __getitem__(self, idx):\n",
        "        if torch.is_tensor(idx):\n",
        "            idx = idx.tolist()\n",
        "                # Crop the sub image\n",
        "        left, top, right, bottom = self.boxes[idx]\n",
        "        im2 = im.crop((left, top, right, bottom))\n",
        "\n",
        "        if self.transform:\n",
        "            sample = self.transform(im2)\n",
        "        else:\n",
        "            sample = im2\n",
        "        return sample"
      ],
      "id": "orVgSHTxR-LH"
    },
    {
      "cell_type": "code",
      "execution_count": null,
      "metadata": {
        "id": "oHvRSMyuSft2"
      },
      "outputs": [],
      "source": [
        "def accumulate_blocks(stats, arr):\n",
        "    for index in arr:\n",
        "      if index == 2 or index == 8 or index == 13:\n",
        "           continue\n",
        "      stats[index] +=1"
      ],
      "id": "oHvRSMyuSft2"
    },
    {
      "cell_type": "code",
      "execution_count": null,
      "metadata": {
        "id": "lJhGBls5SGbb"
      },
      "outputs": [],
      "source": [
        "def judge_class(testset, model, batch_size):\n",
        "    test_dataloader = DataLoader(testset, batch_size=batch_size, shuffle=False)\n",
        "    stats = [0 for i in range(17)] \n",
        "    for images in test_dataloader:\n",
        "        images = images.cuda()\n",
        "        outputs = model(images)\n",
        "        _, dets = torch.max(outputs, 1)\n",
        "        accumulate_blocks(stats, dets)\n",
        "    return stats"
      ],
      "id": "lJhGBls5SGbb"
    },
    {
      "cell_type": "code",
      "execution_count": null,
      "metadata": {
        "id": "e1n5FmtgWkQK"
      },
      "outputs": [],
      "source": [
        "class_to_index={'banana': 0, 'bareland': 1, 'building': 2, 'carrot': 3,\n",
        " 'corn': 4, 'dragonfruit': 5, 'garlic': 6, 'guava': 7, 'mountain': 8,\n",
        " 'peanut': 9, 'pineapple': 10, 'pumpkin': 11, 'rice': 12, 'sky': 13,\n",
        " 'soybean': 14, 'sugarcane': 15, 'tomato': 16}\n",
        "index_to_class = {v: k for k, v in class_to_index.items()}"
      ],
      "id": "e1n5FmtgWkQK"
    },
    {
      "cell_type": "code",
      "execution_count": null,
      "metadata": {
        "id": "U1JBMYw8MOj8"
      },
      "outputs": [],
      "source": [
        "import glob\n",
        "testpath=os.path.join(\"Test200\", \"*\") #測試資料夾位置\n",
        "files = glob.glob(testpath)\n",
        "files.sort()\n",
        "for fname in files:\n",
        "  print(fname)"
      ],
      "id": "U1JBMYw8MOj8"
    },
    {
      "cell_type": "markdown",
      "metadata": {
        "id": "YKdSEMacotrr"
      },
      "source": [
        "隨機挑選訓練集的測試資料夾"
      ],
      "id": "YKdSEMacotrr"
    },
    {
      "cell_type": "code",
      "execution_count": null,
      "metadata": {
        "id": "waSHYYOrRqli"
      },
      "outputs": [],
      "source": [
        "import pandas as pd\n",
        "from PIL import Image \n",
        "df = pd.DataFrame(columns =['filename', 'landtype'])\n",
        "batch_size = 64 #GPU調整batch\n",
        "for i, fname in enumerate(files):\n",
        "    img_name = os.path.basename(fname)\n",
        "    im = Image.open(fname)\n",
        "    testset = MyDatasetFromImage(im, test_transform)\n",
        "    stats = judge_class(testset, model, batch_size)\n",
        "    curclass=index_to_class[np.argmax(stats)]\n",
        "    df.loc[i]=[img_name, curclass]#填答案\n",
        "    print(f\"{img_name}->{curclass}\")"
      ],
      "id": "waSHYYOrRqli"
    },
    {
      "cell_type": "code",
      "execution_count": null,
      "metadata": {
        "id": "RoYzedGAUiz7"
      },
      "outputs": [],
      "source": [
        "df.to_csv(\"result.csv\", index = False)"
      ],
      "id": "RoYzedGAUiz7"
    },
    {
      "cell_type": "markdown",
      "metadata": {
        "id": "DeNxiaJ1Xks2"
      },
      "source": [
        "#IPO-P: 計算分數\n",
        "\n",
        "https://aidea-web.tw/topic/93c8c26b-0e96-44bc-9a53-1c96353ad340\n",
        "\n",
        "評估方式採用Weighted-Precision(WP), 且各類別F1-score需大於0.7\n",
        "\n",
        "$$WP={\\sum_{i=1}^{NumofClass} (Precision_i \\times (TP_i + FN_i)) \\over TotalImageCount}$$\n",
        "\n",
        "$$\\text{F1-score}= 2 \\times {(Precision \\times Recall) \\over (Precision + Recall) }$$\n",
        "\n",
        "$$\\text{Recall}= {TP \\over TP + FN }$$\n",
        "\n",
        "$$\\text{Precision}= {TP \\over TP + FP }$$\n"
      ],
      "id": "DeNxiaJ1Xks2"
    },
    {
      "cell_type": "code",
      "execution_count": null,
      "metadata": {
        "id": "W3co0-AjhV23"
      },
      "outputs": [],
      "source": [
        "len(df)"
      ],
      "id": "W3co0-AjhV23"
    },
    {
      "cell_type": "code",
      "execution_count": null,
      "metadata": {
        "id": "0Fu-B1liRtaX"
      },
      "outputs": [],
      "source": [
        "df2 = pd.read_csv('test200.csv')"
      ],
      "id": "0Fu-B1liRtaX"
    },
    {
      "cell_type": "code",
      "execution_count": null,
      "metadata": {
        "id": "7YG83_DXhY5C"
      },
      "outputs": [],
      "source": [
        "# 檢查看看一不一樣\n",
        "for i in range(len(df)):\n",
        "  s1=df.iloc[i]\n",
        "  s2=df2.iloc[i]\n",
        "  if s1.filename!=s2.filename:\n",
        "    print(f\"{s1.filename}!={s2.filename}\")"
      ],
      "id": "7YG83_DXhY5C"
    },
    {
      "cell_type": "markdown",
      "metadata": {
        "id": "oAzvtoJJjtnc"
      },
      "source": [
        "![](https://www.researchgate.net/publication/336402347/figure/fig3/AS:812472659349505@1570719985505/Calculation-of-Precision-Recall-and-Accuracy-in-the-confusion-matrix.ppm)\n"
      ],
      "id": "oAzvtoJJjtnc"
    },
    {
      "cell_type": "code",
      "execution_count": null,
      "metadata": {
        "id": "NiMkTTzWhIWc"
      },
      "outputs": [],
      "source": [
        "T = 0\n",
        "All =len(df)\n",
        "for i in range(len(df)):\n",
        "  s1=df.iloc[i]\n",
        "  s2=df2.iloc[i]\n",
        "  if s1.landtype==s2.landtype:\n",
        "      T += 1\n",
        "Accuracy = T/All\n",
        "print(f\"Accuracy={Accuracy:.2f}\")\n",
        "     "
      ],
      "id": "NiMkTTzWhIWc"
    },
    {
      "cell_type": "code",
      "execution_count": null,
      "metadata": {
        "id": "ITxB99I7nMzV"
      },
      "outputs": [],
      "source": [
        "landtypes=['banana', 'bareland', 'carrot', 'corn', 'dragonfruit', 'garlic', 'guava', 'peanut', 'pineapple', 'pumpkin', 'rice', 'soybean', 'sugarcane', 'tomato']\n",
        "print(len(landtypes))"
      ],
      "id": "ITxB99I7nMzV"
    },
    {
      "cell_type": "code",
      "execution_count": null,
      "metadata": {
        "id": "9ZWI9PyTqxDt"
      },
      "outputs": [],
      "source": [
        "TP = dict()\n",
        "FN = dict()\n",
        "FP = dict()\n",
        "for lt in landtypes:\n",
        "  TP[lt] = 0\n",
        "  FN[lt] = 0\n",
        "  FP[lt] = 0\n",
        "for i in range(len(df)):\n",
        "  s1=df.iloc[i]\n",
        "  s2=df2.iloc[i]\n",
        "  if s1.landtype==s2.landtype:\n",
        "      TP[s1.landtype] +=1\n",
        "  else:\n",
        "      FP[s1.landtype] +=1\n",
        "      FN[s2.landtype] +=1"
      ],
      "id": "9ZWI9PyTqxDt"
    },
    {
      "cell_type": "code",
      "execution_count": null,
      "metadata": {
        "id": "Fy_YhJvOlkpA"
      },
      "outputs": [],
      "source": [
        "for lt in landtypes:\n",
        "  if TP[lt]+FN[lt] >0:\n",
        "    recall = TP[lt]/(TP[lt]+FN[lt])\n",
        "  else:\n",
        "    recall = 0\n",
        "  if TP[lt]+FP[lt] >0:\n",
        "    precision = TP[lt]/(TP[lt]+FP[lt])\n",
        "  else:\n",
        "    precision = 0\n",
        "  f1_score = 2*precision*recall/(precision+recall)\n",
        "  print(f\"{lt:12}:precision={precision:.2f}:recall={recall:.2f}:f1-score={f1_score:.2f}\")"
      ],
      "id": "Fy_YhJvOlkpA"
    },
    {
      "cell_type": "code",
      "execution_count": null,
      "metadata": {
        "id": "04qOFMAgp3Vf"
      },
      "outputs": [],
      "source": [
        "score = 0.0\n",
        "for lt in landtypes:\n",
        "  if TP[lt]+FN[lt] >0:\n",
        "    recall = TP[lt]/(TP[lt]+FN[lt])\n",
        "  else:\n",
        "    recall = 0\n",
        "  if TP[lt]+FP[lt] >0:\n",
        "    precision = TP[lt]/(TP[lt]+FP[lt])\n",
        "  else:\n",
        "    precision = 0\n",
        "  score += precision*(TP[lt]+FN[lt])\n",
        "\n",
        "Weighted_Precision = score/All\n",
        "print(f\"Weighted_Precision={Weighted_Precision:.2f}\")"
      ],
      "id": "04qOFMAgp3Vf"
    }
  ],
  "metadata": {
    "accelerator": "GPU",
    "colab": {
      "collapsed_sections": [],
      "name": "modeltest2_TEAM_855_4.ipynb",
      "provenance": [],
      "include_colab_link": true
    },
    "kernelspec": {
      "display_name": "Python 3",
      "language": "python",
      "name": "python3"
    },
    "language_info": {
      "codemirror_mode": {
        "name": "ipython",
        "version": 3
      },
      "file_extension": ".py",
      "mimetype": "text/x-python",
      "name": "python",
      "nbconvert_exporter": "python",
      "pygments_lexer": "ipython3",
      "version": "3.8.3"
    }
  },
  "nbformat": 4,
  "nbformat_minor": 5
}
