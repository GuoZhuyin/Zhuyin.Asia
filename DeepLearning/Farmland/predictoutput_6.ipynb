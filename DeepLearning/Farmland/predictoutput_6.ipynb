{
  "cells": [
    {
      "cell_type": "markdown",
      "metadata": {
        "id": "view-in-github",
        "colab_type": "text"
      },
      "source": [
        "<a href=\"https://colab.research.google.com/github/GuoZhuyin/zhuyinasia/blob/main/DeepLearning/predictoutput_6.ipynb\" target=\"_parent\"><img src=\"https://colab.research.google.com/assets/colab-badge.svg\" alt=\"Open In Colab\"/></a>"
      ]
    },
    {
      "cell_type": "markdown",
      "metadata": {
        "id": "3x145KlhnGgh"
      },
      "source": [
        "## 測試集已事先切成20份，每一張原始照片進行20次預測得出數值\n",
        "若無法執行請轉成.py檔"
      ]
    },
    {
      "cell_type": "code",
      "execution_count": null,
      "metadata": {
        "id": "At_hQbnanGgk"
      },
      "outputs": [],
      "source": [
        "import torch\n",
        "import torchvision\n",
        "from torch import nn\n",
        "from torch.utils.data import Dataset, DataLoader\n",
        "from torchvision import datasets, transforms\n",
        "from torchvision.transforms import ToTensor\n",
        "import torchvision.models as models\n",
        "import PIL\n",
        "from PIL import Image \n",
        "import os\n",
        "import glob\n",
        "import pandas as pd\n",
        "import numpy as np\n",
        "import time\n",
        "import csv\n",
        "import sys, getopt"
      ]
    },
    {
      "cell_type": "code",
      "execution_count": null,
      "metadata": {
        "id": "tZfqnLsNnGgl"
      },
      "outputs": [],
      "source": [
        "class MyImageDataset(Dataset):\n",
        "    def __init__(self, img_folder,transform):\n",
        "        self.transform=transform\n",
        "        self.img_folder=img_folder\n",
        "        subpath=os.path.join(img_folder, \"*\")\n",
        "        files = glob.glob(subpath)\n",
        "        self.image_names=files\n",
        "        self.labels=np.zeros(len(files))"
      ]
    },
    {
      "cell_type": "code",
      "execution_count": null,
      "metadata": {
        "id": "-zyk0-B5nGgm"
      },
      "outputs": [],
      "source": [
        "#The __len__ function returns the number of samples in our dataset.\n",
        "def __len__(self):\n",
        "    return len(self.image_names)\n",
        "\n",
        "def __getitem__(self,index):\n",
        "    image = Image.open(self.image_names[index])\n",
        "    label = 0\n",
        "\n",
        "    if self.transform !=None:\n",
        "        image=self.transform(image)\n",
        "\n",
        "    sample = {'image': image,'label':label}\n",
        "\n",
        "    return image"
      ]
    },
    {
      "cell_type": "code",
      "execution_count": null,
      "metadata": {
        "id": "xFN6QuoBnGgn"
      },
      "outputs": [],
      "source": [
        "def run(modelfile, imgdir,  batches, outputfile):\n",
        "    start = time.time()\n",
        "\n",
        "    class_to_index={'banana': 0, 'bareland': 1, 'building': 2, 'carrot': 3, 'corn': 4,\n",
        "    'dragonfruit': 5, 'garlic': 6, 'guava': 7, 'mountain': 8, 'peanut': 9, 'pineapple': 10,\n",
        "    'pumpkin': 11, 'rice': 12, 'sky': 13, 'soybean': 14, 'sugarcane': 15, 'tomato': 16}\n",
        "    index_to_class = {v: k for k, v in class_to_index.items()}\n",
        "    classes=['banana', 'bareland', 'carrot', 'corn', 'dragonfruit', 'garlic', 'guava', 'peanut', 'pineapple', 'pumpkin', 'rice', 'soybean', 'sugarcane', 'tomato', 'building', 'mountain', 'sky']\n",
        "\n",
        "    folders=['banana', 'bareland', 'carrot', 'corn', 'dragonfruit', 'garlic', 'guava', 'peanut', 'pineapple', 'pumpkin', 'rice', 'soybean', 'sugarcane', 'tomato']\n",
        "    num_folders = len(folders)\n",
        "\n",
        "    test_transform = transforms.Compose([\n",
        "        transforms.Resize(224),\n",
        "        transforms.ToTensor(), # ToTensor : [0, 255] -> [0, 1]\n",
        "        transforms.Normalize(mean=[0.485, 0.456, 0.406],\n",
        "        std=[0.229, 0.224, 0.225])\n",
        "    ])\n",
        "#     test_transform = transforms.Compose([\n",
        "#     transforms.Resize((299, 299)),\n",
        "#     transforms.ToTensor(), # ToTensor : [0, 255] -> [0, 1]\n",
        "#     transforms.Normalize(mean=[0.485, 0.456, 0.406],\n",
        "#                          std=[0.229, 0.224, 0.225])\n",
        "#     ])\n",
        "    num_classes = 17\n",
        "    model=models.efficientnet_b0(pretrained=False, num_classes=num_classes)\n",
        "#     model=models.efficientnet_b2(pretrained=False, num_classes=num_classes)\n",
        "#     model = torch.hub.load('pytorch/vision:v0.10.0', 'inception_v3', pretrained=False)\n",
        "    model.aux_logits = False\n",
        "#     model.fc =  nn.Linear(model.fc.in_features, num_classes)\n",
        "    model = nn.DataParallel(model) #cuda設定\n",
        "    model.load_state_dict(torch.load(modelfile))\n",
        "    model.cuda()\n",
        "    model.eval()\n",
        "\n",
        "\n",
        "    test_data = MyImageDataset(imgdir, test_transform)\n",
        "    batch_size = batches\n",
        "    test_loader = DataLoader(test_data,batch_size=batch_size,shuffle=False)\n",
        "\n",
        "    print(f\"Total images={len(test_data)}\")\n",
        "\n",
        "    f = open(outputfile, \"w\", newline='')\n",
        "    writer = csv.writer(f)\n",
        "    # again no gradients needed\n",
        "    with torch.no_grad():\n",
        "        total_batch = len(test_data)//batch_size\n",
        "        for i, batch_images in enumerate(test_loader):\n",
        "            images = batch_images.cuda()\n",
        "            outputs = model(images)\n",
        "            probs_all = torch.nn.functional.softmax(outputs, dim=1)\n",
        "            for probs in probs_all:\n",
        "                str_outputs = [(lambda x: f'{x:0.4f}')(num) for num  in probs]\n",
        "                writer.writerow(str_outputs)\n",
        "\n",
        "            if (i+1) % 50 == 0:\n",
        "                print(f'lter [{i+1}/{total_batch}]')\n",
        "\n",
        "    f.close()\n",
        "    end = time.time()\n",
        "    print(end - start)"
      ]
    },
    {
      "cell_type": "code",
      "execution_count": null,
      "metadata": {
        "id": "r8JU6NxqnGgo"
      },
      "outputs": [],
      "source": [
        "modelfile = '../model/Effi_B0_TEAM_855_7.0.pth' #model名稱\n",
        "imgdir = 'test_20000' #測試集資料夾\n",
        "batches = 256\n",
        "outputfile = 'TEAM_855_7.0_output.csv'\n",
        "run(modelfile,imgdir,batches,outputfile)"
      ]
    },
    {
      "cell_type": "markdown",
      "metadata": {
        "id": "_6Fv8AJUnGgo"
      },
      "source": [
        "輸入模型參數、測試集資夾位置、batches_size、output名稱"
      ]
    }
  ],
  "metadata": {
    "interpreter": {
      "hash": "4ee1c1679946c91852c6f8ef3a3b3cf7654edaf483e97fc3d4719e469b9bc885"
    },
    "kernelspec": {
      "display_name": "Python 3.8.3 ('base')",
      "language": "python",
      "name": "python3"
    },
    "language_info": {
      "codemirror_mode": {
        "name": "ipython",
        "version": 3
      },
      "file_extension": ".py",
      "mimetype": "text/x-python",
      "name": "python",
      "nbconvert_exporter": "python",
      "pygments_lexer": "ipython3",
      "version": "3.8.3"
    },
    "colab": {
      "name": "predictoutput_6.ipynb",
      "provenance": [],
      "include_colab_link": true
    }
  },
  "nbformat": 4,
  "nbformat_minor": 0
}
