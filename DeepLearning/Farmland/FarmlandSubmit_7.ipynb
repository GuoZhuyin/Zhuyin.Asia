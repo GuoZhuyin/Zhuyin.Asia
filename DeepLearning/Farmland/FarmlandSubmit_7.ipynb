{
  "cells": [
    {
      "cell_type": "markdown",
      "metadata": {
        "id": "view-in-github",
        "colab_type": "text"
      },
      "source": [
        "<a href=\"https://colab.research.google.com/github/GuoZhuyin/zhuyinasia/blob/main/DeepLearning/FarmlandSubmit_7.ipynb\" target=\"_parent\"><img src=\"https://colab.research.google.com/assets/colab-badge.svg\" alt=\"Open In Colab\"/></a>"
      ]
    },
    {
      "cell_type": "markdown",
      "metadata": {
        "id": "No6ra4EcnLw1"
      },
      "source": [
        "## 輸出的數值每20個進行判斷，為14個作物類別的哪一個"
      ],
      "id": "No6ra4EcnLw1"
    },
    {
      "cell_type": "code",
      "execution_count": null,
      "metadata": {
        "id": "dfdd3c76"
      },
      "outputs": [],
      "source": [
        "import pandas as pd\n",
        "import numpy as np\n",
        "import matplotlib.pyplot as plt\n",
        "%matplotlib inline"
      ],
      "id": "dfdd3c76"
    },
    {
      "cell_type": "code",
      "execution_count": null,
      "metadata": {
        "id": "RWWEUP8L_CyJ"
      },
      "outputs": [],
      "source": [
        "class_to_index={'banana': 0, 'bareland': 1, 'building': 2, 'carrot': 3, 'corn': 4,\n",
        "    'dragonfruit': 5, 'garlic': 6, 'guava': 7, 'mountain': 8, 'peanut': 9, 'pineapple': 10,\n",
        "    'pumpkin': 11, 'rice': 12, 'sky': 13, 'soybean': 14, 'sugarcane': 15, 'tomato': 16}\n",
        "index_to_class = {v: k for k, v in class_to_index.items()}"
      ],
      "id": "RWWEUP8L_CyJ"
    },
    {
      "cell_type": "code",
      "execution_count": null,
      "metadata": {
        "id": "Eq58106uyUKk"
      },
      "outputs": [],
      "source": [
        "df_labels = pd.read_csv('../submit/submit7.0_Team855.csv')\n",
        "colnames0=[f'f{x}' for x in range(17)]\n",
        "colnames1=[f'f{17+x}' for x in range(17)]\n",
        "colnames2=[f'f{34+x}' for x in range(17)]\n",
        "\n",
        "df_predict0 = pd.read_csv('../output/TEAM_855_6.10_output.csv',header=None, names=colnames0)\n",
        "df_predict1 = pd.read_csv('../output/TEAM_855_7.0_output.csv',header=None, names=colnames1)\n",
        "df_predict2 = pd.read_csv('../output/TEAM_855_9.0_output.csv',header=None, names=colnames2)"
      ],
      "id": "Eq58106uyUKk"
    },
    {
      "cell_type": "markdown",
      "metadata": {
        "id": "MyHN10NJnLxC"
      },
      "source": [
        "輸入由predictoutput_6輸出的csv黨\n",
        "\n",
        "fbl_pt1_TEAM_855_6.10.pth模型測試結果輸出為TEAM_855_6.10_output.csv\n",
        "\n",
        "Effi_B0_TEAM_855_7.0.pth模型測試結果輸出為TEAM_855_7.0_output.csv\n",
        "\n",
        "Effi_B2_TEAM_855_9.0.pth模型測試結果輸出為TEAM_855_9.0_output.csv"
      ],
      "id": "MyHN10NJnLxC"
    },
    {
      "cell_type": "code",
      "execution_count": null,
      "metadata": {
        "id": "ZMMRvWp1qW5N"
      },
      "outputs": [],
      "source": [
        "X = pd.concat([df_predict0, df_predict1, df_predict2], axis=1, join='inner')\n",
        "X.head()"
      ],
      "id": "ZMMRvWp1qW5N"
    },
    {
      "cell_type": "code",
      "execution_count": null,
      "metadata": {
        "id": "cGUvBjQPsH0x"
      },
      "outputs": [],
      "source": [
        "from sklearn.preprocessing import LabelEncoder\n",
        "y=[0 for i in range(len(df_predict0))]\n",
        "for index, row in df_labels.iterrows():\n",
        "  label = row[1]\n",
        "  classIndex = class_to_index[label]\n",
        "  for ii in range(index*20, (index+1)*20):\n",
        "      y[ii] = classIndex\n",
        "Y = pd.DataFrame(y, columns =['label'])"
      ],
      "id": "cGUvBjQPsH0x"
    },
    {
      "cell_type": "code",
      "execution_count": null,
      "metadata": {
        "id": "urgvt7aTx35o"
      },
      "outputs": [],
      "source": [
        "len(X)"
      ],
      "id": "urgvt7aTx35o"
    },
    {
      "cell_type": "code",
      "execution_count": null,
      "metadata": {
        "id": "wF8sJ3k6t8kc"
      },
      "outputs": [],
      "source": [
        "Y.head()"
      ],
      "id": "wF8sJ3k6t8kc"
    },
    {
      "cell_type": "code",
      "execution_count": null,
      "metadata": {
        "id": "68Ah-SUfx6u6"
      },
      "outputs": [],
      "source": [
        "len(Y)"
      ],
      "id": "68Ah-SUfx6u6"
    },
    {
      "cell_type": "code",
      "execution_count": null,
      "metadata": {
        "id": "7AnCGG_1uRTK"
      },
      "outputs": [],
      "source": [
        "import time\n",
        "import xgboost as xgb\n",
        "model = xgb.XGBClassifier(n_jobs = 16,objective='multi:softmax', use_label_encoder = False)\n",
        "\n",
        "start = time.time()\n",
        "modelfit = model.fit(X, Y, eval_metric='logloss')\n",
        "fittingTime = time.time() - start"
      ],
      "id": "7AnCGG_1uRTK"
    },
    {
      "cell_type": "code",
      "execution_count": null,
      "metadata": {
        "id": "2duo9M24yrbp"
      },
      "outputs": [],
      "source": [
        "y_pred = model.predict(X)\n",
        "judgeClass = [round(value) for value in y_pred]"
      ],
      "id": "2duo9M24yrbp"
    },
    {
      "cell_type": "code",
      "execution_count": null,
      "metadata": {
        "id": "6biJQ1kwygWA"
      },
      "outputs": [],
      "source": [
        "def argmax(lst):\n",
        "    return max(range(len(lst)), key=lst.__getitem__)"
      ],
      "id": "6biJQ1kwygWA"
    },
    {
      "cell_type": "code",
      "execution_count": null,
      "metadata": {
        "id": "QBvjEMBkDjIz"
      },
      "outputs": [],
      "source": [
        "def accumulate_blocks(stats, ii):\n",
        "  if ii ==2 or ii==8 or ii==13:\n",
        "    stats[ii] +=-1\n",
        "    return\n",
        "  elif ii ==1 or ii==15 or ii==0:\n",
        "    stats[ii] +=1\n",
        "    return\n",
        "  stats[ii] +=2\n",
        "  return"
      ],
      "id": "QBvjEMBkDjIz"
    },
    {
      "cell_type": "code",
      "execution_count": null,
      "metadata": {
        "id": "YusYOBvQHGE8"
      },
      "outputs": [],
      "source": [
        "def predict(ii):\n",
        "  stats = [0 for i in range(17)]\n",
        "  for i in range(20):\n",
        "    index = ii*20+i\n",
        "    dets = judgeClass[index]\n",
        "    accumulate_blocks(stats, dets)\n",
        "  judge = argmax(stats)\n",
        "  landtype = index_to_class[judge]\n",
        "  return landtype"
      ],
      "id": "YusYOBvQHGE8"
    },
    {
      "cell_type": "code",
      "execution_count": null,
      "metadata": {
        "id": "88mZXcIPoU0K"
      },
      "outputs": [],
      "source": [
        "answer = []\n",
        "correct_count =0\n",
        "for index, row in df_labels.iterrows():\n",
        "  filename = row[0]\n",
        "  predicted_label = predict(index)\n",
        "  answer.append(predicted_label)"
      ],
      "id": "88mZXcIPoU0K"
    },
    {
      "cell_type": "code",
      "execution_count": null,
      "metadata": {
        "id": "YsT_EGqIIXYn"
      },
      "outputs": [],
      "source": [
        "df_result = pd.DataFrame(df_labels['image_filename'])\n",
        "df_result['label'] = pd.DataFrame(answer) "
      ],
      "id": "YsT_EGqIIXYn"
    },
    {
      "cell_type": "code",
      "execution_count": null,
      "metadata": {
        "id": "iFQu-IZAJNS-"
      },
      "outputs": [],
      "source": [
        "df_result.head()"
      ],
      "id": "iFQu-IZAJNS-"
    },
    {
      "cell_type": "code",
      "execution_count": null,
      "metadata": {
        "id": "fQYzkRHCJZ5E"
      },
      "outputs": [],
      "source": [
        "df_result.to_csv(\"submit_X2.csv\", index=False )"
      ],
      "id": "fQYzkRHCJZ5E"
    },
    {
      "cell_type": "markdown",
      "metadata": {
        "id": "OV9QiPmYnLxK"
      },
      "source": [
        "對三個輸出結果進行XGBOOST輸出submit_X2.csv"
      ],
      "id": "OV9QiPmYnLxK"
    },
    {
      "cell_type": "code",
      "execution_count": null,
      "metadata": {
        "id": "8sY7XxdDfkj-"
      },
      "outputs": [],
      "source": [
        "df_labels = pd.read_csv('submit7.0_Team855.csv')"
      ],
      "id": "8sY7XxdDfkj-"
    },
    {
      "cell_type": "code",
      "execution_count": null,
      "metadata": {
        "id": "nlA8eYFiesY4"
      },
      "outputs": [],
      "source": [
        "correct_count =0\n",
        "for index, row in df_labels.iterrows():\n",
        "  filename = row[0]\n",
        "  label = row[1]\n",
        "  predicted_label = answer[index]\n",
        "  if predicted_label == label:\n",
        "    correct_count += 1\n",
        "  #else:\n",
        "  #  print(filename, label, predicted_label)\n",
        "accuracy = correct_count/len(df_labels) \n",
        "print(f\"{accuracy:.3f}\")"
      ],
      "id": "nlA8eYFiesY4"
    },
    {
      "cell_type": "markdown",
      "metadata": {
        "id": "FQl7OGErf_uv"
      },
      "source": [
        "https://aidea-web.tw/topic/93c8c26b-0e96-44bc-9a53-1c96353ad340\n",
        "\n",
        "評估方式採用Weighted-Precision(WP), 且各類別F1-score需大於0.7\n",
        "$$WP={\\sum_{i=1}^{NumofClass} (Precision_i \\times (TP_i + FN_i)) \\over TotalImageCount}$$\n",
        "\n",
        "$$\\text{F1-score}= 2 \\times {(Precision \\times Recall) \\over (Precision + Recall) }$$\n",
        "\n",
        "$$\\text{Recall}= {TP \\over TP + FN }$$\n",
        "\n",
        "$$\\text{Precision}= {TP \\over TP + FP }$$"
      ],
      "id": "FQl7OGErf_uv"
    },
    {
      "cell_type": "code",
      "execution_count": null,
      "metadata": {
        "id": "v9m7SOTqgDId"
      },
      "outputs": [],
      "source": [
        "landtypes=['banana', 'bareland', 'carrot', 'corn', 'dragonfruit', 'garlic', 'guava', 'peanut', 'pineapple', 'pumpkin', 'rice', 'soybean', 'sugarcane', 'tomato']\n",
        "print(len(landtypes))"
      ],
      "id": "v9m7SOTqgDId"
    },
    {
      "cell_type": "code",
      "execution_count": null,
      "metadata": {
        "id": "2NiYOLzShG5g"
      },
      "outputs": [],
      "source": [
        "TP = {lt:0 for lt in landtypes}\n",
        "FN = {lt:0 for lt in landtypes}\n",
        "FP = {lt:0 for lt in landtypes}\n",
        "for index, row in df_labels.iterrows():\n",
        "  label = row[1]\n",
        "  predicted_label = answer[index]\n",
        "  if predicted_label == label:\n",
        "     TP[label] +=1\n",
        "  else:\n",
        "      FP[label] +=1\n",
        "      FN[predicted_label] +=1"
      ],
      "id": "2NiYOLzShG5g"
    },
    {
      "cell_type": "code",
      "execution_count": null,
      "metadata": {
        "id": "IO08gxqAks-n"
      },
      "outputs": [],
      "source": [
        "for lt in landtypes:\n",
        "  if TP[lt]+FN[lt] >0:\n",
        "    recall = TP[lt]/(TP[lt]+FN[lt])\n",
        "  else:\n",
        "    recall = 0\n",
        "  if TP[lt]+FP[lt] >0:\n",
        "    precision = TP[lt]/(TP[lt]+FP[lt])\n",
        "  else:\n",
        "    precision = 0\n",
        "  f1_score = 2*precision*recall/(precision+recall)\n",
        "  print(f\"{lt:12}:precision={precision:.2f}:recall={recall:.2f}:f1-score={f1_score:.2f}\")"
      ],
      "id": "IO08gxqAks-n"
    },
    {
      "cell_type": "code",
      "execution_count": null,
      "metadata": {
        "id": "zm8im_5Skzc4"
      },
      "outputs": [],
      "source": [
        "All=len(df_labels)\n",
        "score = 0.0\n",
        "for lt in landtypes:\n",
        "  if TP[lt]+FN[lt] >0:\n",
        "    recall = TP[lt]/(TP[lt]+FN[lt])\n",
        "  else:\n",
        "    recall = 0\n",
        "  if TP[lt]+FP[lt] >0:\n",
        "    precision = TP[lt]/(TP[lt]+FP[lt])\n",
        "  else:\n",
        "    precision = 0\n",
        "  score += precision*(TP[lt]+FN[lt])\n",
        "\n",
        "Weighted_Precision = score/All\n",
        "print(f\"Weighted_Precision={Weighted_Precision:.3f}\")"
      ],
      "id": "zm8im_5Skzc4"
    }
  ],
  "metadata": {
    "accelerator": "GPU",
    "colab": {
      "collapsed_sections": [],
      "name": "FarmlandSubmit_7.ipynb",
      "provenance": [],
      "include_colab_link": true
    },
    "interpreter": {
      "hash": "4ee1c1679946c91852c6f8ef3a3b3cf7654edaf483e97fc3d4719e469b9bc885"
    },
    "kernelspec": {
      "display_name": "Python 3.8.3 ('base')",
      "language": "python",
      "name": "python3"
    },
    "language_info": {
      "codemirror_mode": {
        "name": "ipython",
        "version": 3
      },
      "file_extension": ".py",
      "mimetype": "text/x-python",
      "name": "python",
      "nbconvert_exporter": "python",
      "pygments_lexer": "ipython3",
      "version": "3.8.3"
    }
  },
  "nbformat": 4,
  "nbformat_minor": 5
}
