{
  "nbformat": 4,
  "nbformat_minor": 0,
  "metadata": {
    "colab": {
      "name": "AIprograme_Transferlearning_0618.ipynb",
      "provenance": [],
      "collapsed_sections": [],
      "include_colab_link": true
    },
    "kernelspec": {
      "name": "python3",
      "display_name": "Python 3"
    },
    "language_info": {
      "name": "python"
    }
  },
  "cells": [
    {
      "cell_type": "markdown",
      "metadata": {
        "id": "view-in-github",
        "colab_type": "text"
      },
      "source": [
        "<a href=\"https://colab.research.google.com/github/GuoZhuyin/zhuyinasia/blob/main/ArtificialIntelligence/AIprograme_Transferlearning_0618.ipynb\" target=\"_parent\"><img src=\"https://colab.research.google.com/assets/colab-badge.svg\" alt=\"Open In Colab\"/></a>"
      ]
    },
    {
      "cell_type": "code",
      "metadata": {
        "id": "CgH1uNzDTDIN"
      },
      "source": [
        "import numpy as np\n",
        "import matplotlib.pyplot as plt"
      ],
      "execution_count": null,
      "outputs": []
    },
    {
      "cell_type": "code",
      "metadata": {
        "id": "MWOl83ZqU_6i"
      },
      "source": [
        "from keras.datasets import mnist"
      ],
      "execution_count": null,
      "outputs": []
    },
    {
      "cell_type": "code",
      "metadata": {
        "id": "L1Q5YE-bVIpI"
      },
      "source": [
        "from google.colab import drive"
      ],
      "execution_count": null,
      "outputs": []
    },
    {
      "cell_type": "code",
      "metadata": {
        "colab": {
          "base_uri": "https://localhost:8080/"
        },
        "id": "nRzLzHiyVPtY",
        "outputId": "50d6fa9d-f618-4d8e-ad3d-b852a9cb9b8d"
      },
      "source": [
        "import os\n",
        "drive.mount('/content/gdrive',force_remount=True)\n",
        "os.chdir(\"/content/gdrive/MyDrive/亞洲大學/大二/人工智慧概論\")"
      ],
      "execution_count": null,
      "outputs": [
        {
          "output_type": "stream",
          "text": [
            "Mounted at /content/gdrive\n"
          ],
          "name": "stdout"
        }
      ]
    },
    {
      "cell_type": "code",
      "metadata": {
        "id": "NHY4_nyQZTln"
      },
      "source": [
        "(x_train,y_train),(x_test,y_test)=mnist.load_data()"
      ],
      "execution_count": null,
      "outputs": []
    },
    {
      "cell_type": "markdown",
      "metadata": {
        "id": "XgUWV5pwz4CD"
      },
      "source": [
        "啟用函數"
      ]
    },
    {
      "cell_type": "code",
      "metadata": {
        "colab": {
          "base_uri": "https://localhost:8080/"
        },
        "id": "42w5O6ER_-JB",
        "outputId": "cfb821ae-6e48-41fb-adfc-0d51ec776744"
      },
      "source": [
        "#Python教學\n",
        "y_train==1"
      ],
      "execution_count": null,
      "outputs": [
        {
          "output_type": "execute_result",
          "data": {
            "text/plain": [
              "array([False, False, False, ..., False, False, False])"
            ]
          },
          "metadata": {
            "tags": []
          },
          "execution_count": 41
        }
      ]
    },
    {
      "cell_type": "code",
      "metadata": {
        "colab": {
          "base_uri": "https://localhost:8080/"
        },
        "id": "JZgB8XlbBGWV",
        "outputId": "5cdb7659-1602-44df-8deb-3510cde370b0"
      },
      "source": [
        "aaa=x_train[y_train==1]\n",
        "aaa.shape"
      ],
      "execution_count": null,
      "outputs": [
        {
          "output_type": "execute_result",
          "data": {
            "text/plain": [
              "(6742, 28, 28)"
            ]
          },
          "metadata": {
            "tags": []
          },
          "execution_count": 42
        }
      ]
    },
    {
      "cell_type": "code",
      "metadata": {
        "colab": {
          "base_uri": "https://localhost:8080/"
        },
        "id": "rP39M7OtBeC2",
        "outputId": "f6c2a959-21cf-4436-aa47-98d9f7f2b3ee"
      },
      "source": [
        "bbb=x_train[y_train==2]\n",
        "bbb.shape"
      ],
      "execution_count": null,
      "outputs": [
        {
          "output_type": "execute_result",
          "data": {
            "text/plain": [
              "(5958, 28, 28)"
            ]
          },
          "metadata": {
            "tags": []
          },
          "execution_count": 43
        }
      ]
    },
    {
      "cell_type": "code",
      "metadata": {
        "colab": {
          "base_uri": "https://localhost:8080/"
        },
        "id": "jvVwm14lBpT3",
        "outputId": "29d1d02d-6b30-4483-b294-21f1155f0906"
      },
      "source": [
        "a=np.array([1,0,1,1])\n",
        "b=np.array([0,0,1,0])\n",
        "a,b"
      ],
      "execution_count": null,
      "outputs": [
        {
          "output_type": "execute_result",
          "data": {
            "text/plain": [
              "(array([1, 0, 1, 1]), array([0, 0, 1, 0]))"
            ]
          },
          "metadata": {
            "tags": []
          },
          "execution_count": 44
        }
      ]
    },
    {
      "cell_type": "code",
      "metadata": {
        "colab": {
          "base_uri": "https://localhost:8080/"
        },
        "id": "3L473tpkCXhB",
        "outputId": "3ab42cd3-b0f6-4225-9618-fdd90c5410de"
      },
      "source": [
        "a|b"
      ],
      "execution_count": null,
      "outputs": [
        {
          "output_type": "execute_result",
          "data": {
            "text/plain": [
              "array([1, 0, 1, 1])"
            ]
          },
          "metadata": {
            "tags": []
          },
          "execution_count": 45
        }
      ]
    },
    {
      "cell_type": "code",
      "metadata": {
        "colab": {
          "base_uri": "https://localhost:8080/"
        },
        "id": "1SKQsALgCeie",
        "outputId": "7d164749-91f1-4cdc-e5c4-89d2f45442e3"
      },
      "source": [
        "a&b\n",
        "#Python教學"
      ],
      "execution_count": null,
      "outputs": [
        {
          "output_type": "execute_result",
          "data": {
            "text/plain": [
              "array([0, 0, 1, 0])"
            ]
          },
          "metadata": {
            "tags": []
          },
          "execution_count": 46
        }
      ]
    },
    {
      "cell_type": "code",
      "metadata": {
        "id": "89qo8jfoCkPa"
      },
      "source": [
        "x_train_small=x_train[(y_train==1) | (y_train==2)]\n",
        "y_train_small=y_train[(y_train==1) | (y_train==2)]\n",
        "x_train_big=x_train[(y_train!=1) & (y_train!=2)]\n",
        "y_train_big=y_train[(y_train!=1) & (y_train!=2)]"
      ],
      "execution_count": null,
      "outputs": []
    },
    {
      "cell_type": "code",
      "metadata": {
        "colab": {
          "base_uri": "https://localhost:8080/"
        },
        "id": "FMxpjI8bZwGv",
        "outputId": "d67bab91-d646-45da-eef0-cb496547726c"
      },
      "source": [
        "x_train_small.shape,y_train_small.shape"
      ],
      "execution_count": null,
      "outputs": [
        {
          "output_type": "execute_result",
          "data": {
            "text/plain": [
              "((12700, 28, 28), (12700,))"
            ]
          },
          "metadata": {
            "tags": []
          },
          "execution_count": 48
        }
      ]
    },
    {
      "cell_type": "code",
      "metadata": {
        "colab": {
          "base_uri": "https://localhost:8080/"
        },
        "id": "SrCqSBw6EHB3",
        "outputId": "55fa542c-f28f-496c-91e7-5d7e311b9c90"
      },
      "source": [
        "x_train_big.shape,y_train_big.shape"
      ],
      "execution_count": null,
      "outputs": [
        {
          "output_type": "execute_result",
          "data": {
            "text/plain": [
              "((47300, 28, 28), (47300,))"
            ]
          },
          "metadata": {
            "tags": []
          },
          "execution_count": 35
        }
      ]
    },
    {
      "cell_type": "code",
      "metadata": {
        "id": "w5alJQyviLLL"
      },
      "source": [
        "from keras.utils.np_utils import to_categorical"
      ],
      "execution_count": null,
      "outputs": []
    },
    {
      "cell_type": "code",
      "metadata": {
        "id": "UkBtR-c_ibTc"
      },
      "source": [
        "y_train=to_categorical(y_train)"
      ],
      "execution_count": null,
      "outputs": []
    },
    {
      "cell_type": "markdown",
      "metadata": {
        "id": "T69q_sb7jSCO"
      },
      "source": [
        "類別向量轉換為二進位（只有0和1）\n",
        "\n",
        "one hot encoding\n",
        "\n",
        "若y_train為7資料格式為(0,0,0,0,0,0,1,0,0)"
      ]
    },
    {
      "cell_type": "code",
      "metadata": {
        "colab": {
          "base_uri": "https://localhost:8080/"
        },
        "id": "zQ_QhL8tilUO",
        "outputId": "314f4182-3a49-4ed9-fd36-bac453e019db"
      },
      "source": [
        "y_train.shape"
      ],
      "execution_count": null,
      "outputs": [
        {
          "output_type": "execute_result",
          "data": {
            "text/plain": [
              "(60000, 10)"
            ]
          },
          "metadata": {
            "tags": []
          },
          "execution_count": 103
        }
      ]
    },
    {
      "cell_type": "code",
      "metadata": {
        "id": "J04BuptmoAqt"
      },
      "source": [
        "from keras.models import Sequential\n",
        "#from keras import models\n",
        "#network=models.Sequential\n",
        "from keras import layers"
      ],
      "execution_count": null,
      "outputs": []
    },
    {
      "cell_type": "code",
      "metadata": {
        "id": "3n0GFGG3oyS7"
      },
      "source": [
        "network=Sequential()"
      ],
      "execution_count": null,
      "outputs": []
    },
    {
      "cell_type": "code",
      "metadata": {
        "id": "GJwD18xTpKct"
      },
      "source": [
        "network.add(layers.Dense(1024,activation='relu',input_shape=(28*28,))) #layers(類神經網路節點,激勵函數,丟入像素)\n",
        "network.add(layers.Dense(512,activation='relu'))\n",
        "network.add(layers.Dense(256,activation='relu'))\n",
        "network.add(layers.Dense(10,activation='softmax'))"
      ],
      "execution_count": null,
      "outputs": []
    },
    {
      "cell_type": "code",
      "metadata": {
        "id": "iKXl1Hn-v_P0"
      },
      "source": [
        "network.compile(loss='categorical_crossentropy', optimizer='Adam', metrics=['accuracy'])"
      ],
      "execution_count": null,
      "outputs": []
    },
    {
      "cell_type": "markdown",
      "metadata": {
        "id": "9a-o1eRcxTWV"
      },
      "source": [
        "編譯給機器看(損失函數,優化函數,數值指標)"
      ]
    },
    {
      "cell_type": "code",
      "metadata": {
        "colab": {
          "base_uri": "https://localhost:8080/"
        },
        "id": "NMkzSHGWwrI_",
        "outputId": "f62e3fac-c6e0-43bc-82cc-861f9b22ea24"
      },
      "source": [
        "network.summary()"
      ],
      "execution_count": null,
      "outputs": [
        {
          "output_type": "stream",
          "text": [
            "Model: \"sequential_1\"\n",
            "_________________________________________________________________\n",
            "Layer (type)                 Output Shape              Param #   \n",
            "=================================================================\n",
            "dense_4 (Dense)              (None, 1024)              803840    \n",
            "_________________________________________________________________\n",
            "dense_5 (Dense)              (None, 512)               524800    \n",
            "_________________________________________________________________\n",
            "dense_6 (Dense)              (None, 256)               131328    \n",
            "_________________________________________________________________\n",
            "dense_7 (Dense)              (None, 10)                2570      \n",
            "=================================================================\n",
            "Total params: 1,462,538\n",
            "Trainable params: 1,462,538\n",
            "Non-trainable params: 0\n",
            "_________________________________________________________________\n"
          ],
          "name": "stdout"
        }
      ]
    },
    {
      "cell_type": "code",
      "metadata": {
        "colab": {
          "base_uri": "https://localhost:8080/"
        },
        "id": "K_1mqKgkz3go",
        "outputId": "a086a48f-dadf-48a6-938b-cf8f33b47430"
      },
      "source": [
        "network.fit(x_train.reshape(-1,28*28),y_train,epochs=5,batch_size=128)\n",
        "#network.fit(x_train.reshape,y_train,epochs局,切片)"
      ],
      "execution_count": null,
      "outputs": [
        {
          "output_type": "stream",
          "text": [
            "Epoch 1/5\n",
            "469/469 [==============================] - 13s 25ms/step - loss: 8.3052 - accuracy: 0.8222\n",
            "Epoch 2/5\n",
            "469/469 [==============================] - 12s 25ms/step - loss: 0.1403 - accuracy: 0.9622\n",
            "Epoch 3/5\n",
            "469/469 [==============================] - 12s 25ms/step - loss: 0.0883 - accuracy: 0.9757\n",
            "Epoch 4/5\n",
            "469/469 [==============================] - 12s 26ms/step - loss: 0.0673 - accuracy: 0.9797\n",
            "Epoch 5/5\n",
            "469/469 [==============================] - 12s 26ms/step - loss: 0.0713 - accuracy: 0.9792\n"
          ],
          "name": "stdout"
        },
        {
          "output_type": "execute_result",
          "data": {
            "text/plain": [
              "<keras.callbacks.History at 0x7fb19557a090>"
            ]
          },
          "metadata": {
            "tags": []
          },
          "execution_count": 109
        }
      ]
    },
    {
      "cell_type": "markdown",
      "metadata": {
        "id": "D9QhPszaed_O"
      },
      "source": [
        "切片*469大約等於y_train()60000筆資料"
      ]
    }
  ]
}