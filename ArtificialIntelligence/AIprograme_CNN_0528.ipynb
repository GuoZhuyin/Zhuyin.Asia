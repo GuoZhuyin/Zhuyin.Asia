{
  "nbformat": 4,
  "nbformat_minor": 0,
  "metadata": {
    "colab": {
      "name": "AIprograme_CNN_0528.ipynb",
      "provenance": [],
      "collapsed_sections": [],
      "include_colab_link": true
    },
    "kernelspec": {
      "name": "python3",
      "display_name": "Python 3"
    },
    "language_info": {
      "name": "python"
    }
  },
  "cells": [
    {
      "cell_type": "markdown",
      "metadata": {
        "id": "view-in-github",
        "colab_type": "text"
      },
      "source": [
        "<a href=\"https://colab.research.google.com/github/GuoZhuyin/zhuyinasia/blob/main/ArtificialIntelligence/AIprograme_CNN_0528.ipynb\" target=\"_parent\"><img src=\"https://colab.research.google.com/assets/colab-badge.svg\" alt=\"Open In Colab\"/></a>"
      ]
    },
    {
      "cell_type": "code",
      "metadata": {
        "id": "CgH1uNzDTDIN"
      },
      "source": [
        "import numpy as np\n",
        "import matplotlib.pyplot as plt"
      ],
      "execution_count": null,
      "outputs": []
    },
    {
      "cell_type": "code",
      "metadata": {
        "id": "MWOl83ZqU_6i"
      },
      "source": [
        "from keras.datasets import mnist"
      ],
      "execution_count": null,
      "outputs": []
    },
    {
      "cell_type": "code",
      "metadata": {
        "id": "L1Q5YE-bVIpI"
      },
      "source": [
        "from google.colab import drive"
      ],
      "execution_count": null,
      "outputs": []
    },
    {
      "cell_type": "code",
      "metadata": {
        "colab": {
          "base_uri": "https://localhost:8080/"
        },
        "id": "nRzLzHiyVPtY",
        "outputId": "331d449d-b52d-4368-cafc-c2df88ff4524"
      },
      "source": [
        "import os\n",
        "drive.mount('/content/gdrive',force_remount=True)\n",
        "os.chdir(\"/content/gdrive/MyDrive/亞洲大學/大二/人工智慧概論\")"
      ],
      "execution_count": null,
      "outputs": [
        {
          "output_type": "stream",
          "text": [
            "Mounted at /content/gdrive\n"
          ],
          "name": "stdout"
        }
      ]
    },
    {
      "cell_type": "code",
      "metadata": {
        "id": "NHY4_nyQZTln"
      },
      "source": [
        "(x_train,y_train),(x_test,y_test)=mnist.load_data()"
      ],
      "execution_count": null,
      "outputs": []
    },
    {
      "cell_type": "markdown",
      "metadata": {
        "id": "XgUWV5pwz4CD"
      },
      "source": [
        "啟用函數"
      ]
    },
    {
      "cell_type": "code",
      "metadata": {
        "colab": {
          "base_uri": "https://localhost:8080/"
        },
        "id": "FMxpjI8bZwGv",
        "outputId": "629c49bb-ce2f-4980-827d-b9543304c938"
      },
      "source": [
        "x_train.shape"
      ],
      "execution_count": null,
      "outputs": [
        {
          "output_type": "execute_result",
          "data": {
            "text/plain": [
              "(60000, 28, 28)"
            ]
          },
          "metadata": {
            "tags": []
          },
          "execution_count": 41
        }
      ]
    },
    {
      "cell_type": "markdown",
      "metadata": {
        "id": "ig99DnwOz89R"
      },
      "source": [
        "資料大小"
      ]
    },
    {
      "cell_type": "code",
      "metadata": {
        "colab": {
          "base_uri": "https://localhost:8080/"
        },
        "id": "PmzzgGtkzerq",
        "outputId": "aa230045-30e8-485e-c2ce-88bc9853d6e0"
      },
      "source": [
        "x_train=x_train.reshape(-1,28,28,1)\n",
        "x_train.shape"
      ],
      "execution_count": null,
      "outputs": [
        {
          "output_type": "execute_result",
          "data": {
            "text/plain": [
              "(60000, 28, 28, 1)"
            ]
          },
          "metadata": {
            "tags": []
          },
          "execution_count": 42
        }
      ]
    },
    {
      "cell_type": "code",
      "metadata": {
        "colab": {
          "base_uri": "https://localhost:8080/"
        },
        "id": "Ec9oetxkLGF4",
        "outputId": "d520d2af-9803-48a0-c690-2bcf488f45ce"
      },
      "source": [
        "x_test=x_train.reshape(-1,28,28,1)\n",
        "x_test.shape"
      ],
      "execution_count": null,
      "outputs": [
        {
          "output_type": "execute_result",
          "data": {
            "text/plain": [
              "(60000, 28, 28, 1)"
            ]
          },
          "metadata": {
            "tags": []
          },
          "execution_count": 43
        }
      ]
    },
    {
      "cell_type": "code",
      "metadata": {
        "colab": {
          "base_uri": "https://localhost:8080/"
        },
        "id": "vyLdA-n8zasm",
        "outputId": "ed011285-4fcf-42bf-ba1f-da00e30deacd"
      },
      "source": [
        "y_train[87]"
      ],
      "execution_count": null,
      "outputs": [
        {
          "output_type": "execute_result",
          "data": {
            "text/plain": [
              "9"
            ]
          },
          "metadata": {
            "tags": []
          },
          "execution_count": 44
        }
      ]
    },
    {
      "cell_type": "markdown",
      "metadata": {
        "id": "cQDdjvGT0ZlZ"
      },
      "source": [
        "確認x,y資料"
      ]
    },
    {
      "cell_type": "code",
      "metadata": {
        "colab": {
          "base_uri": "https://localhost:8080/"
        },
        "id": "7X_3HLTl3yym",
        "outputId": "48e7570b-297c-4675-d950-141e35a177ae"
      },
      "source": [
        "y_test[87]"
      ],
      "execution_count": null,
      "outputs": [
        {
          "output_type": "execute_result",
          "data": {
            "text/plain": [
              "3"
            ]
          },
          "metadata": {
            "tags": []
          },
          "execution_count": 45
        }
      ]
    },
    {
      "cell_type": "code",
      "metadata": {
        "id": "w5alJQyviLLL"
      },
      "source": [
        "from keras.utils.np_utils import to_categorical"
      ],
      "execution_count": null,
      "outputs": []
    },
    {
      "cell_type": "code",
      "metadata": {
        "id": "UkBtR-c_ibTc"
      },
      "source": [
        "y_train=to_categorical(y_train)"
      ],
      "execution_count": null,
      "outputs": []
    },
    {
      "cell_type": "markdown",
      "metadata": {
        "id": "T69q_sb7jSCO"
      },
      "source": [
        "類別向量轉換為二進位（只有0和1）\n",
        "\n",
        "One hot encoding\n",
        "\n",
        "若y_train為7資料格式為(0,0,0,0,0,0,1,0,0)"
      ]
    },
    {
      "cell_type": "code",
      "metadata": {
        "colab": {
          "base_uri": "https://localhost:8080/"
        },
        "id": "t06yCWt3ig8E",
        "outputId": "b4bff0da-a1c5-4eb6-86b2-decf153b5ae8"
      },
      "source": [
        "y_train"
      ],
      "execution_count": null,
      "outputs": [
        {
          "output_type": "execute_result",
          "data": {
            "text/plain": [
              "array([[0., 0., 0., ..., 0., 0., 0.],\n",
              "       [1., 0., 0., ..., 0., 0., 0.],\n",
              "       [0., 0., 0., ..., 0., 0., 0.],\n",
              "       ...,\n",
              "       [0., 0., 0., ..., 0., 0., 0.],\n",
              "       [0., 0., 0., ..., 0., 0., 0.],\n",
              "       [0., 0., 0., ..., 0., 1., 0.]], dtype=float32)"
            ]
          },
          "metadata": {
            "tags": []
          },
          "execution_count": 48
        }
      ]
    },
    {
      "cell_type": "code",
      "metadata": {
        "colab": {
          "base_uri": "https://localhost:8080/"
        },
        "id": "zQ_QhL8tilUO",
        "outputId": "7960d676-20f3-4f2c-bb92-f564dd0cff69"
      },
      "source": [
        "y_train.shape"
      ],
      "execution_count": null,
      "outputs": [
        {
          "output_type": "execute_result",
          "data": {
            "text/plain": [
              "(60000, 10)"
            ]
          },
          "metadata": {
            "tags": []
          },
          "execution_count": 49
        }
      ]
    },
    {
      "cell_type": "code",
      "metadata": {
        "colab": {
          "base_uri": "https://localhost:8080/"
        },
        "id": "c2iWX9qz-gW2",
        "outputId": "cfa4c7e0-baab-41dc-999e-e8137e5ceb20"
      },
      "source": [
        "y_train[87]"
      ],
      "execution_count": null,
      "outputs": [
        {
          "output_type": "execute_result",
          "data": {
            "text/plain": [
              "array([0., 0., 0., 0., 0., 0., 0., 0., 0., 1.], dtype=float32)"
            ]
          },
          "metadata": {
            "tags": []
          },
          "execution_count": 50
        }
      ]
    },
    {
      "cell_type": "markdown",
      "metadata": {
        "id": "igk3k5spygx7"
      },
      "source": [
        "//建立卷積神經網路(CNN)"
      ]
    },
    {
      "cell_type": "code",
      "metadata": {
        "id": "J04BuptmoAqt"
      },
      "source": [
        "from keras.models import Sequential\n",
        "#from keras import models\n",
        "#network=models.Sequential\n",
        "from keras import layers"
      ],
      "execution_count": null,
      "outputs": []
    },
    {
      "cell_type": "code",
      "metadata": {
        "id": "3n0GFGG3oyS7"
      },
      "source": [
        "network=Sequential()\n",
        "network.add(layers.Conv2D(32,(3,3),padding='same',activation='relu',input_shape=(28,28,1)))#捲積層\n",
        "network.add(layers.MaxPooling2D((2,2))) #最大池化\n",
        "network.add(layers.Conv2D(64,(3,3),padding='same',activation='relu'))\n",
        "network.add(layers.MaxPooling2D((2,2)))"
      ],
      "execution_count": null,
      "outputs": []
    },
    {
      "cell_type": "code",
      "metadata": {
        "colab": {
          "base_uri": "https://localhost:8080/"
        },
        "id": "NMkzSHGWwrI_",
        "outputId": "6a9c1583-46ce-409a-9fdd-d39d72b76afe"
      },
      "source": [
        "network.summary()"
      ],
      "execution_count": null,
      "outputs": [
        {
          "output_type": "stream",
          "text": [
            "Model: \"sequential_1\"\n",
            "_________________________________________________________________\n",
            "Layer (type)                 Output Shape              Param #   \n",
            "=================================================================\n",
            "conv2d_2 (Conv2D)            (None, 28, 28, 32)        320       \n",
            "_________________________________________________________________\n",
            "max_pooling2d_2 (MaxPooling2 (None, 14, 14, 32)        0         \n",
            "_________________________________________________________________\n",
            "conv2d_3 (Conv2D)            (None, 14, 14, 64)        18496     \n",
            "_________________________________________________________________\n",
            "max_pooling2d_3 (MaxPooling2 (None, 7, 7, 64)          0         \n",
            "=================================================================\n",
            "Total params: 18,816\n",
            "Trainable params: 18,816\n",
            "Non-trainable params: 0\n",
            "_________________________________________________________________\n"
          ],
          "name": "stdout"
        }
      ]
    },
    {
      "cell_type": "code",
      "metadata": {
        "id": "6xCiFrUq_Ady"
      },
      "source": [
        "network.add(layers.Flatten())#"
      ],
      "execution_count": null,
      "outputs": []
    },
    {
      "cell_type": "code",
      "metadata": {
        "id": "iKXl1Hn-v_P0"
      },
      "source": [
        "network.compile(loss='categorical_crossentropy', optimizer='Adam', metrics=['accuracy'])"
      ],
      "execution_count": null,
      "outputs": []
    },
    {
      "cell_type": "markdown",
      "metadata": {
        "id": "9a-o1eRcxTWV"
      },
      "source": [
        "編譯給機器看(損失函數,優化函數,數值指標)"
      ]
    },
    {
      "cell_type": "code",
      "metadata": {
        "id": "2IzBT1U6HY5G"
      },
      "source": [
        "network.add(layers.Dense(512,activation='relu'))\n",
        "network.add(layers.Dense(256,activation='relu'))\n",
        "network.add(layers.Dense(10,activation='softmax'))"
      ],
      "execution_count": null,
      "outputs": []
    },
    {
      "cell_type": "code",
      "metadata": {
        "colab": {
          "base_uri": "https://localhost:8080/"
        },
        "id": "K_1mqKgkz3go",
        "outputId": "9035e6b5-4df4-40ef-eeec-d914bf72742f"
      },
      "source": [
        "network.fit(x_train,y_train,epochs=5,batch_size=128)\n",
        "#network.fit(x_train.reshape,y_train,epochs局,切片)"
      ],
      "execution_count": null,
      "outputs": [
        {
          "output_type": "stream",
          "text": [
            "Epoch 1/5\n",
            "469/469 [==============================] - 79s 167ms/step - loss: 2.1376 - accuracy: 0.8456\n",
            "Epoch 2/5\n",
            "469/469 [==============================] - 78s 167ms/step - loss: 0.0416 - accuracy: 0.9870\n",
            "Epoch 3/5\n",
            "469/469 [==============================] - 78s 166ms/step - loss: 0.0249 - accuracy: 0.9913\n",
            "Epoch 4/5\n",
            "469/469 [==============================] - 77s 165ms/step - loss: 0.0196 - accuracy: 0.9929\n",
            "Epoch 5/5\n",
            "469/469 [==============================] - 78s 165ms/step - loss: 0.0185 - accuracy: 0.9934\n"
          ],
          "name": "stdout"
        },
        {
          "output_type": "execute_result",
          "data": {
            "text/plain": [
              "<keras.callbacks.History at 0x7fad94910e50>"
            ]
          },
          "metadata": {
            "tags": []
          },
          "execution_count": 57
        }
      ]
    },
    {
      "cell_type": "markdown",
      "metadata": {
        "id": "D9QhPszaed_O"
      },
      "source": [
        "切片*469大約等於y_train()60000筆資料"
      ]
    },
    {
      "cell_type": "code",
      "metadata": {
        "id": "HILceJ3W2yyJ",
        "colab": {
          "base_uri": "https://localhost:8080/"
        },
        "outputId": "c55bc516-6844-42d9-a098-1aa4997e789c"
      },
      "source": [
        "predict=network.predict_classes(x_test)"
      ],
      "execution_count": null,
      "outputs": [
        {
          "output_type": "stream",
          "text": [
            "/usr/local/lib/python3.7/dist-packages/keras/engine/sequential.py:450: UserWarning: `model.predict_classes()` is deprecated and will be removed after 2021-01-01. Please use instead:* `np.argmax(model.predict(x), axis=-1)`,   if your model does multi-class classification   (e.g. if it uses a `softmax` last-layer activation).* `(model.predict(x) > 0.5).astype(\"int32\")`,   if your model does binary classification   (e.g. if it uses a `sigmoid` last-layer activation).\n",
            "  warnings.warn('`model.predict_classes()` is deprecated and '\n"
          ],
          "name": "stderr"
        }
      ]
    },
    {
      "cell_type": "code",
      "metadata": {
        "id": "Hr6FcmNP3ilW",
        "colab": {
          "base_uri": "https://localhost:8080/"
        },
        "outputId": "dd3cdaee-3703-45e9-ac3d-7db8ba764e56"
      },
      "source": [
        "predict[87] #y_test[87]"
      ],
      "execution_count": null,
      "outputs": [
        {
          "output_type": "execute_result",
          "data": {
            "text/plain": [
              "9"
            ]
          },
          "metadata": {
            "tags": []
          },
          "execution_count": 59
        }
      ]
    },
    {
      "cell_type": "code",
      "metadata": {
        "colab": {
          "base_uri": "https://localhost:8080/"
        },
        "id": "gosqSxNVjVFM",
        "outputId": "7ddd7a2a-02d4-4da3-f023-6a98e96f9d54"
      },
      "source": [
        "predict[1500]"
      ],
      "execution_count": null,
      "outputs": [
        {
          "output_type": "execute_result",
          "data": {
            "text/plain": [
              "9"
            ]
          },
          "metadata": {
            "tags": []
          },
          "execution_count": 60
        }
      ]
    },
    {
      "cell_type": "code",
      "metadata": {
        "colab": {
          "base_uri": "https://localhost:8080/"
        },
        "id": "Wvqo6N92jbzK",
        "outputId": "d9fe7edb-ba82-40f4-c4ab-582f4d08f746"
      },
      "source": [
        "y_test[1500]"
      ],
      "execution_count": null,
      "outputs": [
        {
          "output_type": "execute_result",
          "data": {
            "text/plain": [
              "7"
            ]
          },
          "metadata": {
            "tags": []
          },
          "execution_count": 61
        }
      ]
    },
    {
      "cell_type": "code",
      "metadata": {
        "colab": {
          "base_uri": "https://localhost:8080/"
        },
        "id": "BF3mscj1iN97",
        "outputId": "9864d03d-99f2-4cef-d863-97c44a27c32e"
      },
      "source": [
        "np.nonzero(predict!=y_test)"
      ],
      "execution_count": null,
      "outputs": [
        {
          "output_type": "stream",
          "text": [
            "/usr/local/lib/python3.7/dist-packages/ipykernel_launcher.py:1: DeprecationWarning: elementwise comparison failed; this will raise an error in the future.\n",
            "  \"\"\"Entry point for launching an IPython kernel.\n"
          ],
          "name": "stderr"
        },
        {
          "output_type": "execute_result",
          "data": {
            "text/plain": [
              "(array([0]),)"
            ]
          },
          "metadata": {
            "tags": []
          },
          "execution_count": 62
        }
      ]
    },
    {
      "cell_type": "code",
      "metadata": {
        "colab": {
          "base_uri": "https://localhost:8080/"
        },
        "id": "Qt1034m5j7m_",
        "outputId": "26209131-f031-42de-e340-14516b5a877b"
      },
      "source": [
        "np.count_nonzero(predict!=y_test)/len(y_test)"
      ],
      "execution_count": null,
      "outputs": [
        {
          "output_type": "stream",
          "text": [
            "/usr/local/lib/python3.7/dist-packages/ipykernel_launcher.py:1: DeprecationWarning: elementwise comparison failed; this will raise an error in the future.\n",
            "  \"\"\"Entry point for launching an IPython kernel.\n"
          ],
          "name": "stderr"
        },
        {
          "output_type": "execute_result",
          "data": {
            "text/plain": [
              "0.0001"
            ]
          },
          "metadata": {
            "tags": []
          },
          "execution_count": 63
        }
      ]
    },
    {
      "cell_type": "markdown",
      "metadata": {
        "id": "cDaiGzObkqC3"
      },
      "source": [
        "錯誤率，預測值錯誤個數/所有y_test個數"
      ]
    }
  ]
}