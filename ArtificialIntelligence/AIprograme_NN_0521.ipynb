{
  "nbformat": 4,
  "nbformat_minor": 0,
  "metadata": {
    "colab": {
      "name": "AIprograme_NN_0521.ipynb",
      "provenance": [],
      "collapsed_sections": [],
      "include_colab_link": true
    },
    "kernelspec": {
      "name": "python3",
      "display_name": "Python 3"
    },
    "language_info": {
      "name": "python"
    }
  },
  "cells": [
    {
      "cell_type": "markdown",
      "metadata": {
        "id": "view-in-github",
        "colab_type": "text"
      },
      "source": [
        "<a href=\"https://colab.research.google.com/github/GuoZhuyin/zhuyinasia/blob/main/ArtificialIntelligence/AIprograme_NN_0521.ipynb\" target=\"_parent\"><img src=\"https://colab.research.google.com/assets/colab-badge.svg\" alt=\"Open In Colab\"/></a>"
      ]
    },
    {
      "cell_type": "code",
      "metadata": {
        "id": "CgH1uNzDTDIN"
      },
      "source": [
        "import numpy as np\n",
        "import matplotlib.pyplot as plt"
      ],
      "execution_count": null,
      "outputs": []
    },
    {
      "cell_type": "code",
      "metadata": {
        "id": "MWOl83ZqU_6i"
      },
      "source": [
        "from keras.datasets import mnist"
      ],
      "execution_count": null,
      "outputs": []
    },
    {
      "cell_type": "code",
      "metadata": {
        "id": "L1Q5YE-bVIpI"
      },
      "source": [
        "from google.colab import drive"
      ],
      "execution_count": null,
      "outputs": []
    },
    {
      "cell_type": "code",
      "metadata": {
        "colab": {
          "base_uri": "https://localhost:8080/"
        },
        "id": "nRzLzHiyVPtY",
        "outputId": "1b433a73-6278-4547-90f7-d15921bd53fa"
      },
      "source": [
        "import os\n",
        "drive.mount('/content/gdrive',force_remount=True)\n",
        "os.chdir(\"/content/gdrive/MyDrive/亞洲大學/大二/人工智慧概論\")"
      ],
      "execution_count": null,
      "outputs": [
        {
          "output_type": "stream",
          "name": "stdout",
          "text": [
            "Mounted at /content/gdrive\n"
          ]
        }
      ]
    },
    {
      "cell_type": "code",
      "metadata": {
        "colab": {
          "base_uri": "https://localhost:8080/"
        },
        "id": "R2ON36kua1Km",
        "outputId": "75cb7b79-15cc-4732-a1f7-e5fcd9b4a71a"
      },
      "source": [
        "!dir"
      ],
      "execution_count": null,
      "outputs": [
        {
          "output_type": "stream",
          "name": "stdout",
          "text": [
            "108022062郭銍恩.ipynb\t\t\tAIprogram_list0326.ipynb\n",
            "AIprogram0312.ipynb\t\t\tAIprogram_RNN_0604.ipynb\n",
            "AIprogram0319HW.ipynb\t\t\tAIprogram_RNN_0611.ipynb\n",
            "AIprogram0319.ipynb\t\t\tColab.docx\n",
            "AIprogram0326.ipynb\t\t\tColab.pdf\n",
            "AIprogram0409.ipynb\t\t\tMOSTassistant1\n",
            "AIprograme0507\t\t\t\tmy_model.json\n",
            "AIprograme0514\t\t\t\tmy_model_weight.h5\n",
            "AIprograme_CNN_0528.ipynb\t\tmy_weights.h5\n",
            "AIprograme_FunctionAPI_0618.ipynb\t人工智慧簡介1.pptx\n",
            "AIprograme_NN_0521.ipynb\t\t人工智慧簡介2.pptx\n",
            "AIprograme_Transferlearning_0618.ipynb\t人工智慧簡介2\\ -python.pptx\n"
          ]
        }
      ]
    },
    {
      "cell_type": "markdown",
      "metadata": {
        "id": "N0FllrnRb43O"
      },
      "source": [
        "查看目錄資料"
      ]
    },
    {
      "cell_type": "code",
      "metadata": {
        "colab": {
          "base_uri": "https://localhost:8080/"
        },
        "id": "UuzCiJVFa5KV",
        "outputId": "5a2a19b8-f466-485d-9304-77925a729b3b"
      },
      "source": [
        "!pwd"
      ],
      "execution_count": null,
      "outputs": [
        {
          "output_type": "stream",
          "name": "stdout",
          "text": [
            "/content/gdrive/MyDrive/亞洲大學/大二/人工智慧概論\n"
          ]
        }
      ]
    },
    {
      "cell_type": "markdown",
      "metadata": {
        "id": "oJWDr3V8b_Rl"
      },
      "source": [
        "查看目錄路徑"
      ]
    },
    {
      "cell_type": "code",
      "metadata": {
        "colab": {
          "base_uri": "https://localhost:8080/"
        },
        "id": "pvUqUFWFbcMP",
        "outputId": "8b4b4ce1-35cc-49f0-f9c5-c3723ac19f95"
      },
      "source": [
        "!ls -la"
      ],
      "execution_count": null,
      "outputs": [
        {
          "output_type": "stream",
          "name": "stdout",
          "text": [
            "total 36889\n",
            "-rw------- 1 root root   249211 Apr 30  2021  108022062郭銍恩.ipynb\n",
            "-rw------- 1 root root    34739 Apr 22  2021  AIprogram0312.ipynb\n",
            "-rw------- 1 root root    81693 Apr 22  2021  AIprogram0319HW.ipynb\n",
            "-rw------- 1 root root    73935 Jan  6 17:44  AIprogram0319.ipynb\n",
            "-rw------- 1 root root    51851 Apr 23  2021  AIprogram0326.ipynb\n",
            "-rw------- 1 root root    75757 Apr 23  2021  AIprogram0409.ipynb\n",
            "-rw------- 1 root root    12753 May  7  2021  AIprograme0507\n",
            "-rw------- 1 root root    25357 May 14  2021  AIprograme0514\n",
            "-rw------- 1 root root    14954 Jun 11  2021  AIprograme_CNN_0528.ipynb\n",
            "-rw------- 1 root root   274691 Jun 18  2021  AIprograme_FunctionAPI_0618.ipynb\n",
            "-rw------- 1 root root   218139 May 28  2021  AIprograme_NN_0521.ipynb\n",
            "-rw------- 1 root root    11792 Jun 18  2021  AIprograme_Transferlearning_0618.ipynb\n",
            "-rw------- 1 root root     4676 Apr 23  2021  AIprogram_list0326.ipynb\n",
            "-rw------- 1 root root  1859954 Jun  4  2021  AIprogram_RNN_0604.ipynb\n",
            "-rw------- 1 root root  3716348 Jun 11  2021  AIprogram_RNN_0611.ipynb\n",
            "-rw------- 1 root root   152879 Apr 23  2021  Colab.docx\n",
            "-rw------- 1 root root   310604 Jul  2  2021  Colab.pdf\n",
            "-rw------- 1 root root     1551 Mar 26  2021  MOSTassistant1\n",
            "-rw------- 1 root root     2013 Jun 18  2021  my_model.json\n",
            "-rw------- 1 root root 17589152 Jun 18  2021  my_model_weight.h5\n",
            "-rw------- 1 root root  5867880 Jun 18  2021  my_weights.h5\n",
            "-rw------- 1 root root  1301088 Mar  2  2021  人工智慧簡介1.pptx\n",
            "-rw------- 1 root root  5093371 Jun 21  2021  人工智慧簡介2.pptx\n",
            "-rw------- 1 root root   743459 Mar 14  2021 '人工智慧簡介2 -python.pptx'\n"
          ]
        }
      ]
    },
    {
      "cell_type": "markdown",
      "metadata": {
        "id": "1MF6WeKmcIWk"
      },
      "source": [
        "查看內容權限"
      ]
    },
    {
      "cell_type": "code",
      "metadata": {
        "id": "NHY4_nyQZTln",
        "colab": {
          "base_uri": "https://localhost:8080/"
        },
        "outputId": "758c86f1-f6f6-46d8-b44e-464242c91d5c"
      },
      "source": [
        "(x_train,y_train),(x_test,y_test)=mnist.load_data()"
      ],
      "execution_count": null,
      "outputs": [
        {
          "output_type": "stream",
          "name": "stdout",
          "text": [
            "Downloading data from https://storage.googleapis.com/tensorflow/tf-keras-datasets/mnist.npz\n",
            "11493376/11490434 [==============================] - 0s 0us/step\n",
            "11501568/11490434 [==============================] - 0s 0us/step\n"
          ]
        }
      ]
    },
    {
      "cell_type": "markdown",
      "metadata": {
        "id": "XgUWV5pwz4CD"
      },
      "source": [
        "啟用函數"
      ]
    },
    {
      "cell_type": "code",
      "metadata": {
        "colab": {
          "base_uri": "https://localhost:8080/"
        },
        "id": "FMxpjI8bZwGv",
        "outputId": "0b03fd22-7906-480f-dc94-f9bfe721afa3"
      },
      "source": [
        "x_train.shape"
      ],
      "execution_count": null,
      "outputs": [
        {
          "output_type": "execute_result",
          "data": {
            "text/plain": [
              "(60000, 28, 28)"
            ]
          },
          "metadata": {},
          "execution_count": 9
        }
      ]
    },
    {
      "cell_type": "markdown",
      "metadata": {
        "id": "ig99DnwOz89R"
      },
      "source": [
        "資料大小"
      ]
    },
    {
      "cell_type": "code",
      "metadata": {
        "colab": {
          "base_uri": "https://localhost:8080/"
        },
        "id": "PmzzgGtkzerq",
        "outputId": "2e44f0e7-205b-4744-b9b4-4f5afbd1cfb0"
      },
      "source": [
        "x_train.size"
      ],
      "execution_count": null,
      "outputs": [
        {
          "output_type": "execute_result",
          "data": {
            "text/plain": [
              "47040000"
            ]
          },
          "metadata": {},
          "execution_count": 10
        }
      ]
    },
    {
      "cell_type": "markdown",
      "metadata": {
        "id": "XLjds47_0BSx"
      },
      "source": [
        "像素大小"
      ]
    },
    {
      "cell_type": "code",
      "metadata": {
        "colab": {
          "base_uri": "https://localhost:8080/",
          "height": 282
        },
        "id": "TiFGqrAxyxJ1",
        "outputId": "59132bf4-4d64-46ae-a0e6-30ed53534e22"
      },
      "source": [
        "plt.imshow(x_train[87],cmap='Greys')"
      ],
      "execution_count": null,
      "outputs": [
        {
          "output_type": "execute_result",
          "data": {
            "text/plain": [
              "<matplotlib.image.AxesImage at 0x7ff0b0090110>"
            ]
          },
          "metadata": {},
          "execution_count": 11
        },
        {
          "output_type": "display_data",
          "data": {
            "image/png": "[encoded data removed]",
            "text/plain": [
              "<Figure size 432x288 with 1 Axes>"
            ]
          },
          "metadata": {
            "needs_background": "light"
          }
        }
      ]
    },
    {
      "cell_type": "markdown",
      "metadata": {
        "id": "W22oq9i00LnL"
      },
      "source": [
        "plt.imshow()顯示圖像 cmap像素定義"
      ]
    },
    {
      "cell_type": "code",
      "metadata": {
        "colab": {
          "base_uri": "https://localhost:8080/",
          "height": 282
        },
        "id": "9hSdIxNf3sP9",
        "outputId": "3764dbf3-0488-4783-d922-7e347e05c39e"
      },
      "source": [
        "plt.imshow(x_test[87],cmap='Greys')"
      ],
      "execution_count": null,
      "outputs": [
        {
          "output_type": "execute_result",
          "data": {
            "text/plain": [
              "<matplotlib.image.AxesImage at 0x7ff0afb6e790>"
            ]
          },
          "metadata": {},
          "execution_count": 12
        },
        {
          "output_type": "display_data",
          "data": {
            "image/png": "[encoded data removed]",
            "text/plain": [
              "<Figure size 432x288 with 1 Axes>"
            ]
          },
          "metadata": {
            "needs_background": "light"
          }
        }
      ]
    },
    {
      "cell_type": "code",
      "metadata": {
        "colab": {
          "base_uri": "https://localhost:8080/"
        },
        "id": "vyLdA-n8zasm",
        "outputId": "77690c09-edaf-4e8f-c2aa-61fa0c0fdc5b"
      },
      "source": [
        "y_train[87]"
      ],
      "execution_count": null,
      "outputs": [
        {
          "output_type": "execute_result",
          "data": {
            "text/plain": [
              "9"
            ]
          },
          "metadata": {},
          "execution_count": 13
        }
      ]
    },
    {
      "cell_type": "markdown",
      "metadata": {
        "id": "cQDdjvGT0ZlZ"
      },
      "source": [
        "確認x,y資料"
      ]
    },
    {
      "cell_type": "code",
      "metadata": {
        "colab": {
          "base_uri": "https://localhost:8080/"
        },
        "id": "7X_3HLTl3yym",
        "outputId": "066f685e-74f1-4ebf-df36-14dcdfc7e864"
      },
      "source": [
        "y_test[87]"
      ],
      "execution_count": null,
      "outputs": [
        {
          "output_type": "execute_result",
          "data": {
            "text/plain": [
              "3"
            ]
          },
          "metadata": {},
          "execution_count": 14
        }
      ]
    },
    {
      "cell_type": "code",
      "metadata": {
        "id": "w5alJQyviLLL"
      },
      "source": [
        "from keras.utils.np_utils import to_categorical"
      ],
      "execution_count": null,
      "outputs": []
    },
    {
      "cell_type": "code",
      "metadata": {
        "id": "UkBtR-c_ibTc"
      },
      "source": [
        "y_train=to_categorical(y_train)"
      ],
      "execution_count": null,
      "outputs": []
    },
    {
      "cell_type": "markdown",
      "metadata": {
        "id": "T69q_sb7jSCO"
      },
      "source": [
        "類別向量轉換為二進位（只有0和1）\n",
        "\n",
        "one hot encoding\n",
        "\n",
        "若y_train為7資料格式為(0,0,0,0,0,0,1,0,0)"
      ]
    },
    {
      "cell_type": "code",
      "metadata": {
        "colab": {
          "base_uri": "https://localhost:8080/"
        },
        "id": "t06yCWt3ig8E",
        "outputId": "f3a9f6fb-1a95-4b71-c7fb-126148ec2253"
      },
      "source": [
        "y_train"
      ],
      "execution_count": null,
      "outputs": [
        {
          "output_type": "execute_result",
          "data": {
            "text/plain": [
              "array([[0., 0., 0., ..., 0., 0., 0.],\n",
              "       [1., 0., 0., ..., 0., 0., 0.],\n",
              "       [0., 0., 0., ..., 0., 0., 0.],\n",
              "       ...,\n",
              "       [0., 0., 0., ..., 0., 0., 0.],\n",
              "       [0., 0., 0., ..., 0., 0., 0.],\n",
              "       [0., 0., 0., ..., 0., 1., 0.]], dtype=float32)"
            ]
          },
          "metadata": {},
          "execution_count": 17
        }
      ]
    },
    {
      "cell_type": "code",
      "metadata": {
        "colab": {
          "base_uri": "https://localhost:8080/"
        },
        "id": "zQ_QhL8tilUO",
        "outputId": "87ed858c-dabd-4add-b0f7-2ae13c71b62b"
      },
      "source": [
        "y_train.shape"
      ],
      "execution_count": null,
      "outputs": [
        {
          "output_type": "execute_result",
          "data": {
            "text/plain": [
              "(60000, 10)"
            ]
          },
          "metadata": {},
          "execution_count": 18
        }
      ]
    },
    {
      "cell_type": "code",
      "metadata": {
        "id": "J04BuptmoAqt"
      },
      "source": [
        "from keras.models import Sequential\n",
        "#from keras import models\n",
        "#network=models.Sequential\n",
        "from keras import layers"
      ],
      "execution_count": null,
      "outputs": []
    },
    {
      "cell_type": "code",
      "metadata": {
        "id": "3n0GFGG3oyS7"
      },
      "source": [
        "network=Sequential()"
      ],
      "execution_count": null,
      "outputs": []
    },
    {
      "cell_type": "code",
      "metadata": {
        "id": "GJwD18xTpKct"
      },
      "source": [
        "network.add(layers.Dense(1024,activation='relu',input_shape=(28*28,))) #layers(類神經網路節點,激勵函數,丟入像素)\n",
        "network.add(layers.Dense(512,activation='relu'))\n",
        "network.add(layers.Dense(256,activation='relu'))\n",
        "network.add(layers.Dense(10,activation='softmax'))"
      ],
      "execution_count": null,
      "outputs": []
    },
    {
      "cell_type": "markdown",
      "metadata": {
        "id": "F1lOhG-xdLqr"
      },
      "source": [
        "![image.png](data:image/png;base64,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)"
      ]
    },
    {
      "cell_type": "code",
      "metadata": {
        "id": "iKXl1Hn-v_P0"
      },
      "source": [
        "network.compile(loss='categorical_crossentropy', optimizer='Adam', metrics=['accuracy'])"
      ],
      "execution_count": null,
      "outputs": []
    },
    {
      "cell_type": "markdown",
      "metadata": {
        "id": "9a-o1eRcxTWV"
      },
      "source": [
        "編譯給機器看(損失函數,優化函數,數值指標)"
      ]
    },
    {
      "cell_type": "code",
      "metadata": {
        "colab": {
          "base_uri": "https://localhost:8080/"
        },
        "id": "NMkzSHGWwrI_",
        "outputId": "3bd9b5a3-93ed-45f2-df70-b10f6056b54e"
      },
      "source": [
        "network.summary()"
      ],
      "execution_count": null,
      "outputs": [
        {
          "output_type": "stream",
          "name": "stdout",
          "text": [
            "Model: \"sequential\"\n",
            "_________________________________________________________________\n",
            " Layer (type)                Output Shape              Param #   \n",
            "=================================================================\n",
            " dense (Dense)               (None, 1024)              803840    \n",
            "                                                                 \n",
            " dense_1 (Dense)             (None, 512)               524800    \n",
            "                                                                 \n",
            " dense_2 (Dense)             (None, 256)               131328    \n",
            "                                                                 \n",
            " dense_3 (Dense)             (None, 10)                2570      \n",
            "                                                                 \n",
            "=================================================================\n",
            "Total params: 1,462,538\n",
            "Trainable params: 1,462,538\n",
            "Non-trainable params: 0\n",
            "_________________________________________________________________\n"
          ]
        }
      ]
    },
    {
      "cell_type": "code",
      "metadata": {
        "colab": {
          "base_uri": "https://localhost:8080/"
        },
        "id": "K_1mqKgkz3go",
        "outputId": "ff0fa8ef-0aa2-4386-da4a-8f19c783ec52"
      },
      "source": [
        "network.fit(x_train.reshape(-1,28*28),y_train,epochs=5,batch_size=128)\n",
        "#network.fit(x_train.reshape,y_train,epochs局,切片)"
      ],
      "execution_count": null,
      "outputs": [
        {
          "output_type": "stream",
          "name": "stdout",
          "text": [
            "Epoch 1/5\n",
            "469/469 [==============================] - 15s 31ms/step - loss: 1.8952 - accuracy: 0.9037\n",
            "Epoch 2/5\n",
            "469/469 [==============================] - 14s 31ms/step - loss: 0.1386 - accuracy: 0.9628\n",
            "Epoch 3/5\n",
            "469/469 [==============================] - 14s 31ms/step - loss: 0.0927 - accuracy: 0.9733\n",
            "Epoch 4/5\n",
            "469/469 [==============================] - 14s 30ms/step - loss: 0.0779 - accuracy: 0.9775\n",
            "Epoch 5/5\n",
            "469/469 [==============================] - 14s 30ms/step - loss: 0.0799 - accuracy: 0.9776\n"
          ]
        },
        {
          "output_type": "execute_result",
          "data": {
            "text/plain": [
              "<keras.callbacks.History at 0x7ff0ac997dd0>"
            ]
          },
          "metadata": {},
          "execution_count": 24
        }
      ]
    },
    {
      "cell_type": "markdown",
      "metadata": {
        "id": "D9QhPszaed_O"
      },
      "source": [
        "切片*469大約等於y_train()60000筆資料"
      ]
    },
    {
      "cell_type": "code",
      "metadata": {
        "id": "HILceJ3W2yyJ"
      },
      "source": [
        "predict=network.predict(x_test.reshape(-1,28*28))"
      ],
      "execution_count": null,
      "outputs": []
    },
    {
      "cell_type": "code",
      "metadata": {
        "id": "Hr6FcmNP3ilW",
        "colab": {
          "base_uri": "https://localhost:8080/"
        },
        "outputId": "9d7cf73e-256d-4f54-b24f-3e2c56556421"
      },
      "source": [
        "predict[87] #y_test[87]"
      ],
      "execution_count": null,
      "outputs": [
        {
          "output_type": "execute_result",
          "data": {
            "text/plain": [
              "array([7.1865437e-11, 8.6347619e-08, 7.3437749e-11, 9.9892128e-01,\n",
              "       1.1897739e-08, 1.0786477e-03, 5.3335952e-10, 2.9439548e-08,\n",
              "       8.6470803e-10, 9.0714405e-09], dtype=float32)"
            ]
          },
          "metadata": {},
          "execution_count": 28
        }
      ]
    },
    {
      "cell_type": "code",
      "metadata": {
        "colab": {
          "base_uri": "https://localhost:8080/",
          "height": 282
        },
        "id": "53SmpoqLit4F",
        "outputId": "e8dd9100-b199-4a78-bd68-06bbef9a65e6"
      },
      "source": [
        "plt.imshow(x_test[1500],cmap=\"Greys\")"
      ],
      "execution_count": null,
      "outputs": [
        {
          "output_type": "execute_result",
          "data": {
            "text/plain": [
              "<matplotlib.image.AxesImage at 0x7ff0ab0f1b50>"
            ]
          },
          "metadata": {},
          "execution_count": 29
        },
        {
          "output_type": "display_data",
          "data": {
            "image/png": "[encoded data removed]",
            "text/plain": [
              "<Figure size 432x288 with 1 Axes>"
            ]
          },
          "metadata": {
            "needs_background": "light"
          }
        }
      ]
    },
    {
      "cell_type": "code",
      "metadata": {
        "colab": {
          "base_uri": "https://localhost:8080/"
        },
        "id": "gosqSxNVjVFM",
        "outputId": "fd808d0a-8afd-468f-f501-4a720a22a524"
      },
      "source": [
        "predict[1500]"
      ],
      "execution_count": null,
      "outputs": [
        {
          "output_type": "execute_result",
          "data": {
            "text/plain": [
              "array([1.43085226e-05, 6.24989688e-01, 1.14915214e-01, 3.39902118e-02,\n",
              "       6.56604320e-02, 7.07920757e-04, 4.26198142e-07, 1.17069393e-01,\n",
              "       3.57511342e-02, 6.90122135e-03], dtype=float32)"
            ]
          },
          "metadata": {},
          "execution_count": 30
        }
      ]
    },
    {
      "cell_type": "code",
      "metadata": {
        "colab": {
          "base_uri": "https://localhost:8080/"
        },
        "id": "Wvqo6N92jbzK",
        "outputId": "65341c66-b272-421d-9dfe-51a6f409f4d5"
      },
      "source": [
        "y_test[1500]"
      ],
      "execution_count": null,
      "outputs": [
        {
          "output_type": "execute_result",
          "data": {
            "text/plain": [
              "7"
            ]
          },
          "metadata": {},
          "execution_count": 31
        }
      ]
    },
    {
      "cell_type": "code",
      "metadata": {
        "colab": {
          "base_uri": "https://localhost:8080/"
        },
        "id": "BF3mscj1iN97",
        "outputId": "27bc526e-4566-4c86-f0a9-8973d9735412"
      },
      "source": [
        "np.nonzero(predict!=y_test)"
      ],
      "execution_count": null,
      "outputs": [
        {
          "output_type": "stream",
          "name": "stderr",
          "text": [
            "/usr/local/lib/python3.7/dist-packages/ipykernel_launcher.py:1: DeprecationWarning: elementwise comparison failed; this will raise an error in the future.\n",
            "  \"\"\"Entry point for launching an IPython kernel.\n"
          ]
        },
        {
          "output_type": "execute_result",
          "data": {
            "text/plain": [
              "(array([0]),)"
            ]
          },
          "metadata": {},
          "execution_count": 33
        }
      ]
    },
    {
      "cell_type": "code",
      "metadata": {
        "colab": {
          "base_uri": "https://localhost:8080/"
        },
        "id": "Qt1034m5j7m_",
        "outputId": "c054a09f-4981-47cc-a16c-59b71ef9269c"
      },
      "source": [
        "np.count_nonzero(predict!=y_test)/len(y_test)"
      ],
      "execution_count": null,
      "outputs": [
        {
          "output_type": "stream",
          "name": "stderr",
          "text": [
            "/usr/local/lib/python3.7/dist-packages/ipykernel_launcher.py:1: DeprecationWarning: elementwise comparison failed; this will raise an error in the future.\n",
            "  \"\"\"Entry point for launching an IPython kernel.\n"
          ]
        },
        {
          "output_type": "execute_result",
          "data": {
            "text/plain": [
              "0.0001"
            ]
          },
          "metadata": {},
          "execution_count": 34
        }
      ]
    },
    {
      "cell_type": "markdown",
      "metadata": {
        "id": "cDaiGzObkqC3"
      },
      "source": [
        "錯誤率，預測值錯誤個數/所有y_test個數"
      ]
    },
    {
      "cell_type": "code",
      "metadata": {
        "colab": {
          "base_uri": "https://localhost:8080/"
        },
        "id": "btmZsly0riR1",
        "outputId": "7776a343-9941-4a28-d094-3dbd17f32a14"
      },
      "source": [
        "network.evaluate(x_test.reshape(-1,28*28),to_categorical(y_test))"
      ],
      "execution_count": null,
      "outputs": [
        {
          "output_type": "stream",
          "name": "stdout",
          "text": [
            "313/313 [==============================] - 2s 6ms/step - loss: 0.1620 - accuracy: 0.9656\n"
          ]
        },
        {
          "output_type": "execute_result",
          "data": {
            "text/plain": [
              "[0.16196197271347046, 0.9656000137329102]"
            ]
          },
          "metadata": {},
          "execution_count": 35
        }
      ]
    },
    {
      "cell_type": "markdown",
      "metadata": {
        "id": "SAWbJA7Pr91t"
      },
      "source": [
        "1-np.count_nonzero(predict!=y_test)/len(y_test)\n",
        "\n",
        "network計算成功率"
      ]
    },
    {
      "cell_type": "code",
      "metadata": {
        "id": "mwqRe6-Nv0vN"
      },
      "source": [
        "network.save('my_model_weight.h5')\n",
        "from keras import models\n",
        "new_network=models.load_model('my_model_weight.h5')"
      ],
      "execution_count": null,
      "outputs": []
    },
    {
      "cell_type": "markdown",
      "metadata": {
        "id": "4_BM401bwEIo"
      },
      "source": [
        "network.save儲存模型及參數\n",
        "\n",
        "定義new_network為儲存模型及參數"
      ]
    },
    {
      "cell_type": "code",
      "metadata": {
        "colab": {
          "base_uri": "https://localhost:8080/"
        },
        "id": "1ytInmC3wldf",
        "outputId": "993fd831-9c6d-42ff-bf57-f28b64ac693b"
      },
      "source": [
        "new_network.summary()"
      ],
      "execution_count": null,
      "outputs": [
        {
          "output_type": "stream",
          "name": "stdout",
          "text": [
            "Model: \"sequential\"\n",
            "_________________________________________________________________\n",
            " Layer (type)                Output Shape              Param #   \n",
            "=================================================================\n",
            " dense (Dense)               (None, 1024)              803840    \n",
            "                                                                 \n",
            " dense_1 (Dense)             (None, 512)               524800    \n",
            "                                                                 \n",
            " dense_2 (Dense)             (None, 256)               131328    \n",
            "                                                                 \n",
            " dense_3 (Dense)             (None, 10)                2570      \n",
            "                                                                 \n",
            "=================================================================\n",
            "Total params: 1,462,538\n",
            "Trainable params: 1,462,538\n",
            "Non-trainable params: 0\n",
            "_________________________________________________________________\n"
          ]
        }
      ]
    },
    {
      "cell_type": "code",
      "metadata": {
        "colab": {
          "base_uri": "https://localhost:8080/"
        },
        "id": "W8wDsHBc5Wut",
        "outputId": "9659089b-f788-4837-8e85-5489579827fd"
      },
      "source": [
        "aaa=network.to_json()\n",
        "open('my_model.json','w').write(aaa)"
      ],
      "execution_count": null,
      "outputs": [
        {
          "output_type": "execute_result",
          "data": {
            "text/plain": [
              "2013"
            ]
          },
          "metadata": {},
          "execution_count": 38
        }
      ]
    },
    {
      "cell_type": "markdown",
      "metadata": {
        "id": "k7FnnTD_6HJe"
      },
      "source": [
        "模型儲存"
      ]
    },
    {
      "cell_type": "code",
      "metadata": {
        "colab": {
          "base_uri": "https://localhost:8080/"
        },
        "id": "XfOVvXMj6OwU",
        "outputId": "8a463432-b217-4e1e-cdcb-f02f791e397b"
      },
      "source": [
        "open('my_model.json','w').write(network.to_json())"
      ],
      "execution_count": null,
      "outputs": [
        {
          "output_type": "execute_result",
          "data": {
            "text/plain": [
              "2013"
            ]
          },
          "metadata": {},
          "execution_count": 39
        }
      ]
    },
    {
      "cell_type": "markdown",
      "metadata": {
        "id": "_vQM9jDyAwnY"
      },
      "source": [
        "儲存json至雲端"
      ]
    },
    {
      "cell_type": "code",
      "metadata": {
        "id": "ksMB6pfA6QAm"
      },
      "source": [
        "aaa=open('my_model.json','r').read()\n",
        "new_network=models.model_from_json(aaa)"
      ],
      "execution_count": null,
      "outputs": []
    },
    {
      "cell_type": "code",
      "metadata": {
        "colab": {
          "base_uri": "https://localhost:8080/"
        },
        "id": "yV_n8khZAVf1",
        "outputId": "48d87512-fe77-4e45-915a-0c77a3e3d982"
      },
      "source": [
        "new_network.summary"
      ],
      "execution_count": null,
      "outputs": [
        {
          "output_type": "execute_result",
          "data": {
            "text/plain": [
              "<bound method Model.summary of <keras.engine.sequential.Sequential object at 0x7ff0ab11cf10>>"
            ]
          },
          "metadata": {},
          "execution_count": 41
        }
      ]
    },
    {
      "cell_type": "markdown",
      "metadata": {
        "id": "SCjZQuFX8He6"
      },
      "source": [
        "讀取模型"
      ]
    },
    {
      "cell_type": "code",
      "metadata": {
        "colab": {
          "base_uri": "https://localhost:8080/"
        },
        "id": "-DQRBBBL8Kj6",
        "outputId": "202a02c6-79df-448c-d1cd-47c90fe5337d"
      },
      "source": [
        "from keras.utils.np_utils import to_categorical\n",
        "new_network.compile(loss='categorical_crossentropy',optimizer='adam',metrics=['accuracy'])\n",
        "new_network.evaluate(x_test.reshape(-1,28*28),to_categorical(y_test))"
      ],
      "execution_count": null,
      "outputs": [
        {
          "output_type": "stream",
          "name": "stdout",
          "text": [
            "313/313 [==============================] - 2s 6ms/step - loss: 79.3766 - accuracy: 0.0655\n"
          ]
        },
        {
          "output_type": "execute_result",
          "data": {
            "text/plain": [
              "[79.3765869140625, 0.06549999862909317]"
            ]
          },
          "metadata": {},
          "execution_count": 42
        }
      ]
    },
    {
      "cell_type": "code",
      "metadata": {
        "id": "VV5ytJ1d921j"
      },
      "source": [
        "network.save_weights('my_weights.h5') #參數儲存"
      ],
      "execution_count": null,
      "outputs": []
    },
    {
      "cell_type": "code",
      "metadata": {
        "id": "pvVdFZEk-Tcq"
      },
      "source": [
        "new_network.save_weights('my_weights.h5') #參數讀取"
      ],
      "execution_count": null,
      "outputs": []
    },
    {
      "cell_type": "code",
      "metadata": {
        "colab": {
          "base_uri": "https://localhost:8080/"
        },
        "id": "y1GQIgk5Do1B",
        "outputId": "418c8292-ce86-4cfe-d432-4a3e255b7b88"
      },
      "source": [
        "new_network.evaluate(x_test.reshape(-1,28*28),to_categorical(y_test))"
      ],
      "execution_count": null,
      "outputs": [
        {
          "output_type": "stream",
          "name": "stdout",
          "text": [
            "313/313 [==============================] - 2s 6ms/step - loss: 79.3766 - accuracy: 0.0655\n"
          ]
        },
        {
          "output_type": "execute_result",
          "data": {
            "text/plain": [
              "[79.3765869140625, 0.06549999862909317]"
            ]
          },
          "metadata": {},
          "execution_count": 45
        }
      ]
    }
  ]
}