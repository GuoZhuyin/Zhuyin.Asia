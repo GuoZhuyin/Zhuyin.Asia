{
  "nbformat": 4,
  "nbformat_minor": 0,
  "metadata": {
    "colab": {
      "name": "FinalExam_ETH_USD_RNN.ipynb",
      "provenance": [],
      "collapsed_sections": [],
      "include_colab_link": true
    },
    "kernelspec": {
      "name": "python3",
      "display_name": "Python 3"
    },
    "language_info": {
      "name": "python"
    }
  },
  "cells": [
    {
      "cell_type": "markdown",
      "metadata": {
        "id": "view-in-github",
        "colab_type": "text"
      },
      "source": [
        "<a href=\"https://colab.research.google.com/github/GuoZhuyin/zhuyinasia/blob/main/FinalExam_ETH_USD_RNN.ipynb\" target=\"_parent\"><img src=\"https://colab.research.google.com/assets/colab-badge.svg\" alt=\"Open In Colab\"/></a>"
      ]
    },
    {
      "cell_type": "code",
      "source": [
        "import numpy as np\n",
        "from datetime import date\n",
        "import pandas as pd\n",
        "import matplotlib.pyplot as plt\n",
        "from sklearn.preprocessing import MinMaxScaler\n",
        "from google.colab import drive\n",
        "from google.colab import files"
      ],
      "metadata": {
        "id": "y8JbzNoKtxTY"
      },
      "execution_count": null,
      "outputs": []
    },
    {
      "cell_type": "code",
      "source": [
        "import os\n",
        "drive.mount('/content/gdrive',force_remount=True)\n",
        "os.chdir(\"/content/gdrive/MyDrive/亞洲大學/大三/資料科學\")"
      ],
      "metadata": {
        "colab": {
          "base_uri": "https://localhost:8080/"
        },
        "id": "NKT6Hv2ftDMW",
        "outputId": "8d8c067f-d067-4ae1-f636-377e0b2ed7a1"
      },
      "execution_count": null,
      "outputs": [
        {
          "output_type": "stream",
          "name": "stdout",
          "text": [
            "Mounted at /content/gdrive\n"
          ]
        }
      ]
    },
    {
      "cell_type": "code",
      "source": [
        "!ls -la #確認雲端掛載成功"
      ],
      "metadata": {
        "colab": {
          "base_uri": "https://localhost:8080/"
        },
        "id": "ylIgZqPntPT0",
        "outputId": "9503e910-48ae-44a0-aaf7-5abde6c81a48"
      },
      "execution_count": null,
      "outputs": [
        {
          "output_type": "stream",
          "name": "stdout",
          "text": [
            "total 311946\n",
            "-rw------- 1 root root     88736 Jan  7 09:50 Binance_ETHUSDT_d.csv\n",
            "-rw------- 1 root root 317526599 Apr 11  2021 bitstampUSD_1-min_data_2012-01-01_to_2021-03-31.csv\n",
            "-rw------- 1 root root    141255 Jan  7 12:44 eth_historical_max.csv\n",
            "-rw------- 1 root root    102577 Jan  7 11:41 eth_usd.csv\n",
            "-rw------- 1 root root    172623 Jan  7 12:04 FinalExam_BTC_USD.ipynb\n",
            "-rw------- 1 root root    241849 Jan 11 08:30 FinalExam_ETH_USD_2019.ipynb\n",
            "-rw------- 1 root root    341527 Jan 11 17:51 FinalExam_ETH_USD_LinearRegression.ipynb\n",
            "-rw------- 1 root root     57997 Jan  9 18:29 FinalExam_ETH_USD_RNN2.ipynb\n",
            "-rw------- 1 root root     65557 Jan 11 19:01 FinalExam_ETH_USD_RNN.ipynb\n",
            "-rw------- 1 root root     19392 Jan  9 17:53 FinalExam_RNN.ipynb\n",
            "-rw------- 1 root root    211929 Jan  7 10:40 FinalExam_YFinance_0050.ipynb\n",
            "-rw------- 1 root root    241986 Jan  7 12:39 FinalExam_YFinance1.ipynb\n",
            "-rw------- 1 root root    215408 Jan  7 09:53 FinalExam_YFinance2.ipynb\n",
            "-rw------- 1 root root       151 Sep 22 05:47 orange0922.gsheet\n",
            "-rw------- 1 root root       151 Jan 10 09:40 未命名文件.gdoc\n"
          ]
        }
      ]
    },
    {
      "cell_type": "code",
      "source": [
        "eth=pd.DataFrame()\n",
        "eth = pd.read_csv('./eth_historical_max.csv')\n",
        "eth"
      ],
      "metadata": {
        "colab": {
          "base_uri": "https://localhost:8080/",
          "height": 423
        },
        "id": "X2UpM-gLtbPZ",
        "outputId": "9b894ffa-083a-4adb-b87a-1dcba08e94dc"
      },
      "execution_count": null,
      "outputs": [
        {
          "output_type": "execute_result",
          "data": {
            "text/html": [
              "\n",
              "  <div id=\"df-35bd7d5d-714f-4504-bc08-958a1dfa6367\">\n",
              "    <div class=\"colab-df-container\">\n",
              "      <div>\n",
              "<style scoped>\n",
              "    .dataframe tbody tr th:only-of-type {\n",
              "        vertical-align: middle;\n",
              "    }\n",
              "\n",
              "    .dataframe tbody tr th {\n",
              "        vertical-align: top;\n",
              "    }\n",
              "\n",
              "    .dataframe thead th {\n",
              "        text-align: right;\n",
              "    }\n",
              "</style>\n",
              "<table border=\"1\" class=\"dataframe\">\n",
              "  <thead>\n",
              "    <tr style=\"text-align: right;\">\n",
              "      <th></th>\n",
              "      <th>Date</th>\n",
              "      <th>Timestamp</th>\n",
              "      <th>Open</th>\n",
              "      <th>High</th>\n",
              "      <th>Low</th>\n",
              "      <th>Close</th>\n",
              "      <th>Adj Close</th>\n",
              "      <th>Volume</th>\n",
              "    </tr>\n",
              "  </thead>\n",
              "  <tbody>\n",
              "    <tr>\n",
              "      <th>0</th>\n",
              "      <td>2017/11/9</td>\n",
              "      <td>1510185600</td>\n",
              "      <td>308.644989</td>\n",
              "      <td>329.451996</td>\n",
              "      <td>307.056000</td>\n",
              "      <td>320.884003</td>\n",
              "      <td>320.884003</td>\n",
              "      <td>893249984</td>\n",
              "    </tr>\n",
              "    <tr>\n",
              "      <th>1</th>\n",
              "      <td>2017/11/10</td>\n",
              "      <td>1510272000</td>\n",
              "      <td>320.670990</td>\n",
              "      <td>324.717987</td>\n",
              "      <td>294.541992</td>\n",
              "      <td>299.252991</td>\n",
              "      <td>299.252991</td>\n",
              "      <td>885985984</td>\n",
              "    </tr>\n",
              "    <tr>\n",
              "      <th>2</th>\n",
              "      <td>2017/11/11</td>\n",
              "      <td>1510358400</td>\n",
              "      <td>298.585998</td>\n",
              "      <td>319.453003</td>\n",
              "      <td>298.191986</td>\n",
              "      <td>314.681000</td>\n",
              "      <td>314.681000</td>\n",
              "      <td>842300992</td>\n",
              "    </tr>\n",
              "    <tr>\n",
              "      <th>3</th>\n",
              "      <td>2017/11/12</td>\n",
              "      <td>1510444800</td>\n",
              "      <td>314.690002</td>\n",
              "      <td>319.153015</td>\n",
              "      <td>298.513000</td>\n",
              "      <td>307.907989</td>\n",
              "      <td>307.907989</td>\n",
              "      <td>1613479936</td>\n",
              "    </tr>\n",
              "    <tr>\n",
              "      <th>4</th>\n",
              "      <td>2017/11/13</td>\n",
              "      <td>1510531200</td>\n",
              "      <td>307.024994</td>\n",
              "      <td>328.415008</td>\n",
              "      <td>307.024994</td>\n",
              "      <td>316.716003</td>\n",
              "      <td>316.716003</td>\n",
              "      <td>1041889984</td>\n",
              "    </tr>\n",
              "    <tr>\n",
              "      <th>...</th>\n",
              "      <td>...</td>\n",
              "      <td>...</td>\n",
              "      <td>...</td>\n",
              "      <td>...</td>\n",
              "      <td>...</td>\n",
              "      <td>...</td>\n",
              "      <td>...</td>\n",
              "      <td>...</td>\n",
              "    </tr>\n",
              "    <tr>\n",
              "      <th>1516</th>\n",
              "      <td>2022/1/3</td>\n",
              "      <td>1641168000</td>\n",
              "      <td>3829.535645</td>\n",
              "      <td>3836.198730</td>\n",
              "      <td>3698.047607</td>\n",
              "      <td>3761.380371</td>\n",
              "      <td>3761.380371</td>\n",
              "      <td>12080777893</td>\n",
              "    </tr>\n",
              "    <tr>\n",
              "      <th>1517</th>\n",
              "      <td>2022/1/4</td>\n",
              "      <td>1641254400</td>\n",
              "      <td>3761.361572</td>\n",
              "      <td>3876.785156</td>\n",
              "      <td>3723.349854</td>\n",
              "      <td>3794.056641</td>\n",
              "      <td>3794.056641</td>\n",
              "      <td>14030925983</td>\n",
              "    </tr>\n",
              "    <tr>\n",
              "      <th>1518</th>\n",
              "      <td>2022/1/5</td>\n",
              "      <td>1641340800</td>\n",
              "      <td>3794.269043</td>\n",
              "      <td>3842.059814</td>\n",
              "      <td>3456.745361</td>\n",
              "      <td>3550.386963</td>\n",
              "      <td>3550.386963</td>\n",
              "      <td>18061338502</td>\n",
              "    </tr>\n",
              "    <tr>\n",
              "      <th>1519</th>\n",
              "      <td>2022/1/6</td>\n",
              "      <td>1641427200</td>\n",
              "      <td>3549.708984</td>\n",
              "      <td>3549.708984</td>\n",
              "      <td>3335.376709</td>\n",
              "      <td>3418.408203</td>\n",
              "      <td>3418.408203</td>\n",
              "      <td>24293791313</td>\n",
              "    </tr>\n",
              "    <tr>\n",
              "      <th>1520</th>\n",
              "      <td>2022/1/7</td>\n",
              "      <td>1641513600</td>\n",
              "      <td>3420.461914</td>\n",
              "      <td>3420.461914</td>\n",
              "      <td>3149.016602</td>\n",
              "      <td>3253.740723</td>\n",
              "      <td>3253.740723</td>\n",
              "      <td>23039903744</td>\n",
              "    </tr>\n",
              "  </tbody>\n",
              "</table>\n",
              "<p>1521 rows × 8 columns</p>\n",
              "</div>\n",
              "      <button class=\"colab-df-convert\" onclick=\"convertToInteractive('df-35bd7d5d-714f-4504-bc08-958a1dfa6367')\"\n",
              "              title=\"Convert this dataframe to an interactive table.\"\n",
              "              style=\"display:none;\">\n",
              "        \n",
              "  <svg xmlns=\"http://www.w3.org/2000/svg\" height=\"24px\"viewBox=\"0 0 24 24\"\n",
              "       width=\"24px\">\n",
              "    <path d=\"M0 0h24v24H0V0z\" fill=\"none\"/>\n",
              "    <path d=\"M18.56 5.44l.94 2.06.94-2.06 2.06-.94-2.06-.94-.94-2.06-.94 2.06-2.06.94zm-11 1L8.5 8.5l.94-2.06 2.06-.94-2.06-.94L8.5 2.5l-.94 2.06-2.06.94zm10 10l.94 2.06.94-2.06 2.06-.94-2.06-.94-.94-2.06-.94 2.06-2.06.94z\"/><path d=\"M17.41 7.96l-1.37-1.37c-.4-.4-.92-.59-1.43-.59-.52 0-1.04.2-1.43.59L10.3 9.45l-7.72 7.72c-.78.78-.78 2.05 0 2.83L4 21.41c.39.39.9.59 1.41.59.51 0 1.02-.2 1.41-.59l7.78-7.78 2.81-2.81c.8-.78.8-2.07 0-2.86zM5.41 20L4 18.59l7.72-7.72 1.47 1.35L5.41 20z\"/>\n",
              "  </svg>\n",
              "      </button>\n",
              "      \n",
              "  <style>\n",
              "    .colab-df-container {\n",
              "      display:flex;\n",
              "      flex-wrap:wrap;\n",
              "      gap: 12px;\n",
              "    }\n",
              "\n",
              "    .colab-df-convert {\n",
              "      background-color: #E8F0FE;\n",
              "      border: none;\n",
              "      border-radius: 50%;\n",
              "      cursor: pointer;\n",
              "      display: none;\n",
              "      fill: #1967D2;\n",
              "      height: 32px;\n",
              "      padding: 0 0 0 0;\n",
              "      width: 32px;\n",
              "    }\n",
              "\n",
              "    .colab-df-convert:hover {\n",
              "      background-color: #E2EBFA;\n",
              "      box-shadow: 0px 1px 2px rgba(60, 64, 67, 0.3), 0px 1px 3px 1px rgba(60, 64, 67, 0.15);\n",
              "      fill: #174EA6;\n",
              "    }\n",
              "\n",
              "    [theme=dark] .colab-df-convert {\n",
              "      background-color: #3B4455;\n",
              "      fill: #D2E3FC;\n",
              "    }\n",
              "\n",
              "    [theme=dark] .colab-df-convert:hover {\n",
              "      background-color: #434B5C;\n",
              "      box-shadow: 0px 1px 3px 1px rgba(0, 0, 0, 0.15);\n",
              "      filter: drop-shadow(0px 1px 2px rgba(0, 0, 0, 0.3));\n",
              "      fill: #FFFFFF;\n",
              "    }\n",
              "  </style>\n",
              "\n",
              "      <script>\n",
              "        const buttonEl =\n",
              "          document.querySelector('#df-35bd7d5d-714f-4504-bc08-958a1dfa6367 button.colab-df-convert');\n",
              "        buttonEl.style.display =\n",
              "          google.colab.kernel.accessAllowed ? 'block' : 'none';\n",
              "\n",
              "        async function convertToInteractive(key) {\n",
              "          const element = document.querySelector('#df-35bd7d5d-714f-4504-bc08-958a1dfa6367');\n",
              "          const dataTable =\n",
              "            await google.colab.kernel.invokeFunction('convertToInteractive',\n",
              "                                                     [key], {});\n",
              "          if (!dataTable) return;\n",
              "\n",
              "          const docLinkHtml = 'Like what you see? Visit the ' +\n",
              "            '<a target=\"_blank\" href=https://colab.research.google.com/notebooks/data_table.ipynb>data table notebook</a>'\n",
              "            + ' to learn more about interactive tables.';\n",
              "          element.innerHTML = '';\n",
              "          dataTable['output_type'] = 'display_data';\n",
              "          await google.colab.output.renderOutput(dataTable, element);\n",
              "          const docLink = document.createElement('div');\n",
              "          docLink.innerHTML = docLinkHtml;\n",
              "          element.appendChild(docLink);\n",
              "        }\n",
              "      </script>\n",
              "    </div>\n",
              "  </div>\n",
              "  "
            ],
            "text/plain": [
              "            Date   Timestamp  ...    Adj Close       Volume\n",
              "0      2017/11/9  1510185600  ...   320.884003    893249984\n",
              "1     2017/11/10  1510272000  ...   299.252991    885985984\n",
              "2     2017/11/11  1510358400  ...   314.681000    842300992\n",
              "3     2017/11/12  1510444800  ...   307.907989   1613479936\n",
              "4     2017/11/13  1510531200  ...   316.716003   1041889984\n",
              "...          ...         ...  ...          ...          ...\n",
              "1516    2022/1/3  1641168000  ...  3761.380371  12080777893\n",
              "1517    2022/1/4  1641254400  ...  3794.056641  14030925983\n",
              "1518    2022/1/5  1641340800  ...  3550.386963  18061338502\n",
              "1519    2022/1/6  1641427200  ...  3418.408203  24293791313\n",
              "1520    2022/1/7  1641513600  ...  3253.740723  23039903744\n",
              "\n",
              "[1521 rows x 8 columns]"
            ]
          },
          "metadata": {},
          "execution_count": 4
        }
      ]
    },
    {
      "cell_type": "code",
      "source": [
        "eth.isnull().sum()\n",
        "#確認有無null值\n",
        "#.dropna能處理缺失值"
      ],
      "metadata": {
        "colab": {
          "base_uri": "https://localhost:8080/"
        },
        "id": "Lk52D0vL0icn",
        "outputId": "e93a45a8-af34-4db3-ac1b-51c4dbead509"
      },
      "execution_count": null,
      "outputs": [
        {
          "output_type": "execute_result",
          "data": {
            "text/plain": [
              "Date         0\n",
              "Timestamp    0\n",
              "Open         0\n",
              "High         0\n",
              "Low          0\n",
              "Close        0\n",
              "Adj Close    0\n",
              "Volume       0\n",
              "dtype: int64"
            ]
          },
          "metadata": {},
          "execution_count": 5
        }
      ]
    },
    {
      "cell_type": "code",
      "source": [
        "eth.shape"
      ],
      "metadata": {
        "colab": {
          "base_uri": "https://localhost:8080/"
        },
        "id": "nRgDuO9b-Zji",
        "outputId": "562f5699-22f8-4d54-a9bb-cb2c0a957101"
      },
      "execution_count": null,
      "outputs": [
        {
          "output_type": "execute_result",
          "data": {
            "text/plain": [
              "(1521, 8)"
            ]
          },
          "metadata": {},
          "execution_count": 6
        }
      ]
    },
    {
      "cell_type": "code",
      "source": [
        "\"\"\"plt.figure(figsize = (12, 7))\n",
        "plt.title(\"ETH_USD\", size=20)\n",
        "plt.xlabel(\"Date\", size=10)\n",
        "plt.ylabel(\"USD\", size=10)\n",
        "plt.plot(eth[\"Date\"],eth[\"Adj Close\"], lw=2)\"\"\""
      ],
      "metadata": {
        "colab": {
          "base_uri": "https://localhost:8080/",
          "height": 35
        },
        "id": "wpAVUXTj4fiN",
        "outputId": "28e852ad-a766-4118-ec60-0c49e0372fc9"
      },
      "execution_count": null,
      "outputs": [
        {
          "output_type": "execute_result",
          "data": {
            "application/vnd.google.colaboratory.intrinsic+json": {
              "type": "string"
            },
            "text/plain": [
              "'plt.figure(figsize = (12, 7))\\nplt.title(\"ETH_USD\", size=20)\\nplt.xlabel(\"Date\", size=10)\\nplt.ylabel(\"USD\", size=10)\\nplt.plot(eth[\"Date\"],eth[\"Adj Close\"], lw=2)'"
            ]
          },
          "metadata": {},
          "execution_count": 7
        }
      ]
    },
    {
      "cell_type": "code",
      "source": [
        "\"\"\"plt.figure(figsize = (12, 7))\n",
        "plt.title(\"ETH_Volume\", size=20)\n",
        "plt.xlabel(\"Date\", size=10)\n",
        "plt.ylabel(\"Volume\", size=10)\n",
        "plt.plot(eth[\"Date\"],eth[\"Volume\"])\"\"\""
      ],
      "metadata": {
        "colab": {
          "base_uri": "https://localhost:8080/",
          "height": 35
        },
        "id": "vhqfLs0xLbl5",
        "outputId": "f774b87c-0ba7-45d6-ce59-f8314f9976e4"
      },
      "execution_count": null,
      "outputs": [
        {
          "output_type": "execute_result",
          "data": {
            "application/vnd.google.colaboratory.intrinsic+json": {
              "type": "string"
            },
            "text/plain": [
              "'plt.figure(figsize = (12, 7))\\nplt.title(\"ETH_Volume\", size=20)\\nplt.xlabel(\"Date\", size=10)\\nplt.ylabel(\"Volume\", size=10)\\nplt.plot(eth[\"Date\"],eth[\"Volume\"])'"
            ]
          },
          "metadata": {},
          "execution_count": 8
        }
      ]
    },
    {
      "cell_type": "code",
      "source": [
        "eth_a=eth[:int(np.round(len(eth)*0.7))] #過去\n",
        "eth_b=eth[len(eth_a):] #現在"
      ],
      "metadata": {
        "id": "Sah_EuA3r-D2"
      },
      "execution_count": null,
      "outputs": []
    },
    {
      "cell_type": "code",
      "source": [
        "eth_a_adjclose = eth_a.iloc[:,6:7].values  # 取「Adj Close」欄位值"
      ],
      "metadata": {
        "id": "x8wqTJs55Wzj"
      },
      "execution_count": null,
      "outputs": []
    },
    {
      "cell_type": "code",
      "source": [
        "scaler = MinMaxScaler(feature_range = (0, 1))\n",
        "eth_a_adjclose_scaled = scaler.fit_transform(eth_a_adjclose)\n",
        "#資料預處理 數據處理為[0,1]之間 最小值為0 最大值為1\n",
        "eth_a_adjclose_scaled.shape"
      ],
      "metadata": {
        "colab": {
          "base_uri": "https://localhost:8080/"
        },
        "id": "L2IvUA0O-VxZ",
        "outputId": "19a2ac68-13b5-4323-cd9a-e3a0405d3ef7"
      },
      "execution_count": null,
      "outputs": [
        {
          "output_type": "execute_result",
          "data": {
            "text/plain": [
              "(1065, 1)"
            ]
          },
          "metadata": {},
          "execution_count": 11
        }
      ]
    },
    {
      "cell_type": "code",
      "source": [
        "x_train = []   #抓60天前的資料到x_train\n",
        "y_train = []   #第60天的資料\n",
        "for i in range(60, len(eth_a_adjclose_scaled)):  # len(eth_a_adjclose_scaled)是訓練集總數\n",
        "    x_train.append(eth_a_adjclose_scaled[i-60:i, 0])\n",
        "    y_train.append(eth_a_adjclose_scaled[i, 0])\n",
        "x_train, y_train = np.array(x_train), np.array(y_train)\n",
        "# 轉成numpy array的格式，以利輸入 RNN\n",
        "print(x_train)\n",
        "print(x_train.shape)\n",
        "print(y_train)\n",
        "print(y_train.shape)"
      ],
      "metadata": {
        "colab": {
          "base_uri": "https://localhost:8080/"
        },
        "id": "Ri_MpuXJ0i8b",
        "outputId": "cedd5891-7472-4677-9af1-813baa90b7ca"
      },
      "execution_count": null,
      "outputs": [
        {
          "output_type": "stream",
          "name": "stdout",
          "text": [
            "[[0.18030149 0.16381584 0.175574   ... 0.69613863 0.72964194 0.81461183]\n",
            " [0.16381584 0.175574   0.17041208 ... 0.72964194 0.81461183 0.81107553]\n",
            " [0.175574   0.17041208 0.17712493 ... 0.81461183 0.81107553 0.92631721]\n",
            " ...\n",
            " [0.22498431 0.23601577 0.23383081 ... 0.19984106 0.20445722 0.20550726]\n",
            " [0.23601577 0.23383081 0.23746398 ... 0.20445722 0.20550726 0.19549216]\n",
            " [0.23383081 0.23746398 0.22564829 ... 0.20550726 0.19549216 0.1962488 ]]\n",
            "(1005, 60)\n",
            "[0.81107553 0.92631721 0.89284442 ... 0.19549216 0.1962488  0.20307557]\n",
            "(1005,)\n"
          ]
        }
      ]
    },
    {
      "cell_type": "code",
      "source": [
        "x_train = np.reshape(x_train, (x_train.shape[0], x_train.shape[1], 1))\n",
        "#x_train 是 2-dimension，將reshape 轉成 3-dimension\n",
        "x_train.shape"
      ],
      "metadata": {
        "id": "El_eP6tCMsNX",
        "colab": {
          "base_uri": "https://localhost:8080/"
        },
        "outputId": "416ad7e3-f296-4c99-fe46-330d4121d624"
      },
      "execution_count": null,
      "outputs": [
        {
          "output_type": "execute_result",
          "data": {
            "text/plain": [
              "(1005, 60, 1)"
            ]
          },
          "metadata": {},
          "execution_count": 13
        }
      ]
    },
    {
      "cell_type": "code",
      "source": [
        "# Import the Keras libraries and packages\n",
        "from keras.models import Sequential\n",
        "from keras.layers import Dense\n",
        "from keras.layers import LSTM\n",
        "from keras.layers import Dropout\n",
        "\n",
        "# Initialising the RNN\n",
        "network = Sequential()"
      ],
      "metadata": {
        "id": "78xxgBALQjuu"
      },
      "execution_count": null,
      "outputs": []
    },
    {
      "cell_type": "code",
      "source": [
        "# Adding the first LSTM layer and some Dropout regularisation\n",
        "network.add(LSTM(units = 50, return_sequences = True, input_shape = (x_train.shape[1], 1)))\n",
        "network.add(Dropout(0.2))\n",
        "\n",
        "# Adding a second LSTM layer and some Dropout regularisation\n",
        "network.add(LSTM(units = 50, return_sequences = True))\n",
        "network.add(Dropout(0.2))\n",
        "\n",
        "# Adding a third LSTM layer and some Dropout regularisation\n",
        "network.add(LSTM(units = 50, return_sequences = True))\n",
        "network.add(Dropout(0.2))\n",
        "\n",
        "# Adding a fourth LSTM layer and some Dropout regularisation\n",
        "network.add(LSTM(units = 50))\n",
        "network.add(Dropout(0.2))"
      ],
      "metadata": {
        "id": "ZSOsyQIBvTLA"
      },
      "execution_count": null,
      "outputs": []
    },
    {
      "cell_type": "code",
      "source": [
        "network.add(Dense(units = 1,))"
      ],
      "metadata": {
        "id": "juVG3xdsA3oD"
      },
      "execution_count": null,
      "outputs": []
    },
    {
      "cell_type": "code",
      "source": [
        "network.compile(loss='mean_squared_error',optimizer='adam',metrics='accuracy')\n",
        "network.fit(x_train,y_train,epochs=100,batch_size=128) #accuracy 訓練準確率"
      ],
      "metadata": {
        "id": "bgzM_8heBCDq",
        "colab": {
          "base_uri": "https://localhost:8080/"
        },
        "outputId": "9c5cce4e-28c4-46fd-d28e-720a58a0c55c"
      },
      "execution_count": null,
      "outputs": [
        {
          "output_type": "stream",
          "name": "stdout",
          "text": [
            "Epoch 1/100\n",
            "8/8 [==============================] - 10s 228ms/step - loss: 0.0333 - accuracy: 9.9502e-04\n",
            "Epoch 2/100\n",
            "8/8 [==============================] - 2s 226ms/step - loss: 0.0096 - accuracy: 0.0020\n",
            "Epoch 3/100\n",
            "8/8 [==============================] - 2s 227ms/step - loss: 0.0055 - accuracy: 9.9502e-04\n",
            "Epoch 4/100\n",
            "8/8 [==============================] - 2s 224ms/step - loss: 0.0045 - accuracy: 0.0020\n",
            "Epoch 5/100\n",
            "8/8 [==============================] - 2s 224ms/step - loss: 0.0044 - accuracy: 9.9502e-04\n",
            "Epoch 6/100\n",
            "8/8 [==============================] - 2s 223ms/step - loss: 0.0037 - accuracy: 0.0020\n",
            "Epoch 7/100\n",
            "8/8 [==============================] - 2s 223ms/step - loss: 0.0037 - accuracy: 0.0020\n",
            "Epoch 8/100\n",
            "8/8 [==============================] - 2s 222ms/step - loss: 0.0037 - accuracy: 0.0020\n",
            "Epoch 9/100\n",
            "8/8 [==============================] - 2s 224ms/step - loss: 0.0034 - accuracy: 0.0020\n",
            "Epoch 10/100\n",
            "8/8 [==============================] - 2s 225ms/step - loss: 0.0033 - accuracy: 0.0020\n",
            "Epoch 11/100\n",
            "8/8 [==============================] - 2s 224ms/step - loss: 0.0030 - accuracy: 0.0020\n",
            "Epoch 12/100\n",
            "8/8 [==============================] - 2s 223ms/step - loss: 0.0031 - accuracy: 0.0020\n",
            "Epoch 13/100\n",
            "8/8 [==============================] - 2s 222ms/step - loss: 0.0032 - accuracy: 0.0020\n",
            "Epoch 14/100\n",
            "8/8 [==============================] - 2s 224ms/step - loss: 0.0031 - accuracy: 0.0020\n",
            "Epoch 15/100\n",
            "8/8 [==============================] - 2s 223ms/step - loss: 0.0028 - accuracy: 0.0020\n",
            "Epoch 16/100\n",
            "8/8 [==============================] - 2s 226ms/step - loss: 0.0027 - accuracy: 0.0020\n",
            "Epoch 17/100\n",
            "8/8 [==============================] - 2s 224ms/step - loss: 0.0026 - accuracy: 0.0020\n",
            "Epoch 18/100\n",
            "8/8 [==============================] - 2s 226ms/step - loss: 0.0030 - accuracy: 0.0020\n",
            "Epoch 19/100\n",
            "8/8 [==============================] - 2s 223ms/step - loss: 0.0028 - accuracy: 0.0020\n",
            "Epoch 20/100\n",
            "8/8 [==============================] - 2s 224ms/step - loss: 0.0030 - accuracy: 0.0020\n",
            "Epoch 21/100\n",
            "8/8 [==============================] - 2s 224ms/step - loss: 0.0025 - accuracy: 0.0020\n",
            "Epoch 22/100\n",
            "8/8 [==============================] - 2s 227ms/step - loss: 0.0026 - accuracy: 0.0020\n",
            "Epoch 23/100\n",
            "8/8 [==============================] - 2s 224ms/step - loss: 0.0021 - accuracy: 0.0020\n",
            "Epoch 24/100\n",
            "8/8 [==============================] - 2s 228ms/step - loss: 0.0027 - accuracy: 0.0020\n",
            "Epoch 25/100\n",
            "8/8 [==============================] - 2s 223ms/step - loss: 0.0023 - accuracy: 0.0020\n",
            "Epoch 26/100\n",
            "8/8 [==============================] - 2s 223ms/step - loss: 0.0021 - accuracy: 0.0020\n",
            "Epoch 27/100\n",
            "8/8 [==============================] - 2s 225ms/step - loss: 0.0025 - accuracy: 0.0020\n",
            "Epoch 28/100\n",
            "8/8 [==============================] - 2s 222ms/step - loss: 0.0023 - accuracy: 0.0020\n",
            "Epoch 29/100\n",
            "8/8 [==============================] - 2s 220ms/step - loss: 0.0022 - accuracy: 0.0020\n",
            "Epoch 30/100\n",
            "8/8 [==============================] - 2s 222ms/step - loss: 0.0027 - accuracy: 0.0020\n",
            "Epoch 31/100\n",
            "8/8 [==============================] - 2s 223ms/step - loss: 0.0028 - accuracy: 0.0020\n",
            "Epoch 32/100\n",
            "8/8 [==============================] - 2s 223ms/step - loss: 0.0026 - accuracy: 0.0020\n",
            "Epoch 33/100\n",
            "8/8 [==============================] - 2s 222ms/step - loss: 0.0022 - accuracy: 0.0020\n",
            "Epoch 34/100\n",
            "8/8 [==============================] - 2s 228ms/step - loss: 0.0023 - accuracy: 0.0020\n",
            "Epoch 35/100\n",
            "8/8 [==============================] - 2s 224ms/step - loss: 0.0026 - accuracy: 0.0020\n",
            "Epoch 36/100\n",
            "8/8 [==============================] - 2s 222ms/step - loss: 0.0024 - accuracy: 0.0020\n",
            "Epoch 37/100\n",
            "8/8 [==============================] - 2s 221ms/step - loss: 0.0023 - accuracy: 0.0020\n",
            "Epoch 38/100\n",
            "8/8 [==============================] - 2s 222ms/step - loss: 0.0021 - accuracy: 0.0020\n",
            "Epoch 39/100\n",
            "8/8 [==============================] - 2s 221ms/step - loss: 0.0021 - accuracy: 0.0020\n",
            "Epoch 40/100\n",
            "8/8 [==============================] - 2s 223ms/step - loss: 0.0022 - accuracy: 0.0020\n",
            "Epoch 41/100\n",
            "8/8 [==============================] - 2s 223ms/step - loss: 0.0023 - accuracy: 0.0020\n",
            "Epoch 42/100\n",
            "8/8 [==============================] - 2s 219ms/step - loss: 0.0020 - accuracy: 0.0020\n",
            "Epoch 43/100\n",
            "8/8 [==============================] - 2s 226ms/step - loss: 0.0023 - accuracy: 0.0020\n",
            "Epoch 44/100\n",
            "8/8 [==============================] - 2s 226ms/step - loss: 0.0021 - accuracy: 0.0020\n",
            "Epoch 45/100\n",
            "8/8 [==============================] - 2s 220ms/step - loss: 0.0020 - accuracy: 0.0020\n",
            "Epoch 46/100\n",
            "8/8 [==============================] - 2s 225ms/step - loss: 0.0019 - accuracy: 0.0020\n",
            "Epoch 47/100\n",
            "8/8 [==============================] - 2s 226ms/step - loss: 0.0021 - accuracy: 0.0020\n",
            "Epoch 48/100\n",
            "8/8 [==============================] - 2s 224ms/step - loss: 0.0019 - accuracy: 0.0020\n",
            "Epoch 49/100\n",
            "8/8 [==============================] - 2s 225ms/step - loss: 0.0026 - accuracy: 0.0020\n",
            "Epoch 50/100\n",
            "8/8 [==============================] - 2s 224ms/step - loss: 0.0019 - accuracy: 0.0020\n",
            "Epoch 51/100\n",
            "8/8 [==============================] - 2s 222ms/step - loss: 0.0016 - accuracy: 0.0020\n",
            "Epoch 52/100\n",
            "8/8 [==============================] - 2s 224ms/step - loss: 0.0018 - accuracy: 0.0020\n",
            "Epoch 53/100\n",
            "8/8 [==============================] - 2s 223ms/step - loss: 0.0021 - accuracy: 0.0020\n",
            "Epoch 54/100\n",
            "8/8 [==============================] - 2s 222ms/step - loss: 0.0022 - accuracy: 0.0020\n",
            "Epoch 55/100\n",
            "8/8 [==============================] - 2s 223ms/step - loss: 0.0018 - accuracy: 0.0020\n",
            "Epoch 56/100\n",
            "8/8 [==============================] - 2s 222ms/step - loss: 0.0018 - accuracy: 0.0020\n",
            "Epoch 57/100\n",
            "8/8 [==============================] - 2s 221ms/step - loss: 0.0019 - accuracy: 0.0020\n",
            "Epoch 58/100\n",
            "8/8 [==============================] - 2s 220ms/step - loss: 0.0021 - accuracy: 0.0020\n",
            "Epoch 59/100\n",
            "8/8 [==============================] - 2s 222ms/step - loss: 0.0021 - accuracy: 0.0020\n",
            "Epoch 60/100\n",
            "8/8 [==============================] - 2s 229ms/step - loss: 0.0018 - accuracy: 0.0020\n",
            "Epoch 61/100\n",
            "8/8 [==============================] - 2s 231ms/step - loss: 0.0019 - accuracy: 0.0020\n",
            "Epoch 62/100\n",
            "8/8 [==============================] - 2s 227ms/step - loss: 0.0019 - accuracy: 0.0020\n",
            "Epoch 63/100\n",
            "8/8 [==============================] - 2s 222ms/step - loss: 0.0018 - accuracy: 0.0020\n",
            "Epoch 64/100\n",
            "8/8 [==============================] - 2s 225ms/step - loss: 0.0017 - accuracy: 0.0020\n",
            "Epoch 65/100\n",
            "8/8 [==============================] - 2s 222ms/step - loss: 0.0017 - accuracy: 0.0020\n",
            "Epoch 66/100\n",
            "8/8 [==============================] - 2s 227ms/step - loss: 0.0018 - accuracy: 0.0020\n",
            "Epoch 67/100\n",
            "8/8 [==============================] - 2s 223ms/step - loss: 0.0017 - accuracy: 0.0020\n",
            "Epoch 68/100\n",
            "8/8 [==============================] - 2s 225ms/step - loss: 0.0016 - accuracy: 0.0020\n",
            "Epoch 69/100\n",
            "8/8 [==============================] - 2s 227ms/step - loss: 0.0016 - accuracy: 0.0020\n",
            "Epoch 70/100\n",
            "8/8 [==============================] - 2s 226ms/step - loss: 0.0014 - accuracy: 0.0020\n",
            "Epoch 71/100\n",
            "8/8 [==============================] - 2s 222ms/step - loss: 0.0016 - accuracy: 0.0020\n",
            "Epoch 72/100\n",
            "8/8 [==============================] - 2s 222ms/step - loss: 0.0013 - accuracy: 0.0020\n",
            "Epoch 73/100\n",
            "8/8 [==============================] - 2s 226ms/step - loss: 0.0017 - accuracy: 0.0020\n",
            "Epoch 74/100\n",
            "8/8 [==============================] - 2s 225ms/step - loss: 0.0015 - accuracy: 0.0020\n",
            "Epoch 75/100\n",
            "8/8 [==============================] - 2s 223ms/step - loss: 0.0021 - accuracy: 0.0020\n",
            "Epoch 76/100\n",
            "8/8 [==============================] - 2s 225ms/step - loss: 0.0018 - accuracy: 0.0020\n",
            "Epoch 77/100\n",
            "8/8 [==============================] - 2s 224ms/step - loss: 0.0015 - accuracy: 0.0020\n",
            "Epoch 78/100\n",
            "8/8 [==============================] - 2s 223ms/step - loss: 0.0017 - accuracy: 0.0020\n",
            "Epoch 79/100\n",
            "8/8 [==============================] - 2s 223ms/step - loss: 0.0019 - accuracy: 0.0020\n",
            "Epoch 80/100\n",
            "8/8 [==============================] - 2s 224ms/step - loss: 0.0017 - accuracy: 0.0020\n",
            "Epoch 81/100\n",
            "8/8 [==============================] - 2s 223ms/step - loss: 0.0014 - accuracy: 0.0020\n",
            "Epoch 82/100\n",
            "8/8 [==============================] - 2s 224ms/step - loss: 0.0013 - accuracy: 0.0020\n",
            "Epoch 83/100\n",
            "8/8 [==============================] - 2s 227ms/step - loss: 0.0016 - accuracy: 0.0020\n",
            "Epoch 84/100\n",
            "8/8 [==============================] - 2s 227ms/step - loss: 0.0013 - accuracy: 0.0020\n",
            "Epoch 85/100\n",
            "8/8 [==============================] - 2s 224ms/step - loss: 0.0014 - accuracy: 0.0020\n",
            "Epoch 86/100\n",
            "8/8 [==============================] - 2s 229ms/step - loss: 0.0014 - accuracy: 0.0020\n",
            "Epoch 87/100\n",
            "8/8 [==============================] - 2s 223ms/step - loss: 0.0013 - accuracy: 0.0020\n",
            "Epoch 88/100\n",
            "8/8 [==============================] - 2s 223ms/step - loss: 0.0012 - accuracy: 0.0020\n",
            "Epoch 89/100\n",
            "8/8 [==============================] - 2s 224ms/step - loss: 0.0013 - accuracy: 0.0020\n",
            "Epoch 90/100\n",
            "8/8 [==============================] - 2s 224ms/step - loss: 0.0014 - accuracy: 0.0020\n",
            "Epoch 91/100\n",
            "8/8 [==============================] - 2s 227ms/step - loss: 0.0014 - accuracy: 0.0020\n",
            "Epoch 92/100\n",
            "8/8 [==============================] - 2s 234ms/step - loss: 0.0013 - accuracy: 0.0020\n",
            "Epoch 93/100\n",
            "8/8 [==============================] - 2s 226ms/step - loss: 0.0011 - accuracy: 0.0020\n",
            "Epoch 94/100\n",
            "8/8 [==============================] - 2s 224ms/step - loss: 0.0011 - accuracy: 0.0020\n",
            "Epoch 95/100\n",
            "8/8 [==============================] - 2s 226ms/step - loss: 0.0012 - accuracy: 0.0020\n",
            "Epoch 96/100\n",
            "8/8 [==============================] - 2s 226ms/step - loss: 0.0011 - accuracy: 0.0020\n",
            "Epoch 97/100\n",
            "8/8 [==============================] - 2s 232ms/step - loss: 0.0014 - accuracy: 0.0020\n",
            "Epoch 98/100\n",
            "8/8 [==============================] - 2s 223ms/step - loss: 0.0011 - accuracy: 0.0020\n",
            "Epoch 99/100\n",
            "8/8 [==============================] - 2s 223ms/step - loss: 0.0012 - accuracy: 0.0020\n",
            "Epoch 100/100\n",
            "8/8 [==============================] - 2s 226ms/step - loss: 0.0012 - accuracy: 0.0020\n"
          ]
        },
        {
          "output_type": "execute_result",
          "data": {
            "text/plain": [
              "<keras.callbacks.History at 0x7f34724fe350>"
            ]
          },
          "metadata": {},
          "execution_count": 17
        }
      ]
    },
    {
      "cell_type": "code",
      "source": [
        "eth_b_adjclose=eth_b.iloc[:, 6:7].values\n",
        "eth_b_adjclose.shape"
      ],
      "metadata": {
        "id": "ZeVLAuXrCR1h",
        "colab": {
          "base_uri": "https://localhost:8080/"
        },
        "outputId": "50190d68-de29-416d-a006-c6f8728f3ad3"
      },
      "execution_count": null,
      "outputs": [
        {
          "output_type": "execute_result",
          "data": {
            "text/plain": [
              "(456, 1)"
            ]
          },
          "metadata": {},
          "execution_count": 18
        }
      ]
    },
    {
      "cell_type": "code",
      "source": [
        "eth_total = pd.concat((eth_a['Adj Close'], eth_b['Adj Close']), axis = 0)\n",
        "inputs = eth_total[len(eth_total) - len(eth_b) - 60:].values\n",
        "inputs = inputs.reshape(-1,1)\n",
        "inputs = scaler.transform(inputs) # Feature Scaling\n",
        "\n",
        "x_test = []\n",
        "for i in range(60, 60+len(eth_b_adjclose)):  # timesteps一樣60； 456 = 先前的60天資料+396天資料\n",
        "    x_test.append(inputs[i-60:i, 0])\n",
        "x_test = np.array(x_test)\n",
        "x_test = np.reshape(x_test, (x_test.shape[0], x_test.shape[1], 1))  # Reshape 成 3-dimension"
      ],
      "metadata": {
        "id": "XN1wLlZUCq0t"
      },
      "execution_count": null,
      "outputs": []
    },
    {
      "cell_type": "code",
      "source": [
        "predicted_eth_price = network.predict(x_test)\n",
        "predicted_eth_price = scaler.inverse_transform(predicted_eth_price)  # to get the original scale\n",
        "predicted_eth_price.shape"
      ],
      "metadata": {
        "colab": {
          "base_uri": "https://localhost:8080/"
        },
        "id": "_cflhZvLDP86",
        "outputId": "435855a5-944a-428b-a587-6c44391b6a33"
      },
      "execution_count": null,
      "outputs": [
        {
          "output_type": "execute_result",
          "data": {
            "text/plain": [
              "(456, 1)"
            ]
          },
          "metadata": {},
          "execution_count": 20
        }
      ]
    },
    {
      "cell_type": "code",
      "source": [
        "plt.figure(figsize = (12, 7))\n",
        "plt.plot(eth_b_adjclose, color = 'red', label = 'Real ETH Price')  # 紅線表示真實股價\n",
        "plt.plot(predicted_eth_price, color = 'blue', label = 'Predicted ETH Price')  # 藍線表示預測股價\n",
        "plt.title('ETH Prediction')\n",
        "plt.xlabel('Time')\n",
        "plt.ylabel('USD')\n",
        "plt.legend()\n",
        "plt.show()"
      ],
      "metadata": {
        "colab": {
          "base_uri": "https://localhost:8080/",
          "height": 458
        },
        "id": "T8bioaW7DXYE",
        "outputId": "fdcb4839-a1b7-4c64-f1bb-b9b861036c1f"
      },
      "execution_count": null,
      "outputs": [
        {
          "output_type": "display_data",
          "data": {
            "image/png": "[encoded data removed]",
            "text/plain": [
              "<Figure size 864x504 with 1 Axes>"
            ]
          },
          "metadata": {
            "needs_background": "light"
          }
        }
      ]
    }
  ]
}