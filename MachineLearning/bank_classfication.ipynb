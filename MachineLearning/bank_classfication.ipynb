{
  "nbformat": 4,
  "nbformat_minor": 0,
  "metadata": {
    "colab": {
      "name": "bank_classfication.ipynb",
      "provenance": [],
      "collapsed_sections": [
        "yQMyv_gFgwYn",
        "oa3T4HPuHBUd",
        "btr6WK5Ke0Hv",
        "GQjk3E8yQQ1c",
        "qMTJjJ_JQjA4"
      ],
      "include_colab_link": true
    },
    "kernelspec": {
      "name": "python3",
      "display_name": "Python 3"
    },
    "language_info": {
      "name": "python"
    }
  },
  "cells": [
    {
      "cell_type": "markdown",
      "metadata": {
        "id": "view-in-github",
        "colab_type": "text"
      },
      "source": [
        "<a href=\"https://colab.research.google.com/github/GuoZhuyin/zhuyinasia/blob/main/MachineLearning/bank_classfication.ipynb\" target=\"_parent\"><img src=\"https://colab.research.google.com/assets/colab-badge.svg\" alt=\"Open In Colab\"/></a>"
      ]
    },
    {
      "cell_type": "markdown",
      "source": [
        "# Bank Marketing\n",
        "目標：想知道哪些特徵及模型能精準預測客戶是否接受銀行定存行銷('y')\n",
        "\n",
        "資料來源：[UCI Machine Learning Repository: Bank Marketing Data Set\n",
        "](https://archive.ics.uci.edu/ml/datasets/Bank+Marketing)\n",
        "\n",
        "並且已試先將資料中的;透過notepad++全部取代為,\n",
        "\n",
        "bank-additional.csv 為事先隨機挑好的訓練集，為bank-additional-full.csv的占比10%\n",
        "\n",
        "bank-additional-full.csv 為全部銀行行銷定存資料\n",
        "\n",
        "過程中有嘗試其他方式得出不同的精確率，不過最後決定將訓練及測試集的'month','day_of_week','campaign','poutcome','euribor3m','nr.employed'特徵丟掉\n",
        "\n",
        "接著對前面七個特徵特別進行資料視覺化，讓我們更加清楚特徵\n",
        "\n",
        "而預處理採用的方式為LabelEncoder( ),對非數值型資料進行預處理,其他原本為數值的資料則不進行處理\n",
        "\n",
        "此次採用的模型有LogisticRegression、SVC、KNeighborsClassifier、RandomForestClassifier\n",
        "\n",
        "最後計算所有常見的混淆矩陣評估指標\n",
        "\n",
        "將數值畫成表格後，可以發現以此次的資料進行訓練時，似乎以RandomForestClassifier表現最好，想必未來如果有相關的行銷資料要進行分類預測，都能優先採用RandomForestClassifier進行型訓練"
      ],
      "metadata": {
        "id": "tvQpwfKDF-2O"
      }
    },
    {
      "cell_type": "code",
      "source": [
        "import numpy as np\n",
        "import pandas as pd\n",
        "import matplotlib.pyplot as plt #資料視覺化\n",
        "import seaborn as sns #資料視覺化\n",
        "import os\n",
        "from sklearn.preprocessing import LabelEncoder\n",
        "from sklearn.model_selection import cross_val_score\n",
        "from sklearn.metrics import confusion_matrix, accuracy_score\n",
        "%matplotlib inline\n",
        "import warnings\n",
        "warnings.filterwarnings('ignore')"
      ],
      "metadata": {
        "id": "nY_sWyN40uSA"
      },
      "execution_count": null,
      "outputs": []
    },
    {
      "cell_type": "code",
      "source": [
        "from google.colab import drive\n",
        "drive.mount('/content/drive' , force_remount=True) #掛載Google雲端\n",
        "data_dir='/content/drive/MyDrive/亞洲大學/大三/機器學習/final_project'\n",
        "os.chdir(data_dir) #cd檔案位置"
      ],
      "metadata": {
        "colab": {
          "base_uri": "https://localhost:8080/"
        },
        "id": "gpANOqOxz_pU",
        "outputId": "829ce45f-f4b6-44d9-ced6-27de88187e58"
      },
      "execution_count": null,
      "outputs": [
        {
          "output_type": "stream",
          "name": "stdout",
          "text": [
            "Mounted at /content/drive\n"
          ]
        }
      ]
    },
    {
      "cell_type": "code",
      "source": [
        "! pwd"
      ],
      "metadata": {
        "colab": {
          "base_uri": "https://localhost:8080/"
        },
        "id": "Gd8OsBPu1Br2",
        "outputId": "dbe1a1d6-5250-4c1b-83b9-3136560084a5"
      },
      "execution_count": null,
      "outputs": [
        {
          "output_type": "stream",
          "name": "stdout",
          "text": [
            "/content/drive/MyDrive/亞洲大學/大三/機器學習/final_project\n"
          ]
        }
      ]
    },
    {
      "cell_type": "code",
      "source": [
        "! ls -la #查看資料夾檔案及權限"
      ],
      "metadata": {
        "colab": {
          "base_uri": "https://localhost:8080/"
        },
        "id": "hvpl4W6R1IZC",
        "outputId": "d61fae73-8962-4541-f7e2-9da218ed13b1"
      },
      "execution_count": null,
      "outputs": [
        {
          "output_type": "stream",
          "name": "stdout",
          "text": [
            "total 6270\n",
            "-rw------- 1 root root  583898 May  8 13:49 bank-additional.csv\n",
            "-rw------- 1 root root 5834924 Oct  1  2019 bank-additional-full.csv\n",
            "-rw------- 1 root root     679 May  8 13:49 feature_explain.csv\n"
          ]
        }
      ]
    },
    {
      "cell_type": "code",
      "source": [
        "bank_feature = pd.read_csv( 'feature_explain.csv' ) #對特徵進行解釋\n",
        "bank_feature"
      ],
      "metadata": {
        "colab": {
          "base_uri": "https://localhost:8080/",
          "height": 203
        },
        "id": "jnSoAAJE1Qg2",
        "outputId": "256702b0-5ca0-41e8-a42b-7c10e377d4a1"
      },
      "execution_count": null,
      "outputs": [
        {
          "output_type": "execute_result",
          "data": {
            "text/plain": [
              "   age  job marital education default housing    loan contact month  \\\n",
              "0   年齡   工作      婚姻        教育  有無信用分數    有無房貸  有無個人借貸    聯絡方式     月   \n",
              "1  NaN  NaN     NaN       NaN     NaN     NaN     NaN     NaN   NaN   \n",
              "\n",
              "  day_of_week  ... campaign            pdays     previous  \\\n",
              "0          星期  ...     聯繫次數  在此之前距離上次聯繫客戶的天數  在此之前與客戶聯繫次數   \n",
              "1         NaN  ...      NaN              NaN          NaN   \n",
              "\n",
              "                            poutcome emp.var.rate cons.price.idx  \\\n",
              "0                             上次行銷結果       就業季度指數      月度消費者價格指數   \n",
              "1  \"failure\",\"nonexistent\",\"success\"          NaN            NaN   \n",
              "\n",
              "  cons.conf.idx  euribor3m nr.employed     y  \n",
              "0     月度消費者信心指數  Euribor指數      雇員季度指數  是否定存  \n",
              "1           NaN        NaN         NaN   NaN  \n",
              "\n",
              "[2 rows x 21 columns]"
            ],
            "text/html": [
              "\n",
              "  <div id=\"df-e0d291b6-a3dd-40b8-a19e-85a6de02b5e1\">\n",
              "    <div class=\"colab-df-container\">\n",
              "      <div>\n",
              "<style scoped>\n",
              "    .dataframe tbody tr th:only-of-type {\n",
              "        vertical-align: middle;\n",
              "    }\n",
              "\n",
              "    .dataframe tbody tr th {\n",
              "        vertical-align: top;\n",
              "    }\n",
              "\n",
              "    .dataframe thead th {\n",
              "        text-align: right;\n",
              "    }\n",
              "</style>\n",
              "<table border=\"1\" class=\"dataframe\">\n",
              "  <thead>\n",
              "    <tr style=\"text-align: right;\">\n",
              "      <th></th>\n",
              "      <th>age</th>\n",
              "      <th>job</th>\n",
              "      <th>marital</th>\n",
              "      <th>education</th>\n",
              "      <th>default</th>\n",
              "      <th>housing</th>\n",
              "      <th>loan</th>\n",
              "      <th>contact</th>\n",
              "      <th>month</th>\n",
              "      <th>day_of_week</th>\n",
              "      <th>...</th>\n",
              "      <th>campaign</th>\n",
              "      <th>pdays</th>\n",
              "      <th>previous</th>\n",
              "      <th>poutcome</th>\n",
              "      <th>emp.var.rate</th>\n",
              "      <th>cons.price.idx</th>\n",
              "      <th>cons.conf.idx</th>\n",
              "      <th>euribor3m</th>\n",
              "      <th>nr.employed</th>\n",
              "      <th>y</th>\n",
              "    </tr>\n",
              "  </thead>\n",
              "  <tbody>\n",
              "    <tr>\n",
              "      <th>0</th>\n",
              "      <td>年齡</td>\n",
              "      <td>工作</td>\n",
              "      <td>婚姻</td>\n",
              "      <td>教育</td>\n",
              "      <td>有無信用分數</td>\n",
              "      <td>有無房貸</td>\n",
              "      <td>有無個人借貸</td>\n",
              "      <td>聯絡方式</td>\n",
              "      <td>月</td>\n",
              "      <td>星期</td>\n",
              "      <td>...</td>\n",
              "      <td>聯繫次數</td>\n",
              "      <td>在此之前距離上次聯繫客戶的天數</td>\n",
              "      <td>在此之前與客戶聯繫次數</td>\n",
              "      <td>上次行銷結果</td>\n",
              "      <td>就業季度指數</td>\n",
              "      <td>月度消費者價格指數</td>\n",
              "      <td>月度消費者信心指數</td>\n",
              "      <td>Euribor指數</td>\n",
              "      <td>雇員季度指數</td>\n",
              "      <td>是否定存</td>\n",
              "    </tr>\n",
              "    <tr>\n",
              "      <th>1</th>\n",
              "      <td>NaN</td>\n",
              "      <td>NaN</td>\n",
              "      <td>NaN</td>\n",
              "      <td>NaN</td>\n",
              "      <td>NaN</td>\n",
              "      <td>NaN</td>\n",
              "      <td>NaN</td>\n",
              "      <td>NaN</td>\n",
              "      <td>NaN</td>\n",
              "      <td>NaN</td>\n",
              "      <td>...</td>\n",
              "      <td>NaN</td>\n",
              "      <td>NaN</td>\n",
              "      <td>NaN</td>\n",
              "      <td>\"failure\",\"nonexistent\",\"success\"</td>\n",
              "      <td>NaN</td>\n",
              "      <td>NaN</td>\n",
              "      <td>NaN</td>\n",
              "      <td>NaN</td>\n",
              "      <td>NaN</td>\n",
              "      <td>NaN</td>\n",
              "    </tr>\n",
              "  </tbody>\n",
              "</table>\n",
              "<p>2 rows × 21 columns</p>\n",
              "</div>\n",
              "      <button class=\"colab-df-convert\" onclick=\"convertToInteractive('df-e0d291b6-a3dd-40b8-a19e-85a6de02b5e1')\"\n",
              "              title=\"Convert this dataframe to an interactive table.\"\n",
              "              style=\"display:none;\">\n",
              "        \n",
              "  <svg xmlns=\"http://www.w3.org/2000/svg\" height=\"24px\"viewBox=\"0 0 24 24\"\n",
              "       width=\"24px\">\n",
              "    <path d=\"M0 0h24v24H0V0z\" fill=\"none\"/>\n",
              "    <path d=\"M18.56 5.44l.94 2.06.94-2.06 2.06-.94-2.06-.94-.94-2.06-.94 2.06-2.06.94zm-11 1L8.5 8.5l.94-2.06 2.06-.94-2.06-.94L8.5 2.5l-.94 2.06-2.06.94zm10 10l.94 2.06.94-2.06 2.06-.94-2.06-.94-.94-2.06-.94 2.06-2.06.94z\"/><path d=\"M17.41 7.96l-1.37-1.37c-.4-.4-.92-.59-1.43-.59-.52 0-1.04.2-1.43.59L10.3 9.45l-7.72 7.72c-.78.78-.78 2.05 0 2.83L4 21.41c.39.39.9.59 1.41.59.51 0 1.02-.2 1.41-.59l7.78-7.78 2.81-2.81c.8-.78.8-2.07 0-2.86zM5.41 20L4 18.59l7.72-7.72 1.47 1.35L5.41 20z\"/>\n",
              "  </svg>\n",
              "      </button>\n",
              "      \n",
              "  <style>\n",
              "    .colab-df-container {\n",
              "      display:flex;\n",
              "      flex-wrap:wrap;\n",
              "      gap: 12px;\n",
              "    }\n",
              "\n",
              "    .colab-df-convert {\n",
              "      background-color: #E8F0FE;\n",
              "      border: none;\n",
              "      border-radius: 50%;\n",
              "      cursor: pointer;\n",
              "      display: none;\n",
              "      fill: #1967D2;\n",
              "      height: 32px;\n",
              "      padding: 0 0 0 0;\n",
              "      width: 32px;\n",
              "    }\n",
              "\n",
              "    .colab-df-convert:hover {\n",
              "      background-color: #E2EBFA;\n",
              "      box-shadow: 0px 1px 2px rgba(60, 64, 67, 0.3), 0px 1px 3px 1px rgba(60, 64, 67, 0.15);\n",
              "      fill: #174EA6;\n",
              "    }\n",
              "\n",
              "    [theme=dark] .colab-df-convert {\n",
              "      background-color: #3B4455;\n",
              "      fill: #D2E3FC;\n",
              "    }\n",
              "\n",
              "    [theme=dark] .colab-df-convert:hover {\n",
              "      background-color: #434B5C;\n",
              "      box-shadow: 0px 1px 3px 1px rgba(0, 0, 0, 0.15);\n",
              "      filter: drop-shadow(0px 1px 2px rgba(0, 0, 0, 0.3));\n",
              "      fill: #FFFFFF;\n",
              "    }\n",
              "  </style>\n",
              "\n",
              "      <script>\n",
              "        const buttonEl =\n",
              "          document.querySelector('#df-e0d291b6-a3dd-40b8-a19e-85a6de02b5e1 button.colab-df-convert');\n",
              "        buttonEl.style.display =\n",
              "          google.colab.kernel.accessAllowed ? 'block' : 'none';\n",
              "\n",
              "        async function convertToInteractive(key) {\n",
              "          const element = document.querySelector('#df-e0d291b6-a3dd-40b8-a19e-85a6de02b5e1');\n",
              "          const dataTable =\n",
              "            await google.colab.kernel.invokeFunction('convertToInteractive',\n",
              "                                                     [key], {});\n",
              "          if (!dataTable) return;\n",
              "\n",
              "          const docLinkHtml = 'Like what you see? Visit the ' +\n",
              "            '<a target=\"_blank\" href=https://colab.research.google.com/notebooks/data_table.ipynb>data table notebook</a>'\n",
              "            + ' to learn more about interactive tables.';\n",
              "          element.innerHTML = '';\n",
              "          dataTable['output_type'] = 'display_data';\n",
              "          await google.colab.output.renderOutput(dataTable, element);\n",
              "          const docLink = document.createElement('div');\n",
              "          docLink.innerHTML = docLinkHtml;\n",
              "          element.appendChild(docLink);\n",
              "        }\n",
              "      </script>\n",
              "    </div>\n",
              "  </div>\n",
              "  "
            ]
          },
          "metadata": {},
          "execution_count": 5
        }
      ]
    },
    {
      "cell_type": "code",
      "source": [
        "# bank_y= pd.read_csv('bank-additional.csv').iloc[: , 20]\n",
        "# bank_all_y = pd.read_csv('bank-additional-full.csv').iloc[: , 20] #抓取y的結果\n",
        "# #bank_y\n",
        "# #bank_all_y"
      ],
      "metadata": {
        "id": "aWxrNXD1B3Sa"
      },
      "execution_count": null,
      "outputs": []
    },
    {
      "cell_type": "code",
      "source": [
        "bank = pd.read_csv('bank-additional.csv').drop(columns=['month','day_of_week','campaign','poutcome','euribor3m','nr.employed'])\n",
        "bank\n",
        "#事先丟掉不想要的特徵\n",
        "#'age','job','marital','education','default','housing','loan','contact','month','day_of_week','duration','campaign','pdays','previous','poutcome','emp.var.rate','cons.price.idx','cons.conf.idx','euribor3m','nr.employed'"
      ],
      "metadata": {
        "id": "3aCL0Ipx2NyW",
        "colab": {
          "base_uri": "https://localhost:8080/",
          "height": 468
        },
        "outputId": "b8a29db8-8b32-4f7e-88bd-58b7aa13d0af"
      },
      "execution_count": null,
      "outputs": [
        {
          "output_type": "execute_result",
          "data": {
            "text/plain": [
              "      age          job  marital          education default  housing     loan  \\\n",
              "0      30  blue-collar  married           basic.9y      no      yes       no   \n",
              "1      39     services   single        high.school      no       no       no   \n",
              "2      25     services  married        high.school      no      yes       no   \n",
              "3      38     services  married           basic.9y      no  unknown  unknown   \n",
              "4      47       admin.  married  university.degree      no      yes       no   \n",
              "...   ...          ...      ...                ...     ...      ...      ...   \n",
              "4114   30       admin.  married           basic.6y      no      yes      yes   \n",
              "4115   39       admin.  married        high.school      no      yes       no   \n",
              "4116   27      student   single        high.school      no       no       no   \n",
              "4117   58       admin.  married        high.school      no       no       no   \n",
              "4118   34   management   single        high.school      no      yes       no   \n",
              "\n",
              "        contact  duration  pdays  previous  emp.var.rate  cons.price.idx  \\\n",
              "0      cellular       487    999         0          -1.8          92.893   \n",
              "1     telephone       346    999         0           1.1          93.994   \n",
              "2     telephone       227    999         0           1.4          94.465   \n",
              "3     telephone        17    999         0           1.4          94.465   \n",
              "4      cellular        58    999         0          -0.1          93.200   \n",
              "...         ...       ...    ...       ...           ...             ...   \n",
              "4114   cellular        53    999         0           1.4          93.918   \n",
              "4115  telephone       219    999         0           1.4          93.918   \n",
              "4116   cellular        64    999         1          -1.8          92.893   \n",
              "4117   cellular       528    999         0           1.4          93.444   \n",
              "4118   cellular       175    999         0          -0.1          93.200   \n",
              "\n",
              "      cons.conf.idx   y  \n",
              "0             -46.2  no  \n",
              "1             -36.4  no  \n",
              "2             -41.8  no  \n",
              "3             -41.8  no  \n",
              "4             -42.0  no  \n",
              "...             ...  ..  \n",
              "4114          -42.7  no  \n",
              "4115          -42.7  no  \n",
              "4116          -46.2  no  \n",
              "4117          -36.1  no  \n",
              "4118          -42.0  no  \n",
              "\n",
              "[4119 rows x 15 columns]"
            ],
            "text/html": [
              "\n",
              "  <div id=\"df-39d05d75-9ccb-430e-a35a-fabe0d5d7235\">\n",
              "    <div class=\"colab-df-container\">\n",
              "      <div>\n",
              "<style scoped>\n",
              "    .dataframe tbody tr th:only-of-type {\n",
              "        vertical-align: middle;\n",
              "    }\n",
              "\n",
              "    .dataframe tbody tr th {\n",
              "        vertical-align: top;\n",
              "    }\n",
              "\n",
              "    .dataframe thead th {\n",
              "        text-align: right;\n",
              "    }\n",
              "</style>\n",
              "<table border=\"1\" class=\"dataframe\">\n",
              "  <thead>\n",
              "    <tr style=\"text-align: right;\">\n",
              "      <th></th>\n",
              "      <th>age</th>\n",
              "      <th>job</th>\n",
              "      <th>marital</th>\n",
              "      <th>education</th>\n",
              "      <th>default</th>\n",
              "      <th>housing</th>\n",
              "      <th>loan</th>\n",
              "      <th>contact</th>\n",
              "      <th>duration</th>\n",
              "      <th>pdays</th>\n",
              "      <th>previous</th>\n",
              "      <th>emp.var.rate</th>\n",
              "      <th>cons.price.idx</th>\n",
              "      <th>cons.conf.idx</th>\n",
              "      <th>y</th>\n",
              "    </tr>\n",
              "  </thead>\n",
              "  <tbody>\n",
              "    <tr>\n",
              "      <th>0</th>\n",
              "      <td>30</td>\n",
              "      <td>blue-collar</td>\n",
              "      <td>married</td>\n",
              "      <td>basic.9y</td>\n",
              "      <td>no</td>\n",
              "      <td>yes</td>\n",
              "      <td>no</td>\n",
              "      <td>cellular</td>\n",
              "      <td>487</td>\n",
              "      <td>999</td>\n",
              "      <td>0</td>\n",
              "      <td>-1.8</td>\n",
              "      <td>92.893</td>\n",
              "      <td>-46.2</td>\n",
              "      <td>no</td>\n",
              "    </tr>\n",
              "    <tr>\n",
              "      <th>1</th>\n",
              "      <td>39</td>\n",
              "      <td>services</td>\n",
              "      <td>single</td>\n",
              "      <td>high.school</td>\n",
              "      <td>no</td>\n",
              "      <td>no</td>\n",
              "      <td>no</td>\n",
              "      <td>telephone</td>\n",
              "      <td>346</td>\n",
              "      <td>999</td>\n",
              "      <td>0</td>\n",
              "      <td>1.1</td>\n",
              "      <td>93.994</td>\n",
              "      <td>-36.4</td>\n",
              "      <td>no</td>\n",
              "    </tr>\n",
              "    <tr>\n",
              "      <th>2</th>\n",
              "      <td>25</td>\n",
              "      <td>services</td>\n",
              "      <td>married</td>\n",
              "      <td>high.school</td>\n",
              "      <td>no</td>\n",
              "      <td>yes</td>\n",
              "      <td>no</td>\n",
              "      <td>telephone</td>\n",
              "      <td>227</td>\n",
              "      <td>999</td>\n",
              "      <td>0</td>\n",
              "      <td>1.4</td>\n",
              "      <td>94.465</td>\n",
              "      <td>-41.8</td>\n",
              "      <td>no</td>\n",
              "    </tr>\n",
              "    <tr>\n",
              "      <th>3</th>\n",
              "      <td>38</td>\n",
              "      <td>services</td>\n",
              "      <td>married</td>\n",
              "      <td>basic.9y</td>\n",
              "      <td>no</td>\n",
              "      <td>unknown</td>\n",
              "      <td>unknown</td>\n",
              "      <td>telephone</td>\n",
              "      <td>17</td>\n",
              "      <td>999</td>\n",
              "      <td>0</td>\n",
              "      <td>1.4</td>\n",
              "      <td>94.465</td>\n",
              "      <td>-41.8</td>\n",
              "      <td>no</td>\n",
              "    </tr>\n",
              "    <tr>\n",
              "      <th>4</th>\n",
              "      <td>47</td>\n",
              "      <td>admin.</td>\n",
              "      <td>married</td>\n",
              "      <td>university.degree</td>\n",
              "      <td>no</td>\n",
              "      <td>yes</td>\n",
              "      <td>no</td>\n",
              "      <td>cellular</td>\n",
              "      <td>58</td>\n",
              "      <td>999</td>\n",
              "      <td>0</td>\n",
              "      <td>-0.1</td>\n",
              "      <td>93.200</td>\n",
              "      <td>-42.0</td>\n",
              "      <td>no</td>\n",
              "    </tr>\n",
              "    <tr>\n",
              "      <th>...</th>\n",
              "      <td>...</td>\n",
              "      <td>...</td>\n",
              "      <td>...</td>\n",
              "      <td>...</td>\n",
              "      <td>...</td>\n",
              "      <td>...</td>\n",
              "      <td>...</td>\n",
              "      <td>...</td>\n",
              "      <td>...</td>\n",
              "      <td>...</td>\n",
              "      <td>...</td>\n",
              "      <td>...</td>\n",
              "      <td>...</td>\n",
              "      <td>...</td>\n",
              "      <td>...</td>\n",
              "    </tr>\n",
              "    <tr>\n",
              "      <th>4114</th>\n",
              "      <td>30</td>\n",
              "      <td>admin.</td>\n",
              "      <td>married</td>\n",
              "      <td>basic.6y</td>\n",
              "      <td>no</td>\n",
              "      <td>yes</td>\n",
              "      <td>yes</td>\n",
              "      <td>cellular</td>\n",
              "      <td>53</td>\n",
              "      <td>999</td>\n",
              "      <td>0</td>\n",
              "      <td>1.4</td>\n",
              "      <td>93.918</td>\n",
              "      <td>-42.7</td>\n",
              "      <td>no</td>\n",
              "    </tr>\n",
              "    <tr>\n",
              "      <th>4115</th>\n",
              "      <td>39</td>\n",
              "      <td>admin.</td>\n",
              "      <td>married</td>\n",
              "      <td>high.school</td>\n",
              "      <td>no</td>\n",
              "      <td>yes</td>\n",
              "      <td>no</td>\n",
              "      <td>telephone</td>\n",
              "      <td>219</td>\n",
              "      <td>999</td>\n",
              "      <td>0</td>\n",
              "      <td>1.4</td>\n",
              "      <td>93.918</td>\n",
              "      <td>-42.7</td>\n",
              "      <td>no</td>\n",
              "    </tr>\n",
              "    <tr>\n",
              "      <th>4116</th>\n",
              "      <td>27</td>\n",
              "      <td>student</td>\n",
              "      <td>single</td>\n",
              "      <td>high.school</td>\n",
              "      <td>no</td>\n",
              "      <td>no</td>\n",
              "      <td>no</td>\n",
              "      <td>cellular</td>\n",
              "      <td>64</td>\n",
              "      <td>999</td>\n",
              "      <td>1</td>\n",
              "      <td>-1.8</td>\n",
              "      <td>92.893</td>\n",
              "      <td>-46.2</td>\n",
              "      <td>no</td>\n",
              "    </tr>\n",
              "    <tr>\n",
              "      <th>4117</th>\n",
              "      <td>58</td>\n",
              "      <td>admin.</td>\n",
              "      <td>married</td>\n",
              "      <td>high.school</td>\n",
              "      <td>no</td>\n",
              "      <td>no</td>\n",
              "      <td>no</td>\n",
              "      <td>cellular</td>\n",
              "      <td>528</td>\n",
              "      <td>999</td>\n",
              "      <td>0</td>\n",
              "      <td>1.4</td>\n",
              "      <td>93.444</td>\n",
              "      <td>-36.1</td>\n",
              "      <td>no</td>\n",
              "    </tr>\n",
              "    <tr>\n",
              "      <th>4118</th>\n",
              "      <td>34</td>\n",
              "      <td>management</td>\n",
              "      <td>single</td>\n",
              "      <td>high.school</td>\n",
              "      <td>no</td>\n",
              "      <td>yes</td>\n",
              "      <td>no</td>\n",
              "      <td>cellular</td>\n",
              "      <td>175</td>\n",
              "      <td>999</td>\n",
              "      <td>0</td>\n",
              "      <td>-0.1</td>\n",
              "      <td>93.200</td>\n",
              "      <td>-42.0</td>\n",
              "      <td>no</td>\n",
              "    </tr>\n",
              "  </tbody>\n",
              "</table>\n",
              "<p>4119 rows × 15 columns</p>\n",
              "</div>\n",
              "      <button class=\"colab-df-convert\" onclick=\"convertToInteractive('df-39d05d75-9ccb-430e-a35a-fabe0d5d7235')\"\n",
              "              title=\"Convert this dataframe to an interactive table.\"\n",
              "              style=\"display:none;\">\n",
              "        \n",
              "  <svg xmlns=\"http://www.w3.org/2000/svg\" height=\"24px\"viewBox=\"0 0 24 24\"\n",
              "       width=\"24px\">\n",
              "    <path d=\"M0 0h24v24H0V0z\" fill=\"none\"/>\n",
              "    <path d=\"M18.56 5.44l.94 2.06.94-2.06 2.06-.94-2.06-.94-.94-2.06-.94 2.06-2.06.94zm-11 1L8.5 8.5l.94-2.06 2.06-.94-2.06-.94L8.5 2.5l-.94 2.06-2.06.94zm10 10l.94 2.06.94-2.06 2.06-.94-2.06-.94-.94-2.06-.94 2.06-2.06.94z\"/><path d=\"M17.41 7.96l-1.37-1.37c-.4-.4-.92-.59-1.43-.59-.52 0-1.04.2-1.43.59L10.3 9.45l-7.72 7.72c-.78.78-.78 2.05 0 2.83L4 21.41c.39.39.9.59 1.41.59.51 0 1.02-.2 1.41-.59l7.78-7.78 2.81-2.81c.8-.78.8-2.07 0-2.86zM5.41 20L4 18.59l7.72-7.72 1.47 1.35L5.41 20z\"/>\n",
              "  </svg>\n",
              "      </button>\n",
              "      \n",
              "  <style>\n",
              "    .colab-df-container {\n",
              "      display:flex;\n",
              "      flex-wrap:wrap;\n",
              "      gap: 12px;\n",
              "    }\n",
              "\n",
              "    .colab-df-convert {\n",
              "      background-color: #E8F0FE;\n",
              "      border: none;\n",
              "      border-radius: 50%;\n",
              "      cursor: pointer;\n",
              "      display: none;\n",
              "      fill: #1967D2;\n",
              "      height: 32px;\n",
              "      padding: 0 0 0 0;\n",
              "      width: 32px;\n",
              "    }\n",
              "\n",
              "    .colab-df-convert:hover {\n",
              "      background-color: #E2EBFA;\n",
              "      box-shadow: 0px 1px 2px rgba(60, 64, 67, 0.3), 0px 1px 3px 1px rgba(60, 64, 67, 0.15);\n",
              "      fill: #174EA6;\n",
              "    }\n",
              "\n",
              "    [theme=dark] .colab-df-convert {\n",
              "      background-color: #3B4455;\n",
              "      fill: #D2E3FC;\n",
              "    }\n",
              "\n",
              "    [theme=dark] .colab-df-convert:hover {\n",
              "      background-color: #434B5C;\n",
              "      box-shadow: 0px 1px 3px 1px rgba(0, 0, 0, 0.15);\n",
              "      filter: drop-shadow(0px 1px 2px rgba(0, 0, 0, 0.3));\n",
              "      fill: #FFFFFF;\n",
              "    }\n",
              "  </style>\n",
              "\n",
              "      <script>\n",
              "        const buttonEl =\n",
              "          document.querySelector('#df-39d05d75-9ccb-430e-a35a-fabe0d5d7235 button.colab-df-convert');\n",
              "        buttonEl.style.display =\n",
              "          google.colab.kernel.accessAllowed ? 'block' : 'none';\n",
              "\n",
              "        async function convertToInteractive(key) {\n",
              "          const element = document.querySelector('#df-39d05d75-9ccb-430e-a35a-fabe0d5d7235');\n",
              "          const dataTable =\n",
              "            await google.colab.kernel.invokeFunction('convertToInteractive',\n",
              "                                                     [key], {});\n",
              "          if (!dataTable) return;\n",
              "\n",
              "          const docLinkHtml = 'Like what you see? Visit the ' +\n",
              "            '<a target=\"_blank\" href=https://colab.research.google.com/notebooks/data_table.ipynb>data table notebook</a>'\n",
              "            + ' to learn more about interactive tables.';\n",
              "          element.innerHTML = '';\n",
              "          dataTable['output_type'] = 'display_data';\n",
              "          await google.colab.output.renderOutput(dataTable, element);\n",
              "          const docLink = document.createElement('div');\n",
              "          docLink.innerHTML = docLinkHtml;\n",
              "          element.appendChild(docLink);\n",
              "        }\n",
              "      </script>\n",
              "    </div>\n",
              "  </div>\n",
              "  "
            ]
          },
          "metadata": {},
          "execution_count": 73
        }
      ]
    },
    {
      "cell_type": "code",
      "source": [
        "bank_all = pd.read_csv('bank-additional-full.csv').drop(columns=['month','day_of_week','campaign','poutcome','euribor3m','nr.employed'])\n",
        "bank_all\n",
        "#事先丟掉不想要的特徵\n",
        "#'age','job','marital','education','default','housing','loan','contact','month','day_of_week','duration','campaign','pdays','previous','poutcome','emp.var.rate','cons.price.idx','cons.conf.idx','euribor3m','nr.employed'"
      ],
      "metadata": {
        "id": "Ys2zvBmLz5u4",
        "colab": {
          "base_uri": "https://localhost:8080/",
          "height": 468
        },
        "outputId": "1bc5bb11-e741-4982-ec5a-ca7fd0142bde"
      },
      "execution_count": null,
      "outputs": [
        {
          "output_type": "execute_result",
          "data": {
            "text/plain": [
              "       age          job  marital            education  default housing loan  \\\n",
              "0       56    housemaid  married             basic.4y       no      no   no   \n",
              "1       57     services  married          high.school  unknown      no   no   \n",
              "2       37     services  married          high.school       no     yes   no   \n",
              "3       40       admin.  married             basic.6y       no      no   no   \n",
              "4       56     services  married          high.school       no      no  yes   \n",
              "...    ...          ...      ...                  ...      ...     ...  ...   \n",
              "41183   73      retired  married  professional.course       no     yes   no   \n",
              "41184   46  blue-collar  married  professional.course       no      no   no   \n",
              "41185   56      retired  married    university.degree       no     yes   no   \n",
              "41186   44   technician  married  professional.course       no      no   no   \n",
              "41187   74      retired  married  professional.course       no     yes   no   \n",
              "\n",
              "         contact  duration  pdays  previous  emp.var.rate  cons.price.idx  \\\n",
              "0      telephone       261    999         0           1.1          93.994   \n",
              "1      telephone       149    999         0           1.1          93.994   \n",
              "2      telephone       226    999         0           1.1          93.994   \n",
              "3      telephone       151    999         0           1.1          93.994   \n",
              "4      telephone       307    999         0           1.1          93.994   \n",
              "...          ...       ...    ...       ...           ...             ...   \n",
              "41183   cellular       334    999         0          -1.1          94.767   \n",
              "41184   cellular       383    999         0          -1.1          94.767   \n",
              "41185   cellular       189    999         0          -1.1          94.767   \n",
              "41186   cellular       442    999         0          -1.1          94.767   \n",
              "41187   cellular       239    999         1          -1.1          94.767   \n",
              "\n",
              "       cons.conf.idx    y  \n",
              "0              -36.4   no  \n",
              "1              -36.4   no  \n",
              "2              -36.4   no  \n",
              "3              -36.4   no  \n",
              "4              -36.4   no  \n",
              "...              ...  ...  \n",
              "41183          -50.8  yes  \n",
              "41184          -50.8   no  \n",
              "41185          -50.8   no  \n",
              "41186          -50.8  yes  \n",
              "41187          -50.8   no  \n",
              "\n",
              "[41188 rows x 15 columns]"
            ],
            "text/html": [
              "\n",
              "  <div id=\"df-992ca9f4-7304-4a93-a512-6d21a5e71122\">\n",
              "    <div class=\"colab-df-container\">\n",
              "      <div>\n",
              "<style scoped>\n",
              "    .dataframe tbody tr th:only-of-type {\n",
              "        vertical-align: middle;\n",
              "    }\n",
              "\n",
              "    .dataframe tbody tr th {\n",
              "        vertical-align: top;\n",
              "    }\n",
              "\n",
              "    .dataframe thead th {\n",
              "        text-align: right;\n",
              "    }\n",
              "</style>\n",
              "<table border=\"1\" class=\"dataframe\">\n",
              "  <thead>\n",
              "    <tr style=\"text-align: right;\">\n",
              "      <th></th>\n",
              "      <th>age</th>\n",
              "      <th>job</th>\n",
              "      <th>marital</th>\n",
              "      <th>education</th>\n",
              "      <th>default</th>\n",
              "      <th>housing</th>\n",
              "      <th>loan</th>\n",
              "      <th>contact</th>\n",
              "      <th>duration</th>\n",
              "      <th>pdays</th>\n",
              "      <th>previous</th>\n",
              "      <th>emp.var.rate</th>\n",
              "      <th>cons.price.idx</th>\n",
              "      <th>cons.conf.idx</th>\n",
              "      <th>y</th>\n",
              "    </tr>\n",
              "  </thead>\n",
              "  <tbody>\n",
              "    <tr>\n",
              "      <th>0</th>\n",
              "      <td>56</td>\n",
              "      <td>housemaid</td>\n",
              "      <td>married</td>\n",
              "      <td>basic.4y</td>\n",
              "      <td>no</td>\n",
              "      <td>no</td>\n",
              "      <td>no</td>\n",
              "      <td>telephone</td>\n",
              "      <td>261</td>\n",
              "      <td>999</td>\n",
              "      <td>0</td>\n",
              "      <td>1.1</td>\n",
              "      <td>93.994</td>\n",
              "      <td>-36.4</td>\n",
              "      <td>no</td>\n",
              "    </tr>\n",
              "    <tr>\n",
              "      <th>1</th>\n",
              "      <td>57</td>\n",
              "      <td>services</td>\n",
              "      <td>married</td>\n",
              "      <td>high.school</td>\n",
              "      <td>unknown</td>\n",
              "      <td>no</td>\n",
              "      <td>no</td>\n",
              "      <td>telephone</td>\n",
              "      <td>149</td>\n",
              "      <td>999</td>\n",
              "      <td>0</td>\n",
              "      <td>1.1</td>\n",
              "      <td>93.994</td>\n",
              "      <td>-36.4</td>\n",
              "      <td>no</td>\n",
              "    </tr>\n",
              "    <tr>\n",
              "      <th>2</th>\n",
              "      <td>37</td>\n",
              "      <td>services</td>\n",
              "      <td>married</td>\n",
              "      <td>high.school</td>\n",
              "      <td>no</td>\n",
              "      <td>yes</td>\n",
              "      <td>no</td>\n",
              "      <td>telephone</td>\n",
              "      <td>226</td>\n",
              "      <td>999</td>\n",
              "      <td>0</td>\n",
              "      <td>1.1</td>\n",
              "      <td>93.994</td>\n",
              "      <td>-36.4</td>\n",
              "      <td>no</td>\n",
              "    </tr>\n",
              "    <tr>\n",
              "      <th>3</th>\n",
              "      <td>40</td>\n",
              "      <td>admin.</td>\n",
              "      <td>married</td>\n",
              "      <td>basic.6y</td>\n",
              "      <td>no</td>\n",
              "      <td>no</td>\n",
              "      <td>no</td>\n",
              "      <td>telephone</td>\n",
              "      <td>151</td>\n",
              "      <td>999</td>\n",
              "      <td>0</td>\n",
              "      <td>1.1</td>\n",
              "      <td>93.994</td>\n",
              "      <td>-36.4</td>\n",
              "      <td>no</td>\n",
              "    </tr>\n",
              "    <tr>\n",
              "      <th>4</th>\n",
              "      <td>56</td>\n",
              "      <td>services</td>\n",
              "      <td>married</td>\n",
              "      <td>high.school</td>\n",
              "      <td>no</td>\n",
              "      <td>no</td>\n",
              "      <td>yes</td>\n",
              "      <td>telephone</td>\n",
              "      <td>307</td>\n",
              "      <td>999</td>\n",
              "      <td>0</td>\n",
              "      <td>1.1</td>\n",
              "      <td>93.994</td>\n",
              "      <td>-36.4</td>\n",
              "      <td>no</td>\n",
              "    </tr>\n",
              "    <tr>\n",
              "      <th>...</th>\n",
              "      <td>...</td>\n",
              "      <td>...</td>\n",
              "      <td>...</td>\n",
              "      <td>...</td>\n",
              "      <td>...</td>\n",
              "      <td>...</td>\n",
              "      <td>...</td>\n",
              "      <td>...</td>\n",
              "      <td>...</td>\n",
              "      <td>...</td>\n",
              "      <td>...</td>\n",
              "      <td>...</td>\n",
              "      <td>...</td>\n",
              "      <td>...</td>\n",
              "      <td>...</td>\n",
              "    </tr>\n",
              "    <tr>\n",
              "      <th>41183</th>\n",
              "      <td>73</td>\n",
              "      <td>retired</td>\n",
              "      <td>married</td>\n",
              "      <td>professional.course</td>\n",
              "      <td>no</td>\n",
              "      <td>yes</td>\n",
              "      <td>no</td>\n",
              "      <td>cellular</td>\n",
              "      <td>334</td>\n",
              "      <td>999</td>\n",
              "      <td>0</td>\n",
              "      <td>-1.1</td>\n",
              "      <td>94.767</td>\n",
              "      <td>-50.8</td>\n",
              "      <td>yes</td>\n",
              "    </tr>\n",
              "    <tr>\n",
              "      <th>41184</th>\n",
              "      <td>46</td>\n",
              "      <td>blue-collar</td>\n",
              "      <td>married</td>\n",
              "      <td>professional.course</td>\n",
              "      <td>no</td>\n",
              "      <td>no</td>\n",
              "      <td>no</td>\n",
              "      <td>cellular</td>\n",
              "      <td>383</td>\n",
              "      <td>999</td>\n",
              "      <td>0</td>\n",
              "      <td>-1.1</td>\n",
              "      <td>94.767</td>\n",
              "      <td>-50.8</td>\n",
              "      <td>no</td>\n",
              "    </tr>\n",
              "    <tr>\n",
              "      <th>41185</th>\n",
              "      <td>56</td>\n",
              "      <td>retired</td>\n",
              "      <td>married</td>\n",
              "      <td>university.degree</td>\n",
              "      <td>no</td>\n",
              "      <td>yes</td>\n",
              "      <td>no</td>\n",
              "      <td>cellular</td>\n",
              "      <td>189</td>\n",
              "      <td>999</td>\n",
              "      <td>0</td>\n",
              "      <td>-1.1</td>\n",
              "      <td>94.767</td>\n",
              "      <td>-50.8</td>\n",
              "      <td>no</td>\n",
              "    </tr>\n",
              "    <tr>\n",
              "      <th>41186</th>\n",
              "      <td>44</td>\n",
              "      <td>technician</td>\n",
              "      <td>married</td>\n",
              "      <td>professional.course</td>\n",
              "      <td>no</td>\n",
              "      <td>no</td>\n",
              "      <td>no</td>\n",
              "      <td>cellular</td>\n",
              "      <td>442</td>\n",
              "      <td>999</td>\n",
              "      <td>0</td>\n",
              "      <td>-1.1</td>\n",
              "      <td>94.767</td>\n",
              "      <td>-50.8</td>\n",
              "      <td>yes</td>\n",
              "    </tr>\n",
              "    <tr>\n",
              "      <th>41187</th>\n",
              "      <td>74</td>\n",
              "      <td>retired</td>\n",
              "      <td>married</td>\n",
              "      <td>professional.course</td>\n",
              "      <td>no</td>\n",
              "      <td>yes</td>\n",
              "      <td>no</td>\n",
              "      <td>cellular</td>\n",
              "      <td>239</td>\n",
              "      <td>999</td>\n",
              "      <td>1</td>\n",
              "      <td>-1.1</td>\n",
              "      <td>94.767</td>\n",
              "      <td>-50.8</td>\n",
              "      <td>no</td>\n",
              "    </tr>\n",
              "  </tbody>\n",
              "</table>\n",
              "<p>41188 rows × 15 columns</p>\n",
              "</div>\n",
              "      <button class=\"colab-df-convert\" onclick=\"convertToInteractive('df-992ca9f4-7304-4a93-a512-6d21a5e71122')\"\n",
              "              title=\"Convert this dataframe to an interactive table.\"\n",
              "              style=\"display:none;\">\n",
              "        \n",
              "  <svg xmlns=\"http://www.w3.org/2000/svg\" height=\"24px\"viewBox=\"0 0 24 24\"\n",
              "       width=\"24px\">\n",
              "    <path d=\"M0 0h24v24H0V0z\" fill=\"none\"/>\n",
              "    <path d=\"M18.56 5.44l.94 2.06.94-2.06 2.06-.94-2.06-.94-.94-2.06-.94 2.06-2.06.94zm-11 1L8.5 8.5l.94-2.06 2.06-.94-2.06-.94L8.5 2.5l-.94 2.06-2.06.94zm10 10l.94 2.06.94-2.06 2.06-.94-2.06-.94-.94-2.06-.94 2.06-2.06.94z\"/><path d=\"M17.41 7.96l-1.37-1.37c-.4-.4-.92-.59-1.43-.59-.52 0-1.04.2-1.43.59L10.3 9.45l-7.72 7.72c-.78.78-.78 2.05 0 2.83L4 21.41c.39.39.9.59 1.41.59.51 0 1.02-.2 1.41-.59l7.78-7.78 2.81-2.81c.8-.78.8-2.07 0-2.86zM5.41 20L4 18.59l7.72-7.72 1.47 1.35L5.41 20z\"/>\n",
              "  </svg>\n",
              "      </button>\n",
              "      \n",
              "  <style>\n",
              "    .colab-df-container {\n",
              "      display:flex;\n",
              "      flex-wrap:wrap;\n",
              "      gap: 12px;\n",
              "    }\n",
              "\n",
              "    .colab-df-convert {\n",
              "      background-color: #E8F0FE;\n",
              "      border: none;\n",
              "      border-radius: 50%;\n",
              "      cursor: pointer;\n",
              "      display: none;\n",
              "      fill: #1967D2;\n",
              "      height: 32px;\n",
              "      padding: 0 0 0 0;\n",
              "      width: 32px;\n",
              "    }\n",
              "\n",
              "    .colab-df-convert:hover {\n",
              "      background-color: #E2EBFA;\n",
              "      box-shadow: 0px 1px 2px rgba(60, 64, 67, 0.3), 0px 1px 3px 1px rgba(60, 64, 67, 0.15);\n",
              "      fill: #174EA6;\n",
              "    }\n",
              "\n",
              "    [theme=dark] .colab-df-convert {\n",
              "      background-color: #3B4455;\n",
              "      fill: #D2E3FC;\n",
              "    }\n",
              "\n",
              "    [theme=dark] .colab-df-convert:hover {\n",
              "      background-color: #434B5C;\n",
              "      box-shadow: 0px 1px 3px 1px rgba(0, 0, 0, 0.15);\n",
              "      filter: drop-shadow(0px 1px 2px rgba(0, 0, 0, 0.3));\n",
              "      fill: #FFFFFF;\n",
              "    }\n",
              "  </style>\n",
              "\n",
              "      <script>\n",
              "        const buttonEl =\n",
              "          document.querySelector('#df-992ca9f4-7304-4a93-a512-6d21a5e71122 button.colab-df-convert');\n",
              "        buttonEl.style.display =\n",
              "          google.colab.kernel.accessAllowed ? 'block' : 'none';\n",
              "\n",
              "        async function convertToInteractive(key) {\n",
              "          const element = document.querySelector('#df-992ca9f4-7304-4a93-a512-6d21a5e71122');\n",
              "          const dataTable =\n",
              "            await google.colab.kernel.invokeFunction('convertToInteractive',\n",
              "                                                     [key], {});\n",
              "          if (!dataTable) return;\n",
              "\n",
              "          const docLinkHtml = 'Like what you see? Visit the ' +\n",
              "            '<a target=\"_blank\" href=https://colab.research.google.com/notebooks/data_table.ipynb>data table notebook</a>'\n",
              "            + ' to learn more about interactive tables.';\n",
              "          element.innerHTML = '';\n",
              "          dataTable['output_type'] = 'display_data';\n",
              "          await google.colab.output.renderOutput(dataTable, element);\n",
              "          const docLink = document.createElement('div');\n",
              "          docLink.innerHTML = docLinkHtml;\n",
              "          element.appendChild(docLink);\n",
              "        }\n",
              "      </script>\n",
              "    </div>\n",
              "  </div>\n",
              "  "
            ]
          },
          "metadata": {},
          "execution_count": 74
        }
      ]
    },
    {
      "cell_type": "code",
      "source": [
        "bank_all.columns"
      ],
      "metadata": {
        "colab": {
          "base_uri": "https://localhost:8080/"
        },
        "id": "l4yQMfUmfuA4",
        "outputId": "b977a86a-ce5b-4dcc-b47a-4b19905db314"
      },
      "execution_count": null,
      "outputs": [
        {
          "output_type": "execute_result",
          "data": {
            "text/plain": [
              "Index(['age', 'job', 'marital', 'education', 'default', 'housing', 'loan',\n",
              "       'contact', 'duration', 'pdays', 'previous', 'emp.var.rate',\n",
              "       'cons.price.idx', 'cons.conf.idx', 'y'],\n",
              "      dtype='object')"
            ]
          },
          "metadata": {},
          "execution_count": 75
        }
      ]
    },
    {
      "cell_type": "code",
      "source": [
        "# bank.info()"
      ],
      "metadata": {
        "id": "pkZVzSWo2M-z"
      },
      "execution_count": null,
      "outputs": []
    },
    {
      "cell_type": "code",
      "source": [
        "bank_all.info()"
      ],
      "metadata": {
        "id": "oMlA3bIq2cGt",
        "colab": {
          "base_uri": "https://localhost:8080/"
        },
        "outputId": "54a61a0b-8616-4285-d679-5f05ec38b597"
      },
      "execution_count": null,
      "outputs": [
        {
          "output_type": "stream",
          "name": "stdout",
          "text": [
            "<class 'pandas.core.frame.DataFrame'>\n",
            "RangeIndex: 41188 entries, 0 to 41187\n",
            "Data columns (total 15 columns):\n",
            " #   Column          Non-Null Count  Dtype  \n",
            "---  ------          --------------  -----  \n",
            " 0   age             41188 non-null  int64  \n",
            " 1   job             41188 non-null  object \n",
            " 2   marital         41188 non-null  object \n",
            " 3   education       41188 non-null  object \n",
            " 4   default         41188 non-null  object \n",
            " 5   housing         41188 non-null  object \n",
            " 6   loan            41188 non-null  object \n",
            " 7   contact         41188 non-null  object \n",
            " 8   duration        41188 non-null  int64  \n",
            " 9   pdays           41188 non-null  int64  \n",
            " 10  previous        41188 non-null  int64  \n",
            " 11  emp.var.rate    41188 non-null  float64\n",
            " 12  cons.price.idx  41188 non-null  float64\n",
            " 13  cons.conf.idx   41188 non-null  float64\n",
            " 14  y               41188 non-null  object \n",
            "dtypes: float64(3), int64(4), object(8)\n",
            "memory usage: 4.7+ MB\n"
          ]
        }
      ]
    },
    {
      "cell_type": "markdown",
      "source": [
        "## 資料視覺化"
      ],
      "metadata": {
        "id": "yQMyv_gFgwYn"
      }
    },
    {
      "cell_type": "code",
      "source": [
        "bank_client = bank_all.iloc[: , 0:7] #僅取0-7作為特徵\n",
        "bank_client"
      ],
      "metadata": {
        "id": "YaWgKPeP-PaQ",
        "colab": {
          "base_uri": "https://localhost:8080/",
          "height": 424
        },
        "outputId": "7e2db46f-eb21-4ee8-9e0f-8238e9bba28c"
      },
      "execution_count": null,
      "outputs": [
        {
          "output_type": "execute_result",
          "data": {
            "text/plain": [
              "       age          job  marital            education  default housing loan\n",
              "0       56    housemaid  married             basic.4y       no      no   no\n",
              "1       57     services  married          high.school  unknown      no   no\n",
              "2       37     services  married          high.school       no     yes   no\n",
              "3       40       admin.  married             basic.6y       no      no   no\n",
              "4       56     services  married          high.school       no      no  yes\n",
              "...    ...          ...      ...                  ...      ...     ...  ...\n",
              "41183   73      retired  married  professional.course       no     yes   no\n",
              "41184   46  blue-collar  married  professional.course       no      no   no\n",
              "41185   56      retired  married    university.degree       no     yes   no\n",
              "41186   44   technician  married  professional.course       no      no   no\n",
              "41187   74      retired  married  professional.course       no     yes   no\n",
              "\n",
              "[41188 rows x 7 columns]"
            ],
            "text/html": [
              "\n",
              "  <div id=\"df-dd9a7f6f-d07b-49fa-b408-899fd9fe2508\">\n",
              "    <div class=\"colab-df-container\">\n",
              "      <div>\n",
              "<style scoped>\n",
              "    .dataframe tbody tr th:only-of-type {\n",
              "        vertical-align: middle;\n",
              "    }\n",
              "\n",
              "    .dataframe tbody tr th {\n",
              "        vertical-align: top;\n",
              "    }\n",
              "\n",
              "    .dataframe thead th {\n",
              "        text-align: right;\n",
              "    }\n",
              "</style>\n",
              "<table border=\"1\" class=\"dataframe\">\n",
              "  <thead>\n",
              "    <tr style=\"text-align: right;\">\n",
              "      <th></th>\n",
              "      <th>age</th>\n",
              "      <th>job</th>\n",
              "      <th>marital</th>\n",
              "      <th>education</th>\n",
              "      <th>default</th>\n",
              "      <th>housing</th>\n",
              "      <th>loan</th>\n",
              "    </tr>\n",
              "  </thead>\n",
              "  <tbody>\n",
              "    <tr>\n",
              "      <th>0</th>\n",
              "      <td>56</td>\n",
              "      <td>housemaid</td>\n",
              "      <td>married</td>\n",
              "      <td>basic.4y</td>\n",
              "      <td>no</td>\n",
              "      <td>no</td>\n",
              "      <td>no</td>\n",
              "    </tr>\n",
              "    <tr>\n",
              "      <th>1</th>\n",
              "      <td>57</td>\n",
              "      <td>services</td>\n",
              "      <td>married</td>\n",
              "      <td>high.school</td>\n",
              "      <td>unknown</td>\n",
              "      <td>no</td>\n",
              "      <td>no</td>\n",
              "    </tr>\n",
              "    <tr>\n",
              "      <th>2</th>\n",
              "      <td>37</td>\n",
              "      <td>services</td>\n",
              "      <td>married</td>\n",
              "      <td>high.school</td>\n",
              "      <td>no</td>\n",
              "      <td>yes</td>\n",
              "      <td>no</td>\n",
              "    </tr>\n",
              "    <tr>\n",
              "      <th>3</th>\n",
              "      <td>40</td>\n",
              "      <td>admin.</td>\n",
              "      <td>married</td>\n",
              "      <td>basic.6y</td>\n",
              "      <td>no</td>\n",
              "      <td>no</td>\n",
              "      <td>no</td>\n",
              "    </tr>\n",
              "    <tr>\n",
              "      <th>4</th>\n",
              "      <td>56</td>\n",
              "      <td>services</td>\n",
              "      <td>married</td>\n",
              "      <td>high.school</td>\n",
              "      <td>no</td>\n",
              "      <td>no</td>\n",
              "      <td>yes</td>\n",
              "    </tr>\n",
              "    <tr>\n",
              "      <th>...</th>\n",
              "      <td>...</td>\n",
              "      <td>...</td>\n",
              "      <td>...</td>\n",
              "      <td>...</td>\n",
              "      <td>...</td>\n",
              "      <td>...</td>\n",
              "      <td>...</td>\n",
              "    </tr>\n",
              "    <tr>\n",
              "      <th>41183</th>\n",
              "      <td>73</td>\n",
              "      <td>retired</td>\n",
              "      <td>married</td>\n",
              "      <td>professional.course</td>\n",
              "      <td>no</td>\n",
              "      <td>yes</td>\n",
              "      <td>no</td>\n",
              "    </tr>\n",
              "    <tr>\n",
              "      <th>41184</th>\n",
              "      <td>46</td>\n",
              "      <td>blue-collar</td>\n",
              "      <td>married</td>\n",
              "      <td>professional.course</td>\n",
              "      <td>no</td>\n",
              "      <td>no</td>\n",
              "      <td>no</td>\n",
              "    </tr>\n",
              "    <tr>\n",
              "      <th>41185</th>\n",
              "      <td>56</td>\n",
              "      <td>retired</td>\n",
              "      <td>married</td>\n",
              "      <td>university.degree</td>\n",
              "      <td>no</td>\n",
              "      <td>yes</td>\n",
              "      <td>no</td>\n",
              "    </tr>\n",
              "    <tr>\n",
              "      <th>41186</th>\n",
              "      <td>44</td>\n",
              "      <td>technician</td>\n",
              "      <td>married</td>\n",
              "      <td>professional.course</td>\n",
              "      <td>no</td>\n",
              "      <td>no</td>\n",
              "      <td>no</td>\n",
              "    </tr>\n",
              "    <tr>\n",
              "      <th>41187</th>\n",
              "      <td>74</td>\n",
              "      <td>retired</td>\n",
              "      <td>married</td>\n",
              "      <td>professional.course</td>\n",
              "      <td>no</td>\n",
              "      <td>yes</td>\n",
              "      <td>no</td>\n",
              "    </tr>\n",
              "  </tbody>\n",
              "</table>\n",
              "<p>41188 rows × 7 columns</p>\n",
              "</div>\n",
              "      <button class=\"colab-df-convert\" onclick=\"convertToInteractive('df-dd9a7f6f-d07b-49fa-b408-899fd9fe2508')\"\n",
              "              title=\"Convert this dataframe to an interactive table.\"\n",
              "              style=\"display:none;\">\n",
              "        \n",
              "  <svg xmlns=\"http://www.w3.org/2000/svg\" height=\"24px\"viewBox=\"0 0 24 24\"\n",
              "       width=\"24px\">\n",
              "    <path d=\"M0 0h24v24H0V0z\" fill=\"none\"/>\n",
              "    <path d=\"M18.56 5.44l.94 2.06.94-2.06 2.06-.94-2.06-.94-.94-2.06-.94 2.06-2.06.94zm-11 1L8.5 8.5l.94-2.06 2.06-.94-2.06-.94L8.5 2.5l-.94 2.06-2.06.94zm10 10l.94 2.06.94-2.06 2.06-.94-2.06-.94-.94-2.06-.94 2.06-2.06.94z\"/><path d=\"M17.41 7.96l-1.37-1.37c-.4-.4-.92-.59-1.43-.59-.52 0-1.04.2-1.43.59L10.3 9.45l-7.72 7.72c-.78.78-.78 2.05 0 2.83L4 21.41c.39.39.9.59 1.41.59.51 0 1.02-.2 1.41-.59l7.78-7.78 2.81-2.81c.8-.78.8-2.07 0-2.86zM5.41 20L4 18.59l7.72-7.72 1.47 1.35L5.41 20z\"/>\n",
              "  </svg>\n",
              "      </button>\n",
              "      \n",
              "  <style>\n",
              "    .colab-df-container {\n",
              "      display:flex;\n",
              "      flex-wrap:wrap;\n",
              "      gap: 12px;\n",
              "    }\n",
              "\n",
              "    .colab-df-convert {\n",
              "      background-color: #E8F0FE;\n",
              "      border: none;\n",
              "      border-radius: 50%;\n",
              "      cursor: pointer;\n",
              "      display: none;\n",
              "      fill: #1967D2;\n",
              "      height: 32px;\n",
              "      padding: 0 0 0 0;\n",
              "      width: 32px;\n",
              "    }\n",
              "\n",
              "    .colab-df-convert:hover {\n",
              "      background-color: #E2EBFA;\n",
              "      box-shadow: 0px 1px 2px rgba(60, 64, 67, 0.3), 0px 1px 3px 1px rgba(60, 64, 67, 0.15);\n",
              "      fill: #174EA6;\n",
              "    }\n",
              "\n",
              "    [theme=dark] .colab-df-convert {\n",
              "      background-color: #3B4455;\n",
              "      fill: #D2E3FC;\n",
              "    }\n",
              "\n",
              "    [theme=dark] .colab-df-convert:hover {\n",
              "      background-color: #434B5C;\n",
              "      box-shadow: 0px 1px 3px 1px rgba(0, 0, 0, 0.15);\n",
              "      filter: drop-shadow(0px 1px 2px rgba(0, 0, 0, 0.3));\n",
              "      fill: #FFFFFF;\n",
              "    }\n",
              "  </style>\n",
              "\n",
              "      <script>\n",
              "        const buttonEl =\n",
              "          document.querySelector('#df-dd9a7f6f-d07b-49fa-b408-899fd9fe2508 button.colab-df-convert');\n",
              "        buttonEl.style.display =\n",
              "          google.colab.kernel.accessAllowed ? 'block' : 'none';\n",
              "\n",
              "        async function convertToInteractive(key) {\n",
              "          const element = document.querySelector('#df-dd9a7f6f-d07b-49fa-b408-899fd9fe2508');\n",
              "          const dataTable =\n",
              "            await google.colab.kernel.invokeFunction('convertToInteractive',\n",
              "                                                     [key], {});\n",
              "          if (!dataTable) return;\n",
              "\n",
              "          const docLinkHtml = 'Like what you see? Visit the ' +\n",
              "            '<a target=\"_blank\" href=https://colab.research.google.com/notebooks/data_table.ipynb>data table notebook</a>'\n",
              "            + ' to learn more about interactive tables.';\n",
              "          element.innerHTML = '';\n",
              "          dataTable['output_type'] = 'display_data';\n",
              "          await google.colab.output.renderOutput(dataTable, element);\n",
              "          const docLink = document.createElement('div');\n",
              "          docLink.innerHTML = docLinkHtml;\n",
              "          element.appendChild(docLink);\n",
              "        }\n",
              "      </script>\n",
              "    </div>\n",
              "  </div>\n",
              "  "
            ]
          },
          "metadata": {},
          "execution_count": 78
        }
      ]
    },
    {
      "cell_type": "code",
      "source": [
        "print('Jobs:\\n', bank_client['job'].unique())\n",
        "print('age:\\n', bank_client['age'].unique())\n",
        "print('Education:\\n', bank_client['education'].unique())\n",
        "print('Default:\\n', bank_client['default'].unique())\n",
        "print('Housing:\\n', bank_client['housing'].unique())\n",
        "print('Loan:\\n', bank_client['loan'].unique()) #顯示出每個特徵變量"
      ],
      "metadata": {
        "id": "l8Bn5lCa-T0s",
        "colab": {
          "base_uri": "https://localhost:8080/"
        },
        "outputId": "b718fb77-3a1f-4de5-dd35-7c47e354ae1f"
      },
      "execution_count": null,
      "outputs": [
        {
          "output_type": "stream",
          "name": "stdout",
          "text": [
            "Jobs:\n",
            " ['housemaid' 'services' 'admin.' 'blue-collar' 'technician' 'retired'\n",
            " 'management' 'unemployed' 'self-employed' 'unknown' 'entrepreneur'\n",
            " 'student']\n",
            "age:\n",
            " [56 57 37 40 45 59 41 24 25 29 35 54 46 50 39 30 55 49 34 52 58 32 38 44\n",
            " 42 60 53 47 51 48 33 31 43 36 28 27 26 22 23 20 21 61 19 18 70 66 76 67\n",
            " 73 88 95 77 68 75 63 80 62 65 72 82 64 71 69 78 85 79 83 81 74 17 87 91\n",
            " 86 98 94 84 92 89]\n",
            "Education:\n",
            " ['basic.4y' 'high.school' 'basic.6y' 'basic.9y' 'professional.course'\n",
            " 'unknown' 'university.degree' 'illiterate']\n",
            "Default:\n",
            " ['no' 'unknown' 'yes']\n",
            "Housing:\n",
            " ['no' 'yes' 'unknown']\n",
            "Loan:\n",
            " ['no' 'yes' 'unknown']\n"
          ]
        }
      ]
    },
    {
      "cell_type": "code",
      "source": [
        "print('Min age: ', bank_client['age'].max())\n",
        "print('Max age: ', bank_client['age'].min())\n",
        "print('Null Values: ', bank_client['age'].isnull().any())"
      ],
      "metadata": {
        "id": "Gfac9b9T-l1n",
        "colab": {
          "base_uri": "https://localhost:8080/"
        },
        "outputId": "b3a59491-2a62-4efb-d708-760269d575a5"
      },
      "execution_count": null,
      "outputs": [
        {
          "output_type": "stream",
          "name": "stdout",
          "text": [
            "Min age:  98\n",
            "Max age:  17\n",
            "Null Values:  False\n"
          ]
        }
      ]
    },
    {
      "cell_type": "code",
      "source": [
        "fig, ax = plt.subplots() #畫圖\n",
        "fig.set_size_inches(20, 8) #圖的大小\n",
        "sns.countplot(x = 'age', data = bank_client) #抓取年齡資料\n",
        "ax.set_xlabel('Age', fontsize=15) #x軸\n",
        "ax.set_ylabel('Count', fontsize=15) #y軸\n",
        "ax.set_title('Age Count Distribution', fontsize=15) #圖表名稱\n",
        "sns.despine() #移除邊框"
      ],
      "metadata": {
        "id": "dLUtqlN1-pU6",
        "colab": {
          "base_uri": "https://localhost:8080/",
          "height": 520
        },
        "outputId": "de987760-34c7-41ec-9bfc-d8973a0332e1"
      },
      "execution_count": null,
      "outputs": [
        {
          "output_type": "display_data",
          "data": {
            "text/plain": [
              "<Figure size 1440x576 with 1 Axes>"
            ],
            "image/png": "[encoded data removed]"
          },
          "metadata": {
            "needs_background": "light"
          }
        }
      ]
    },
    {
      "cell_type": "code",
      "source": [
        "fig, (ax1, ax2) = plt.subplots(nrows = 1, ncols = 2, figsize = (8, 5)) #nrow列 ncols欄 figsize圖表大小\n",
        "sns.boxplot(x = 'age', data = bank_client, orient = 'v', ax = ax1)\n",
        "ax1.set_xlabel('People Age', fontsize=15)\n",
        "ax1.set_ylabel('Age', fontsize=15)\n",
        "ax1.set_title('Age Distribution', fontsize=15)\n",
        "ax1.tick_params(labelsize=15) #更改方格大小\n",
        "\n",
        "sns.distplot(bank_client['age'], ax = ax2)\n",
        "sns.despine(ax = ax2) #將兩個樣式大小相同\n",
        "ax2.set_xlabel('Age', fontsize=15)\n",
        "ax2.set_ylabel('Occurence', fontsize=15)\n",
        "ax2.set_title('Age x Ocucurence', fontsize=15)\n",
        "ax2.tick_params(labelsize=15)\n",
        "\n",
        "plt.subplots_adjust(wspace=0.6)\n",
        "plt.tight_layout() "
      ],
      "metadata": {
        "id": "4j_qaoRlEFBO",
        "colab": {
          "base_uri": "https://localhost:8080/",
          "height": 369
        },
        "outputId": "e17ea87f-dd30-4322-a203-db52481ec422"
      },
      "execution_count": null,
      "outputs": [
        {
          "output_type": "display_data",
          "data": {
            "text/plain": [
              "<Figure size 576x360 with 2 Axes>"
            ],
            "image/png": "[encoded data removed]"
          },
          "metadata": {
            "needs_background": "light"
          }
        }
      ]
    },
    {
      "cell_type": "code",
      "source": [
        "# 這家銀行的客戶有什麼樣的工作，如果違約 貸款 或住房 工作交叉比對，有沒有關係\n",
        "fig, ax = plt.subplots()\n",
        "fig.set_size_inches(20, 8)\n",
        "sns.countplot(x = 'job', data = bank_client)      #工作\n",
        "ax.set_xlabel('Job', fontsize=15)\n",
        "ax.set_ylabel('Job Count Distribution', fontsize=15)  #工作長條圖分佈   \n",
        "ax.tick_params(labelsize=15)\n",
        "sns.despine()"
      ],
      "metadata": {
        "colab": {
          "base_uri": "https://localhost:8080/",
          "height": 507
        },
        "id": "eHiZylLbg5Zw",
        "outputId": "e879337e-1ea2-49d8-b657-bcadbb007b6f"
      },
      "execution_count": null,
      "outputs": [
        {
          "output_type": "display_data",
          "data": {
            "text/plain": [
              "<Figure size 1440x576 with 1 Axes>"
            ],
            "image/png": "[encoded data removed]"
          },
          "metadata": {
            "needs_background": "light"
          }
        }
      ]
    },
    {
      "cell_type": "markdown",
      "source": [
        "## 資料預處理"
      ],
      "metadata": {
        "id": "oa3T4HPuHBUd"
      }
    },
    {
      "cell_type": "code",
      "source": [
        "# y=pd.get_dummies(bank['y'], columns = ['y'], prefix = ['y'], drop_first = True) #對y行資料進行one hot encoding\n",
        "# y_all=pd.get_dummies(bank_all['y'], columns = ['y'], prefix = ['y'], drop_first = True) #對y行資料進行one hot encoding"
      ],
      "metadata": {
        "id": "jWqmpo7H1-BY"
      },
      "execution_count": null,
      "outputs": []
    },
    {
      "cell_type": "code",
      "source": [
        "labelencoder_x = LabelEncoder() #類別型標籤編碼，對於非數值型數據進行資料預處理\n",
        "bank['job'] = labelencoder_x.fit_transform(bank['job']) \n",
        "bank['marital'] = labelencoder_x.fit_transform(bank['marital']) \n",
        "bank['education'] = labelencoder_x.fit_transform(bank['education'])\n",
        "bank['default'] = labelencoder_x.fit_transform(bank['default'])\n",
        "bank['housing'] = labelencoder_x.fit_transform(bank['housing'])\n",
        "bank['loan'] = labelencoder_x.fit_transform(bank['loan'])\n",
        "bank['contact'] = labelencoder_x.fit_transform(bank['contact'])\n",
        "bank['y'] = labelencoder_x.fit_transform(bank['y'])\n",
        "bank_all['job'] = labelencoder_x.fit_transform(bank_all['job']) \n",
        "bank_all['marital'] = labelencoder_x.fit_transform(bank_all['marital']) \n",
        "bank_all['education'] = labelencoder_x.fit_transform(bank_all['education'])\n",
        "bank_all['default'] = labelencoder_x.fit_transform(bank_all['default'])\n",
        "bank_all['housing'] = labelencoder_x.fit_transform(bank_all['housing'])\n",
        "bank_all['loan'] = labelencoder_x.fit_transform(bank_all['loan'])\n",
        "bank_all['contact'] = labelencoder_x.fit_transform(bank_all['contact'])\n",
        "bank_all['y'] = labelencoder_x.fit_transform(bank_all['y'])"
      ],
      "metadata": {
        "id": "boQfCO1AHZh_"
      },
      "execution_count": null,
      "outputs": []
    },
    {
      "cell_type": "code",
      "source": [
        "# x_train = bank[['age','job','marital','education']] #要輸入的訓練特徵\n",
        "# #pd.get_dummies(bank, columns = ['job','marital','education'], prefix = ['job','marital','education'] ,drop_first = True)\n",
        "# y_train = pd.get_dummies(bank_y, columns = ['y'], prefix = ['y'] , drop_first = True) #輸入x將預測的y，用來訓練模型用，這裡y是指銀行行銷是否成功\n",
        "# x_test = bank_all[['age','job','marital','education']] #要輸入的測試特徵\n",
        "# #pd.get_dummies(bank_all, columns = ['job','marital','education'], prefix = ['job','marital','education'] ,drop_first = True)\n",
        "# y_test = pd.get_dummies(bank_all_y, columns = ['y'], prefix = ['y'], drop_first = True) #計算出正解y與模型結果的準確率\n",
        "# #訓練集為bank-additional.csv 測試集為bank-additional-full.csv"
      ],
      "metadata": {
        "id": "a7Ezhjw6hE7G"
      },
      "execution_count": null,
      "outputs": []
    },
    {
      "cell_type": "code",
      "source": [
        "x_train = bank.drop(columns=['y']) #輸入要的訓練特徵,除了'y'行其他特徵都要\n",
        "y_train = bank['y'] #輸入x將預測的y，用來訓練模型用，這裡y是指銀行行銷是否成功\n",
        "x_test = bank_all.drop(columns=['y']) #輸入要的測試特徵,除了'y'行其他特徵都要\n",
        "y_test = bank_all['y'] #計算出正解y與模型結果的準確率\n",
        "#訓練集為bank-additional.csv 測試集為bank-additional-full.csv"
      ],
      "metadata": {
        "id": "lvZ1kE0xXoaM"
      },
      "execution_count": null,
      "outputs": []
    },
    {
      "cell_type": "markdown",
      "source": [
        "## Model"
      ],
      "metadata": {
        "id": "btr6WK5Ke0Hv"
      }
    },
    {
      "cell_type": "code",
      "source": [
        "from sklearn.linear_model import LogisticRegression #採用邏輯式回歸模型\n",
        "logmodel = LogisticRegression() \n",
        "logmodel.fit(x_train,y_train)\n",
        "logpred = logmodel.predict(x_test)\n",
        "confu_log = confusion_matrix(y_test, logpred)\n",
        "print(confu_log)\n",
        "print(round(accuracy_score(y_test, logpred),4)*100,'%')\n",
        "LOGCV = (cross_val_score(logmodel, x_train, y_train, scoring = 'accuracy').mean())\n",
        "fig, ax = plt.subplots(figsize=(10,10))\n",
        "ax.matshow(confu_log, cmap=plt.cm.Blues, alpha=0.3)\n",
        "for i in range(confu_log.shape[0]):\n",
        "    for j in range(confu_log.shape[1]):\n",
        "        ax.text(x=j, y=i, s=confu_log[i,j], va='center', ha='center')\n",
        "plt.xlabel('predicted label')        \n",
        "plt.ylabel('true label')\n",
        "plt.show()\n",
        "#yes=1 , no=0"
      ],
      "metadata": {
        "colab": {
          "base_uri": "https://localhost:8080/",
          "height": 658
        },
        "id": "3qhyG6xXBr7B",
        "outputId": "5c457781-4970-4dca-e4a0-7c9193477510"
      },
      "execution_count": null,
      "outputs": [
        {
          "output_type": "stream",
          "name": "stdout",
          "text": [
            "[[35589   959]\n",
            " [ 2916  1724]]\n",
            "90.59 %\n"
          ]
        },
        {
          "output_type": "display_data",
          "data": {
            "text/plain": [
              "<Figure size 720x720 with 1 Axes>"
            ],
            "image/png": "[encoded data removed]"
          },
          "metadata": {
            "needs_background": "light"
          }
        }
      ]
    },
    {
      "cell_type": "code",
      "source": [
        "from sklearn.svm import SVC #採用SVC支援向量機模型\n",
        "svc= SVC(kernel = 'sigmoid')\n",
        "svc.fit(x_train, y_train)\n",
        "svcpred = svc.predict(x_test)\n",
        "confu_svc=confusion_matrix(y_test, svcpred)\n",
        "print(confu_svc)\n",
        "print(round(accuracy_score(y_test, svcpred),4)*100,'%')\n",
        "SVCCV = (cross_val_score(svc, x_train, y_train,scoring = 'accuracy').mean())\n",
        "fig, ax = plt.subplots(figsize=(10,10))\n",
        "ax.matshow(confu_svc, cmap=plt.cm.Blues, alpha=0.3)\n",
        "for i in range(confu_svc.shape[0]):\n",
        "    for j in range(confu_svc.shape[1]):\n",
        "        ax.text(x=j, y=i, s=confu_svc[i,j], va='center', ha='center')\n",
        "plt.xlabel('predicted label')        \n",
        "plt.ylabel('true label')\n",
        "plt.show()\n",
        "#yes=1 , no=0"
      ],
      "metadata": {
        "id": "nk6euce5Br0T",
        "colab": {
          "base_uri": "https://localhost:8080/",
          "height": 658
        },
        "outputId": "8536c596-48a4-442b-bb40-e95d4836c3f4"
      },
      "execution_count": null,
      "outputs": [
        {
          "output_type": "stream",
          "name": "stdout",
          "text": [
            "[[36293   255]\n",
            " [ 3851   789]]\n",
            "90.03 %\n"
          ]
        },
        {
          "output_type": "display_data",
          "data": {
            "text/plain": [
              "<Figure size 720x720 with 1 Axes>"
            ],
            "image/png": "[encoded data removed]"
          },
          "metadata": {
            "needs_background": "light"
          }
        }
      ]
    },
    {
      "cell_type": "code",
      "source": [
        "from sklearn.neighbors import KNeighborsClassifier #採用K近鄰投票算法分類器模型\n",
        "knn = KNeighborsClassifier(n_neighbors=25)\n",
        "knn.fit(x_train,y_train)\n",
        "knnpred=knn.predict(x_test)\n",
        "confu_knn=confusion_matrix(y_test, knnpred)\n",
        "print(confusion_matrix(y_test,knnpred))\n",
        "print(round(accuracy_score(y_test, knnpred),4)*100,'%')\n",
        "KNNCV = (cross_val_score(knn, x_train, y_train,scoring = 'accuracy').mean())\n",
        "fig, ax = plt.subplots(figsize=(10,10))\n",
        "ax.matshow(confu_knn, cmap=plt.cm.Blues, alpha=0.3)\n",
        "for i in range(confu_knn.shape[0]):\n",
        "  for j in range(confu_knn.shape[1]):\n",
        "    ax.text(x=j, y=i, s=confu_knn[i,j], va='center', ha='center')\n",
        "plt.xlabel('predicted label')        \n",
        "plt.ylabel('true label')\n",
        "plt.show()\n",
        "#yes=1 , no=0"
      ],
      "metadata": {
        "colab": {
          "base_uri": "https://localhost:8080/",
          "height": 658
        },
        "id": "ktnPh_qXam0X",
        "outputId": "49250e46-9458-4557-d3a1-7711690b3c06"
      },
      "execution_count": null,
      "outputs": [
        {
          "output_type": "stream",
          "name": "stdout",
          "text": [
            "[[35649   899]\n",
            " [ 2995  1645]]\n",
            "90.55 %\n"
          ]
        },
        {
          "output_type": "display_data",
          "data": {
            "text/plain": [
              "<Figure size 720x720 with 1 Axes>"
            ],
            "image/png": "[encoded data removed]"
          },
          "metadata": {
            "needs_background": "light"
          }
        }
      ]
    },
    {
      "cell_type": "code",
      "source": [
        "from sklearn.ensemble import RandomForestClassifier #採用隨機分類森林\n",
        "rfc = RandomForestClassifier(n_estimators = 200)#criterion = entopy,gini\n",
        "rfc.fit(x_train, y_train)\n",
        "rfcpred = rfc.predict(x_test)\n",
        "confu_rfc=confusion_matrix(y_test, rfcpred)\n",
        "\n",
        "print(confu_rfc)\n",
        "print(round(accuracy_score(y_test, rfcpred),4)*100,'%')\n",
        "RFCCV = (cross_val_score(rfc, x_train, y_train, scoring = 'accuracy').mean())\n",
        "fig, ax = plt.subplots(figsize=(10,10))\n",
        "ax.matshow(confu_rfc, cmap=plt.cm.Blues, alpha=0.3)\n",
        "for i in range(confu_rfc.shape[0]):\n",
        "    for j in range(confu_rfc.shape[1]):\n",
        "        ax.text(x=j, y=i, s=confu_rfc[i,j], va='center', ha='center')\n",
        "plt.xlabel('predicted label')        \n",
        "plt.ylabel('true label')\n",
        "plt.show()\n",
        "#yes=1 , no=0"
      ],
      "metadata": {
        "colab": {
          "base_uri": "https://localhost:8080/",
          "height": 658
        },
        "id": "8EEmYwvua5UL",
        "outputId": "a48f9e6c-a09b-4301-b424-a6449c553097"
      },
      "execution_count": null,
      "outputs": [
        {
          "output_type": "stream",
          "name": "stdout",
          "text": [
            "[[35516  1032]\n",
            " [ 2389  2251]]\n",
            "91.69 %\n"
          ]
        },
        {
          "output_type": "display_data",
          "data": {
            "text/plain": [
              "<Figure size 720x720 with 1 Axes>"
            ],
            "image/png": "[encoded data removed]"
          },
          "metadata": {
            "needs_background": "light"
          }
        }
      ]
    },
    {
      "cell_type": "markdown",
      "source": [
        "##Score\n",
        "\n",
        "$$\\text{Precision}= {TP \\over TP + FP }$$\n",
        "\n",
        "$$\\text{Recall}= {TP \\over TP + FN }$$\n",
        "\n",
        "$$\\text{Accuracy}= {TP + TN \\over TP + FP + FN +TN }$$\n",
        "\n",
        "$$\\text{F1-score}= 2 \\times {(Precision \\times Recall) \\over (Precision + Recall) }$$"
      ],
      "metadata": {
        "id": "GQjk3E8yQQ1c"
      }
    },
    {
      "cell_type": "code",
      "source": [
        "TP_log=confu_log[0,0]\n",
        "FP_log=confu_log[0,1]\n",
        "FN_log=confu_log[1,0]\n",
        "TN_log=confu_log[1,1]\n",
        "Precision_log=round((TP_log/(TP_log+FP_log)),4)*100\n",
        "Recall_log=round((TP_log/(TP_log+FN_log)),4)*100\n",
        "Accuracy_log = round(((TP_log+TN_log)/(TP_log+FP_log+FN_log+TN_log)),4)*100\n",
        "F1_score_log = round((2*Precision_log*Recall_log/(Precision_log+Recall_log)),2)\n",
        "print('LogisticRegression:')\n",
        "print('\\tPrecision:', Precision_log,'%') #準確率\n",
        "print('\\tRecall:', Recall_log,'%') #召回率\n",
        "print('\\tAccuracy:', Accuracy_log,'%') #精確率\n",
        "print('\\tF1-score:', F1_score_log,'%')\n",
        "#F1-score：是「precision」和「recall」的調和平均數（harmonic mean），可看作是該二指標的綜合指標"
      ],
      "metadata": {
        "id": "3NcOHkRphZry",
        "colab": {
          "base_uri": "https://localhost:8080/"
        },
        "outputId": "db9860d8-bef3-459b-f303-593b058c2983"
      },
      "execution_count": null,
      "outputs": [
        {
          "output_type": "stream",
          "name": "stdout",
          "text": [
            "LogisticRegression:\n",
            "\tPrecision: 97.38 %\n",
            "\tRecall: 92.43 %\n",
            "\tAccuracy: 90.59 %\n",
            "\tF1-score: 94.84 %\n"
          ]
        }
      ]
    },
    {
      "cell_type": "code",
      "source": [
        "TP_svc=confu_svc[0,0]\n",
        "FP_svc=confu_svc[0,1]\n",
        "FN_svc=confu_svc[1,0]\n",
        "TN_svc=confu_svc[1,1]\n",
        "Precision_svc=round((TP_svc/(TP_svc+FP_svc)),4)*100\n",
        "Recall_svc=round((TP_svc/(TP_svc+FN_svc)),4)*100\n",
        "Accuracy_svc = round(((TP_svc+TN_svc)/(TP_svc+FP_svc+FN_svc+TN_svc)),4)*100\n",
        "F1_score_svc = round((2*Precision_svc*Recall_svc/(Precision_svc+Recall_svc)),2)\n",
        "print('SVC:')\n",
        "print('\\tPrecision:', Precision_svc,'%') #準確率\n",
        "print('\\tRecall:', Recall_svc,'%') #召回率\n",
        "print('\\tAccuracy:', Accuracy_svc,'%') #精確率\n",
        "print('\\tF1-score:', F1_score_svc,'%')\n",
        "#F1-score：是「precision」和「recall」的調和平均數（harmonic mean），可看作是該二指標的綜合指標"
      ],
      "metadata": {
        "colab": {
          "base_uri": "https://localhost:8080/"
        },
        "id": "ujr9WRwl_VAh",
        "outputId": "19871b3e-1d95-4c43-d215-42a35859a4ce"
      },
      "execution_count": null,
      "outputs": [
        {
          "output_type": "stream",
          "name": "stdout",
          "text": [
            "SVC:\n",
            "\tPrecision: 99.3 %\n",
            "\tRecall: 90.41 %\n",
            "\tAccuracy: 90.03 %\n",
            "\tF1-score: 94.65 %\n"
          ]
        }
      ]
    },
    {
      "cell_type": "code",
      "source": [
        "TP_knn=confu_knn[0,0]\n",
        "FP_knn=confu_knn[0,1]\n",
        "FN_knn=confu_knn[1,0]\n",
        "TN_knn=confu_knn[1,1]\n",
        "Precision_knn=round((TP_knn/(TP_knn+FP_knn)),4)*100\n",
        "Recall_knn=round((TP_knn/(TP_knn+FN_knn)),4)*100\n",
        "Accuracy_knn = round(((TP_knn+TN_knn)/(TP_knn+FP_knn+FN_knn+TN_knn)),4)*100\n",
        "F1_score_knn = round((2*Precision_knn*Recall_knn/(Precision_knn+Recall_knn)),2)\n",
        "print('KNeighborsClassifier:')\n",
        "print('\\tPrecision:', Precision_knn,'%') #準確率\n",
        "print('\\tRecall:', Recall_knn,'%') #召回率\n",
        "print('\\tAccuracy:', Accuracy_knn,'%') #精確率\n",
        "print('\\tF1-score:', F1_score_knn,'%')\n",
        "#F1-score：是「precision」和「recall」的調和平均數（harmonic mean），可看作是該二指標的綜合指標"
      ],
      "metadata": {
        "colab": {
          "base_uri": "https://localhost:8080/"
        },
        "id": "8q-1OgLjKNRo",
        "outputId": "c0f7516a-f553-40c9-9044-187ed6146b27"
      },
      "execution_count": null,
      "outputs": [
        {
          "output_type": "stream",
          "name": "stdout",
          "text": [
            "KNeighborsClassifier:\n",
            "\tPrecision: 97.54 %\n",
            "\tRecall: 92.25 %\n",
            "\tAccuracy: 90.55 %\n",
            "\tF1-score: 94.82 %\n"
          ]
        }
      ]
    },
    {
      "cell_type": "code",
      "source": [
        "TP_rfc=confu_rfc[0,0]\n",
        "FP_rfc=confu_rfc[0,1]\n",
        "FN_rfc=confu_rfc[1,0]\n",
        "TN_rfc=confu_rfc[1,1]\n",
        "Precision_rfc=round((TP_rfc/(TP_rfc+FP_rfc)),4)*100\n",
        "Recall_rfc=round((TP_rfc/(TP_rfc+FN_rfc)),4)*100\n",
        "Accuracy_rfc = round(((TP_rfc+TN_rfc)/(TP_rfc+FP_rfc+FN_rfc+TN_rfc)),4)*100\n",
        "F1_score_rfc = round((2*Precision_rfc*Recall_rfc/(Precision_rfc+Recall_rfc)),2)\n",
        "print('RandomForestClassifier:')\n",
        "print('\\tPrecision:', Precision_rfc,'%') #準確率\n",
        "print('\\tRecall:', Recall_rfc,'%') #召回率\n",
        "print('\\tAccuracy:', Accuracy_rfc,'%') #精確率\n",
        "print('\\tF1-score:', F1_score_rfc,'%')\n",
        "#F1-score：是「precision」和「recall」的調和平均數（harmonic mean），可看作是該二指標的綜合指標"
      ],
      "metadata": {
        "colab": {
          "base_uri": "https://localhost:8080/"
        },
        "id": "Q1sys1ZfKbjN",
        "outputId": "1a802e21-57f8-407b-9c21-610c7fb18fdf"
      },
      "execution_count": null,
      "outputs": [
        {
          "output_type": "stream",
          "name": "stdout",
          "text": [
            "RandomForestClassifier:\n",
            "\tPrecision: 97.18 %\n",
            "\tRecall: 93.7 %\n",
            "\tAccuracy: 91.69 %\n",
            "\tF1-score: 95.41 %\n"
          ]
        }
      ]
    },
    {
      "cell_type": "markdown",
      "source": [
        "##Result"
      ],
      "metadata": {
        "id": "qMTJjJ_JQjA4"
      }
    },
    {
      "cell_type": "code",
      "source": [
        "col_name=['LogisticRegression','SVC','KNeighborsClassifier','RandomForestClassifier']\n",
        "row_name=['Precision','Recall','Accuracy','F1-score']\n",
        "score_data=[[Precision_log,Precision_svc,Precision_knn,Precision_rfc],\n",
        "            [Recall_log,Recall_svc,Recall_knn,Recall_rfc],\n",
        "            [Accuracy_log,Accuracy_svc,Accuracy_knn,Accuracy_rfc],\n",
        "            [F1_score_log,F1_score_svc,F1_score_knn,F1_score_rfc]]"
      ],
      "metadata": {
        "id": "CngUSybrKumh"
      },
      "execution_count": null,
      "outputs": []
    },
    {
      "cell_type": "code",
      "source": [
        "plt.figure(figsize=(20,8))\n",
        "tab = plt.table(cellText=score_data,\n",
        "                colLabels=col_name,\n",
        "                rowLabels=row_name,\n",
        "                loc='center',\n",
        "                cellLoc='center',\n",
        "                rowLoc='center')\n",
        "tab.scale(1,4)\n",
        "plt.axis('off')"
      ],
      "metadata": {
        "colab": {
          "base_uri": "https://localhost:8080/",
          "height": 483
        },
        "id": "JZhhhiZBTRmR",
        "outputId": "232065c2-eb59-49d7-8fab-c457718dd1dd"
      },
      "execution_count": null,
      "outputs": [
        {
          "output_type": "execute_result",
          "data": {
            "text/plain": [
              "(0.0, 1.0, 0.0, 1.0)"
            ]
          },
          "metadata": {},
          "execution_count": 101
        },
        {
          "output_type": "display_data",
          "data": {
            "text/plain": [
              "<Figure size 1440x576 with 1 Axes>"
            ],
            "image/png": "[encoded data removed]"
          },
          "metadata": {
            "needs_background": "light"
          }
        }
      ]
    }
  ]
}